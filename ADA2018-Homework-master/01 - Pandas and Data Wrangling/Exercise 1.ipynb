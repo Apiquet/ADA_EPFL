{
 "cells": [
  {
   "cell_type": "markdown",
   "metadata": {},
   "source": [
    "# Exercise 1\n",
    " <p><div class=\"lev1\"><a href=\"#Task-A.-Another-LEGO-brick-in-the-wall\"><span class=\"toc-item-num\">Task A.&nbsp;&nbsp;</span>Another LEGO brick in the wall</a></div>\n",
    " <p><div class=\"lev1\"><a href=\"#Task-B.-Drop-the-Bike\"><span class=\"toc-item-num\">Task B.&nbsp;&nbsp;</span>Drop the Bike</a></div>"
   ]
  },
  {
   "cell_type": "code",
   "execution_count": 23,
   "metadata": {},
   "outputs": [],
   "source": [
    "%matplotlib inline\n",
    "import pandas as pd\n",
    "import numpy as np\n",
    "import matplotlib.pyplot as plt\n",
    "import seaborn as sns"
   ]
  },
  {
   "cell_type": "code",
   "execution_count": 28,
   "metadata": {},
   "outputs": [],
   "source": [
    "DATA_FOLDER = r'C:\\Users\\antho\\Documents\\GitHub\\ADA_EPFL\\ADA2018-Homework-master/01 - Pandas and Data Wrangling/data'"
   ]
  },
  {
   "cell_type": "markdown",
   "metadata": {},
   "source": [
    "## Task A. Another LEGO brick in the wall\n",
    "\n",
    "LEGO is a popular brand of toy building bricks. They are often sold in sets in order to build a specific object. Each set contains a number of parts in different shapes, sizes and colors. This database contains information on which parts are included in different LEGO sets. It was originally compiled to help people who owned some LEGO sets already figure out what other sets they could build with the pieces they had.\n",
    "\n",
    "This dataset contains the official LEGO colors, parts, inventories (i.e., sets of LEGO parts which assembled create an object in the LEGO world) and sets (i.e., sets of LEGO inventories which assembled create a LEGO ecosystem). The schema of the dataset can be shown in the following UML diagram: \n",
    "\n",
    "![lego-schema](lego-schema.png)\n",
    "\n",
    "In this task you have to apply the following Data Wrangling pipeline:\n",
    "1. Load your data into `Pandas`\n",
    "* Explore it and clean its dirty parts\n",
    "* Use it to answer a set of queries\n",
    "\n",
    "Each of these subtasks are described in detail below."
   ]
  },
  {
   "cell_type": "markdown",
   "metadata": {},
   "source": [
    "### A1. Loading phase\n",
    "Load all the csv files into different `DataFrames`. Use meaningful names for your `DataFrames` (e.g., the respective filenames).\n",
    "\n",
    "*Hint: You can load files without first unzipping them (for `Pandas` version >= 0.18.1).*"
   ]
  },
  {
   "cell_type": "code",
   "execution_count": 29,
   "metadata": {},
   "outputs": [],
   "source": [
    "LEGO_DATA_FOLDER = DATA_FOLDER + '/lego'"
   ]
  },
  {
   "cell_type": "code",
   "execution_count": 30,
   "metadata": {},
   "outputs": [],
   "source": [
    "#Data declarations\n",
    "sets = pd.read_csv(LEGO_DATA_FOLDER + \"/sets.csv.zip\")\n",
    "colors = pd.read_csv(LEGO_DATA_FOLDER + \"/colors.csv.zip\")\n",
    "inventories = pd.read_csv(LEGO_DATA_FOLDER + \"/inventories.csv.zip\")\n",
    "inventory_parts = pd.read_csv(LEGO_DATA_FOLDER + \"/inventory_parts.csv.zip\")\n",
    "inventory_sets = pd.read_csv(LEGO_DATA_FOLDER + \"/inventory_sets.csv.zip\")\n",
    "part_categories = pd.read_csv(LEGO_DATA_FOLDER + \"/part_categories.csv.zip\")\n",
    "parts = pd.read_csv(LEGO_DATA_FOLDER + \"/parts.csv.zip\")\n",
    "themes = pd.read_csv(LEGO_DATA_FOLDER + \"/themes.csv.zip\")"
   ]
  },
  {
   "cell_type": "markdown",
   "metadata": {},
   "source": [
    "### A2. Cleaning phase\n",
    "Explore the following columns from your dataset:\n",
    "\n",
    "1. sets: year\n",
    "* inventory_parts: quantity\n",
    "\n",
    "What is the time range of the sets? \n",
    "What is the average quantity of the inventory parts? \n",
    "Do you see any inconsistencies? \n",
    "Provide code that detects and cleans such inconsistencies and validates the coherence of your dataset. "
   ]
  },
  {
   "cell_type": "code",
   "execution_count": 31,
   "metadata": {},
   "outputs": [
    {
     "data": {
      "text/plain": [
       "0     70s\n",
       "1    1978\n",
       "2    1987\n",
       "3    1979\n",
       "4    1979\n",
       "Name: year, dtype: object"
      ]
     },
     "execution_count": 31,
     "metadata": {},
     "output_type": "execute_result"
    }
   ],
   "source": [
    "#print first few rows of year column\n",
    "sets.year.head()"
   ]
  },
  {
   "cell_type": "code",
   "execution_count": 32,
   "metadata": {
    "scrolled": true
   },
   "outputs": [
    {
     "data": {
      "text/plain": [
       "array(['70s', '1978', '1987', '1979', '19788', '1976', '1965', '1985',\n",
       "       '1968', '1999', '1967', '1969', '2001', '20011', '1966', '2003',\n",
       "       '2002', '20022', '-2003', '20033', '-2002', '20044', '2004',\n",
       "       '2006', '20055', '2005', '-2004', '-2006', '-2010', '-2005',\n",
       "       '20066', '2007', '20077', '2008', '20088', '-2009', '2009',\n",
       "       '20099', '2010', '20100', '-2011', '2011', '20111', '2012',\n",
       "       '20122', '-2013', '2013', '20133', '20144', '-20144', '2015',\n",
       "       '2014', '-2014', '20155', '-2015', '2016', '20166', '-2016',\n",
       "       '2017', '1977', '1983', '1986', '1984', '1973', '-2012', '-20155',\n",
       "       '1981', '-2000', '80s', '1982', '1988', '20177', '-2017', '-1999',\n",
       "       '19999', '-1986', '1997', '1998', '1971', '-1966', '-1977',\n",
       "       '-1981', '-1985', '20000', '2000', '-20000', '1955', '1956',\n",
       "       '1957', '-1982', '-1969', '19822', '19555', '1958', '-2001',\n",
       "       '1974', '1972', '19988', '-1998', '19877', '19855', '19777',\n",
       "       '1975', '-1987', '-1979', '1992', '1991', '-1991', '1989', '1990',\n",
       "       '1993', '-1992', '-1989', '1994', '19944', '-1994', '1996',\n",
       "       '19899', '19900', '19922', '1995', '-1995', '19966', '-1997',\n",
       "       '19722', '19955', '19933', '1959', '1962', '-2008', '-20122',\n",
       "       '1961', '19977', '1960', '1963', '1964', '19666', '-1975',\n",
       "       '-20133', '-19999', '-20033', '-1973', '-1980', '-1984', '-1971',\n",
       "       '-2007', '-20077', '-20166', '-20011', '-20022', '19799', '19911',\n",
       "       '-20044', '19622', '-1962', '-19977', '19844', '-20099', '19866',\n",
       "       '-1993', '-1996', '-1983', '-1988', '-20066', '19888', '1950',\n",
       "       '1953', '1954', '19811', '19800', '19833', '-20100', '-20111',\n",
       "       '19699'], dtype=object)"
      ]
     },
     "execution_count": 32,
     "metadata": {},
     "output_type": "execute_result"
    }
   ],
   "source": [
    "#identify unique year values\n",
    "sets.year.unique()"
   ]
  },
  {
   "cell_type": "markdown",
   "metadata": {},
   "source": [
    "<u><b><font color='green'>ANSWERS:</font></b></u><br><br>\n",
    "\n",
    "As we see, there are some invalid year entries in sets dataset. For example, there are some negative years and 5 digit years. As well as entries like 70s and 80s instead of 1970 and 1980"
   ]
  },
  {
   "cell_type": "code",
   "execution_count": 33,
   "metadata": {},
   "outputs": [
    {
     "name": "stderr",
     "output_type": "stream",
     "text": [
      "C:\\Users\\antho\\Anaconda3\\lib\\site-packages\\ipykernel_launcher.py:8: SettingWithCopyWarning: \n",
      "A value is trying to be set on a copy of a slice from a DataFrame\n",
      "\n",
      "See the caveats in the documentation: http://pandas.pydata.org/pandas-docs/stable/indexing.html#indexing-view-versus-copy\n",
      "  \n"
     ]
    },
    {
     "data": {
      "text/plain": [
       "array([1970, 1978, 1987, 1979, 1976, 1965, 1985, 1968, 1999, 1967, 1969,\n",
       "       2001, 1966, 2003, 2002, 2004, 2006, 2005, 2010, 2007, 2008, 2009,\n",
       "       2011, 2012, 2013, 2014, 2015, 2016, 2017, 1977, 1983, 1986, 1984,\n",
       "       1973, 1981, 2000, 1980, 1982, 1988, 1997, 1998, 1971, 1955, 1956,\n",
       "       1957, 1958, 1974, 1972, 1975, 1992, 1991, 1989, 1990, 1993, 1994,\n",
       "       1996, 1995, 1959, 1962, 1961, 1960, 1963, 1964, 1950, 1953, 1954],\n",
       "      dtype=int64)"
      ]
     },
     "execution_count": 33,
     "metadata": {},
     "output_type": "execute_result"
    }
   ],
   "source": [
    "#replacing 70s and 80s to 1970 and 1980\n",
    "sets.replace(to_replace='70s',value='1970', inplace=True)\n",
    "sets.replace(to_replace='80s',value='1980',inplace=True)\n",
    "sets.year = sets.year.astype(int)\n",
    "#taking absolute value\n",
    "sets.year = abs(sets.year)\n",
    "#fixing typing error for 5 digits numbers, example: 19555//10 = 1955\n",
    "sets.year[sets['year'].astype(str).str.len() == 5] = sets.year[sets['year'].astype(str).str.len() == 5]//10\n",
    "\n",
    "sets.year.unique()"
   ]
  },
  {
   "cell_type": "code",
   "execution_count": 73,
   "metadata": {},
   "outputs": [
    {
     "data": {
      "text/html": [
       "<div>\n",
       "<style scoped>\n",
       "    .dataframe tbody tr th:only-of-type {\n",
       "        vertical-align: middle;\n",
       "    }\n",
       "\n",
       "    .dataframe tbody tr th {\n",
       "        vertical-align: top;\n",
       "    }\n",
       "\n",
       "    .dataframe thead th {\n",
       "        text-align: right;\n",
       "    }\n",
       "</style>\n",
       "<table border=\"1\" class=\"dataframe\">\n",
       "  <thead>\n",
       "    <tr style=\"text-align: right;\">\n",
       "      <th></th>\n",
       "      <th>inventory_id</th>\n",
       "      <th>part_id</th>\n",
       "      <th>color_id</th>\n",
       "      <th>quantity</th>\n",
       "      <th>is_spare</th>\n",
       "    </tr>\n",
       "  </thead>\n",
       "  <tbody>\n",
       "    <tr>\n",
       "      <th>0</th>\n",
       "      <td>1</td>\n",
       "      <td>48379c01</td>\n",
       "      <td>72</td>\n",
       "      <td>1.0</td>\n",
       "      <td>f</td>\n",
       "    </tr>\n",
       "    <tr>\n",
       "      <th>1</th>\n",
       "      <td>1</td>\n",
       "      <td>48395</td>\n",
       "      <td>7</td>\n",
       "      <td>1.0</td>\n",
       "      <td>f</td>\n",
       "    </tr>\n",
       "    <tr>\n",
       "      <th>2</th>\n",
       "      <td>1</td>\n",
       "      <td>mcsport6</td>\n",
       "      <td>25</td>\n",
       "      <td>1.0</td>\n",
       "      <td>f</td>\n",
       "    </tr>\n",
       "    <tr>\n",
       "      <th>3</th>\n",
       "      <td>1</td>\n",
       "      <td>paddle</td>\n",
       "      <td>0</td>\n",
       "      <td>1.0</td>\n",
       "      <td>f</td>\n",
       "    </tr>\n",
       "    <tr>\n",
       "      <th>4</th>\n",
       "      <td>3</td>\n",
       "      <td>11816pr0005</td>\n",
       "      <td>78</td>\n",
       "      <td>1.0</td>\n",
       "      <td>f</td>\n",
       "    </tr>\n",
       "  </tbody>\n",
       "</table>\n",
       "</div>"
      ],
      "text/plain": [
       "  inventory_id      part_id  color_id  quantity is_spare\n",
       "0            1     48379c01        72       1.0        f\n",
       "1            1        48395         7       1.0        f\n",
       "2            1     mcsport6        25       1.0        f\n",
       "3            1       paddle         0       1.0        f\n",
       "4            3  11816pr0005        78       1.0        f"
      ]
     },
     "execution_count": 73,
     "metadata": {},
     "output_type": "execute_result"
    }
   ],
   "source": [
    "inventory_parts.quantity.mean() #display -inf\n",
    "#inventory_parts.quantity = inventory_parts.quantity.astype(int) # to integer , -inf is transformed into -2147483648\n",
    "#Cleaned inventory parts\n",
    "c_inventory_parts = inventory_parts[inventory_parts.quantity >= 0] \n",
    "c_inventory_parts.head(5)"
   ]
  },
  {
   "cell_type": "markdown",
   "metadata": {},
   "source": [
    "<u><b><font color='green'>ANSWERS:</font></b></u><br><br>\n",
    "\n",
    "<u><b>Explanation:</b></u><br>\n",
    "\n",
    "<u>sets:</u> year<br>\n",
    "As the 1st lego was created in 1932, many dates are impossible.\n",
    "For instance, the negative dates should be positive, typing error: '19955' should be replaced by '1995', etc. \n",
    "Please see the following steps to know our transformations:\n",
    "\n",
    "* Replacing \"70s\" and \"80s\" by \"1970\" and \"1980\" \n",
    "* Taking absolute values \n",
    "* Looking for 5 digits values then removing the last digit (example: 19955//10 -> 1995)\n",
    "\n",
    "\n",
    "<br><u>inventory_parts:</u> quantity<br>\n",
    "Quantity is supposed to be a natural number, we can't have a 0.5 piece of lego, this would be absurd. But here, quantity's type is float wich is non-sense as we said. \n",
    "When there is no information we have -inf."
   ]
  },
  {
   "cell_type": "markdown",
   "metadata": {},
   "source": [
    "### A3. Querying phase\n",
    "Answer the following queries using the functionality of `Pandas`:\n",
    "\n",
    "1. List the ids of the inventories that belong to sets that contain cars. (*Hint: Find a smart way to distinguish which sets contain cars based on the sets' name*).\n",
    "* Plot the distribution of part categories as a (horizontal) bar chart. Restrict yourself to the 20 largest part categories (in terms of the number of parts belonging to the category).\n",
    "* Find the dominant color of each set. Then, plot using a (horizontal) bar chart, the number of sets per dominant color. Color each bar with the respective color that it represents.\n",
    "* Create a scatter plot of the *luminance*\\* of the sets vs their publishing year. What do you observe for the years 1980-1981? How do you interpret what you see?\n",
    "\n",
    "\\*The luminance of a color is a [measure of brightness](https://en.wikipedia.org/wiki/Luminance) which, given its RGB representation, can be computed as follows:\n",
    "\n",
    "$luminance = \\sqrt{0.299*R^2 + 0.587*G^2 + 0.114*B^2}$"
   ]
  },
  {
   "cell_type": "markdown",
   "metadata": {},
   "source": [
    "#    A3 . 1    #"
   ]
  },
  {
   "cell_type": "code",
   "execution_count": 46,
   "metadata": {},
   "outputs": [
    {
     "data": {
      "text/html": [
       "<div>\n",
       "<style scoped>\n",
       "    .dataframe tbody tr th:only-of-type {\n",
       "        vertical-align: middle;\n",
       "    }\n",
       "\n",
       "    .dataframe tbody tr th {\n",
       "        vertical-align: top;\n",
       "    }\n",
       "\n",
       "    .dataframe thead th {\n",
       "        text-align: right;\n",
       "    }\n",
       "</style>\n",
       "<table border=\"1\" class=\"dataframe\">\n",
       "  <thead>\n",
       "    <tr style=\"text-align: right;\">\n",
       "      <th></th>\n",
       "      <th>id</th>\n",
       "      <th>version</th>\n",
       "    </tr>\n",
       "  </thead>\n",
       "  <tbody>\n",
       "    <tr>\n",
       "      <th>30</th>\n",
       "      <td>51</td>\n",
       "      <td>1</td>\n",
       "    </tr>\n",
       "    <tr>\n",
       "      <th>32</th>\n",
       "      <td>54</td>\n",
       "      <td>1</td>\n",
       "    </tr>\n",
       "    <tr>\n",
       "      <th>157</th>\n",
       "      <td>227</td>\n",
       "      <td>1</td>\n",
       "    </tr>\n",
       "    <tr>\n",
       "      <th>158</th>\n",
       "      <td>228</td>\n",
       "      <td>1</td>\n",
       "    </tr>\n",
       "    <tr>\n",
       "      <th>177</th>\n",
       "      <td>255</td>\n",
       "      <td>1</td>\n",
       "    </tr>\n",
       "    <tr>\n",
       "      <th>180</th>\n",
       "      <td>259</td>\n",
       "      <td>1</td>\n",
       "    </tr>\n",
       "    <tr>\n",
       "      <th>334</th>\n",
       "      <td>483</td>\n",
       "      <td>1</td>\n",
       "    </tr>\n",
       "    <tr>\n",
       "      <th>597</th>\n",
       "      <td>865</td>\n",
       "      <td>1</td>\n",
       "    </tr>\n",
       "    <tr>\n",
       "      <th>598</th>\n",
       "      <td>866</td>\n",
       "      <td>1</td>\n",
       "    </tr>\n",
       "    <tr>\n",
       "      <th>658</th>\n",
       "      <td>954</td>\n",
       "      <td>1</td>\n",
       "    </tr>\n",
       "    <tr>\n",
       "      <th>687</th>\n",
       "      <td>994</td>\n",
       "      <td>1</td>\n",
       "    </tr>\n",
       "    <tr>\n",
       "      <th>720</th>\n",
       "      <td>1038</td>\n",
       "      <td>1</td>\n",
       "    </tr>\n",
       "    <tr>\n",
       "      <th>731</th>\n",
       "      <td>1054</td>\n",
       "      <td>1</td>\n",
       "    </tr>\n",
       "    <tr>\n",
       "      <th>1120</th>\n",
       "      <td>1620</td>\n",
       "      <td>1</td>\n",
       "    </tr>\n",
       "    <tr>\n",
       "      <th>1178</th>\n",
       "      <td>1692</td>\n",
       "      <td>1</td>\n",
       "    </tr>\n",
       "    <tr>\n",
       "      <th>1240</th>\n",
       "      <td>1790</td>\n",
       "      <td>1</td>\n",
       "    </tr>\n",
       "    <tr>\n",
       "      <th>1241</th>\n",
       "      <td>1791</td>\n",
       "      <td>1</td>\n",
       "    </tr>\n",
       "    <tr>\n",
       "      <th>1259</th>\n",
       "      <td>1815</td>\n",
       "      <td>1</td>\n",
       "    </tr>\n",
       "    <tr>\n",
       "      <th>1273</th>\n",
       "      <td>1833</td>\n",
       "      <td>1</td>\n",
       "    </tr>\n",
       "    <tr>\n",
       "      <th>1275</th>\n",
       "      <td>1838</td>\n",
       "      <td>1</td>\n",
       "    </tr>\n",
       "    <tr>\n",
       "      <th>1307</th>\n",
       "      <td>1888</td>\n",
       "      <td>1</td>\n",
       "    </tr>\n",
       "    <tr>\n",
       "      <th>1332</th>\n",
       "      <td>1923</td>\n",
       "      <td>1</td>\n",
       "    </tr>\n",
       "    <tr>\n",
       "      <th>1374</th>\n",
       "      <td>1983</td>\n",
       "      <td>1</td>\n",
       "    </tr>\n",
       "    <tr>\n",
       "      <th>1375</th>\n",
       "      <td>1984</td>\n",
       "      <td>1</td>\n",
       "    </tr>\n",
       "    <tr>\n",
       "      <th>1554</th>\n",
       "      <td>2246</td>\n",
       "      <td>1</td>\n",
       "    </tr>\n",
       "    <tr>\n",
       "      <th>1563</th>\n",
       "      <td>2258</td>\n",
       "      <td>1</td>\n",
       "    </tr>\n",
       "    <tr>\n",
       "      <th>1655</th>\n",
       "      <td>2384</td>\n",
       "      <td>1</td>\n",
       "    </tr>\n",
       "    <tr>\n",
       "      <th>1659</th>\n",
       "      <td>2388</td>\n",
       "      <td>1</td>\n",
       "    </tr>\n",
       "    <tr>\n",
       "      <th>1773</th>\n",
       "      <td>2554</td>\n",
       "      <td>1</td>\n",
       "    </tr>\n",
       "    <tr>\n",
       "      <th>1800</th>\n",
       "      <td>2594</td>\n",
       "      <td>1</td>\n",
       "    </tr>\n",
       "    <tr>\n",
       "      <th>...</th>\n",
       "      <td>...</td>\n",
       "      <td>...</td>\n",
       "    </tr>\n",
       "    <tr>\n",
       "      <th>9626</th>\n",
       "      <td>13819</td>\n",
       "      <td>1</td>\n",
       "    </tr>\n",
       "    <tr>\n",
       "      <th>9688</th>\n",
       "      <td>13913</td>\n",
       "      <td>1</td>\n",
       "    </tr>\n",
       "    <tr>\n",
       "      <th>9710</th>\n",
       "      <td>13941</td>\n",
       "      <td>1</td>\n",
       "    </tr>\n",
       "    <tr>\n",
       "      <th>9779</th>\n",
       "      <td>14039</td>\n",
       "      <td>1</td>\n",
       "    </tr>\n",
       "    <tr>\n",
       "      <th>9871</th>\n",
       "      <td>14176</td>\n",
       "      <td>1</td>\n",
       "    </tr>\n",
       "    <tr>\n",
       "      <th>9877</th>\n",
       "      <td>14184</td>\n",
       "      <td>1</td>\n",
       "    </tr>\n",
       "    <tr>\n",
       "      <th>10233</th>\n",
       "      <td>14704</td>\n",
       "      <td>1</td>\n",
       "    </tr>\n",
       "    <tr>\n",
       "      <th>10234</th>\n",
       "      <td>14705</td>\n",
       "      <td>1</td>\n",
       "    </tr>\n",
       "    <tr>\n",
       "      <th>10371</th>\n",
       "      <td>14895</td>\n",
       "      <td>1</td>\n",
       "    </tr>\n",
       "    <tr>\n",
       "      <th>10372</th>\n",
       "      <td>14896</td>\n",
       "      <td>1</td>\n",
       "    </tr>\n",
       "    <tr>\n",
       "      <th>10497</th>\n",
       "      <td>15075</td>\n",
       "      <td>1</td>\n",
       "    </tr>\n",
       "    <tr>\n",
       "      <th>10498</th>\n",
       "      <td>15077</td>\n",
       "      <td>1</td>\n",
       "    </tr>\n",
       "    <tr>\n",
       "      <th>10522</th>\n",
       "      <td>15111</td>\n",
       "      <td>1</td>\n",
       "    </tr>\n",
       "    <tr>\n",
       "      <th>10739</th>\n",
       "      <td>15427</td>\n",
       "      <td>1</td>\n",
       "    </tr>\n",
       "    <tr>\n",
       "      <th>10740</th>\n",
       "      <td>15428</td>\n",
       "      <td>1</td>\n",
       "    </tr>\n",
       "    <tr>\n",
       "      <th>10744</th>\n",
       "      <td>15435</td>\n",
       "      <td>1</td>\n",
       "    </tr>\n",
       "    <tr>\n",
       "      <th>10862</th>\n",
       "      <td>15609</td>\n",
       "      <td>1</td>\n",
       "    </tr>\n",
       "    <tr>\n",
       "      <th>10946</th>\n",
       "      <td>15733</td>\n",
       "      <td>1</td>\n",
       "    </tr>\n",
       "    <tr>\n",
       "      <th>10947</th>\n",
       "      <td>15734</td>\n",
       "      <td>1</td>\n",
       "    </tr>\n",
       "    <tr>\n",
       "      <th>11017</th>\n",
       "      <td>15833</td>\n",
       "      <td>1</td>\n",
       "    </tr>\n",
       "    <tr>\n",
       "      <th>11028</th>\n",
       "      <td>15849</td>\n",
       "      <td>1</td>\n",
       "    </tr>\n",
       "    <tr>\n",
       "      <th>11043</th>\n",
       "      <td>15870</td>\n",
       "      <td>1</td>\n",
       "    </tr>\n",
       "    <tr>\n",
       "      <th>11046</th>\n",
       "      <td>15874</td>\n",
       "      <td>1</td>\n",
       "    </tr>\n",
       "    <tr>\n",
       "      <th>11394</th>\n",
       "      <td>16371</td>\n",
       "      <td>1</td>\n",
       "    </tr>\n",
       "    <tr>\n",
       "      <th>11433</th>\n",
       "      <td>16463</td>\n",
       "      <td>1</td>\n",
       "    </tr>\n",
       "    <tr>\n",
       "      <th>11451</th>\n",
       "      <td>16597</td>\n",
       "      <td>1</td>\n",
       "    </tr>\n",
       "    <tr>\n",
       "      <th>11478</th>\n",
       "      <td>16757</td>\n",
       "      <td>1</td>\n",
       "    </tr>\n",
       "    <tr>\n",
       "      <th>11532</th>\n",
       "      <td>17194</td>\n",
       "      <td>1</td>\n",
       "    </tr>\n",
       "    <tr>\n",
       "      <th>11558</th>\n",
       "      <td>17410</td>\n",
       "      <td>1</td>\n",
       "    </tr>\n",
       "    <tr>\n",
       "      <th>11629</th>\n",
       "      <td>18278</td>\n",
       "      <td>1</td>\n",
       "    </tr>\n",
       "  </tbody>\n",
       "</table>\n",
       "<p>212 rows × 2 columns</p>\n",
       "</div>"
      ],
      "text/plain": [
       "          id  version\n",
       "30        51        1\n",
       "32        54        1\n",
       "157      227        1\n",
       "158      228        1\n",
       "177      255        1\n",
       "180      259        1\n",
       "334      483        1\n",
       "597      865        1\n",
       "598      866        1\n",
       "658      954        1\n",
       "687      994        1\n",
       "720     1038        1\n",
       "731     1054        1\n",
       "1120    1620        1\n",
       "1178    1692        1\n",
       "1240    1790        1\n",
       "1241    1791        1\n",
       "1259    1815        1\n",
       "1273    1833        1\n",
       "1275    1838        1\n",
       "1307    1888        1\n",
       "1332    1923        1\n",
       "1374    1983        1\n",
       "1375    1984        1\n",
       "1554    2246        1\n",
       "1563    2258        1\n",
       "1655    2384        1\n",
       "1659    2388        1\n",
       "1773    2554        1\n",
       "1800    2594        1\n",
       "...      ...      ...\n",
       "9626   13819        1\n",
       "9688   13913        1\n",
       "9710   13941        1\n",
       "9779   14039        1\n",
       "9871   14176        1\n",
       "9877   14184        1\n",
       "10233  14704        1\n",
       "10234  14705        1\n",
       "10371  14895        1\n",
       "10372  14896        1\n",
       "10497  15075        1\n",
       "10498  15077        1\n",
       "10522  15111        1\n",
       "10739  15427        1\n",
       "10740  15428        1\n",
       "10744  15435        1\n",
       "10862  15609        1\n",
       "10946  15733        1\n",
       "10947  15734        1\n",
       "11017  15833        1\n",
       "11028  15849        1\n",
       "11043  15870        1\n",
       "11046  15874        1\n",
       "11394  16371        1\n",
       "11433  16463        1\n",
       "11451  16597        1\n",
       "11478  16757        1\n",
       "11532  17194        1\n",
       "11558  17410        1\n",
       "11629  18278        1\n",
       "\n",
       "[212 rows x 2 columns]"
      ]
     },
     "execution_count": 46,
     "metadata": {},
     "output_type": "execute_result"
    }
   ],
   "source": [
    "#assuming that cars have wheels and tyres id=29\n",
    "cars_part_id = parts.loc[parts['part_cat_id'] == 29].id\n",
    "cars_inventory_parts = inventory_parts.loc[inventory_parts['part_id'].isin(cars_part_id)].inventory_id\n",
    "\n",
    "cars_inventory_sets = inventories.loc[inventories['id'].isin(cars_inventory_parts.index)]\n",
    "cars_inventory_sets\n",
    "#inventories\n",
    "#sets.loc[sets['id'].isin(cars_inventory_sets.set_id)]"
   ]
  },
  {
   "cell_type": "markdown",
   "metadata": {},
   "source": [
    "\n",
    "#    A3 . 2    #\n"
   ]
  },
  {
   "cell_type": "code",
   "execution_count": 44,
   "metadata": {
    "scrolled": true
   },
   "outputs": [],
   "source": [
    "\n",
    "Largest_number_part = parts.groupby('part_cat_id').part_cat_id.count().sort_values(ascending=False).head(20)\n",
    "\n",
    "\n",
    "parts.groupby('part_cat_id').part_cat_id.count()\n",
    "aligned_part = part_categories.shift(periods=1, freq=None, axis=0)\n",
    "aligned_part['number'] = (parts.groupby('part_cat_id').part_cat_id.count())\n",
    "biggest_category = aligned_part.sort_values('number',ascending=False).head(20)"
   ]
  },
  {
   "cell_type": "code",
   "execution_count": 166,
   "metadata": {},
   "outputs": [
    {
     "data": {
      "image/png": "[encoded data removed]",
      "text/plain": [
       "<Figure size 432x288 with 1 Axes>"
      ]
     },
     "metadata": {},
     "output_type": "display_data"
    }
   ],
   "source": [
    "df = pd.DataFrame({\"Number of parts by category\": Largest_number_part.tolist()}\n",
    "                 , index=biggest_category.name)\n",
    "ax = df.plot.barh()\n"
   ]
  },
  {
   "cell_type": "markdown",
   "metadata": {
    "collapsed": true
   },
   "source": [
    "\n",
    "#    A3 . 3    #\n"
   ]
  },
  {
   "cell_type": "code",
   "execution_count": 177,
   "metadata": {},
   "outputs": [
    {
     "data": {
      "text/plain": [
       "set_id   name             \n",
       "10127-1  Black                1\n",
       "         Blue                 1\n",
       "         Green                1\n",
       "         Orange               1\n",
       "         Red                  1\n",
       "         White                2\n",
       "10173-1  Black                4\n",
       "         Dark Bluish Gray     2\n",
       "1062-1   Black                3\n",
       "         Green                1\n",
       "         Light Gray           4\n",
       "         Royal Blue           1\n",
       "         Trans-Green          2\n",
       "         Trans-Red            2\n",
       "         Trans-Yellow         1\n",
       "         White                8\n",
       "1064-1   Black                3\n",
       "         Green                1\n",
       "         Light Gray           4\n",
       "         Royal Blue           1\n",
       "         Trans-Green          2\n",
       "         Trans-Red            2\n",
       "         Trans-Yellow         1\n",
       "         White                8\n",
       "1417-2   Red                  1\n",
       "         Royal Blue           1\n",
       "2995-1   Royal Blue           1\n",
       "2996-1   Royal Blue           1\n",
       "322-1    Red                  1\n",
       "3404-1   White                1\n",
       "                             ..\n",
       "8783-1   Royal Blue           1\n",
       "8784-1   Royal Blue           1\n",
       "8785-1   Royal Blue           1\n",
       "8786-1   Royal Blue           2\n",
       "8791-1   Royal Blue           2\n",
       "8795-1   Royal Blue           2\n",
       "8900-1   Black                1\n",
       "         Pearl Gold           3\n",
       "8902-1   Black                1\n",
       "         Pearl Gold           3\n",
       "8905-1   Black                1\n",
       "         Pearl Gold           3\n",
       "9738-1   Light Bluish Gray    1\n",
       "9916-1   Light Bluish Gray    1\n",
       "k1062b   Black                3\n",
       "         Green                1\n",
       "         Light Gray           4\n",
       "         Royal Blue           1\n",
       "         Trans-Green          2\n",
       "         Trans-Red            2\n",
       "         Trans-Yellow         1\n",
       "         White                8\n",
       "pk1062   Black                3\n",
       "         Green                1\n",
       "         Light Gray           4\n",
       "         Royal Blue           1\n",
       "         Trans-Green          2\n",
       "         Trans-Red            2\n",
       "         Trans-Yellow         1\n",
       "         White                8\n",
       "Name: set_id, Length: 221, dtype: int64"
      ]
     },
     "execution_count": 177,
     "metadata": {},
     "output_type": "execute_result"
    }
   ],
   "source": [
    "#cast ids to string\n",
    "sets.id = sets.id.astype(str)\n",
    "inventory_sets.inventory_id = inventory_sets.inventory_id.astype(str)\n",
    "inventory_parts.inventory_id = inventory_parts.inventory_id.astype(str)\n",
    "\n",
    "#merging sets and inventory sets. Using right join to fetch only the existing id in inventory_sets\n",
    "merge_sets_Inventory = pd.merge(sets, inventory_sets, how='right',left_on=['id'], right_on=['set_id'])\n",
    "merge_sets_Inventory_filtered = pd.DataFrame()\n",
    "merge_sets_Inventory_filtered['set_id'] = merge_sets_Inventory.set_id\n",
    "merge_sets_Inventory_filtered['inventory_id'] = merge_sets_Inventory.inventory_id\n",
    "merge_sets_Inventory_filtered['quantity'] = merge_sets_Inventory.quantity\n",
    "\n",
    "#removing where there is quantity < 1\n",
    "set_inventory_quantity = merge_sets_Inventory_filtered[(merge_sets_Inventory_filtered['quantity'] > 0)]\n",
    "\n",
    "#merging until colors dataframe\n",
    "inventory_inventory = pd.merge(inventory_parts, set_inventory_quantity, how='outer',on=['inventory_id'])\n",
    "inventory_inventory = inventory_inventory.dropna()\n",
    "inventory_color = pd.merge(inventory_inventory, colors, how='outer',left_on=['color_id'], right_on=['id'])\n",
    "inventory_color_filtered = pd.DataFrame()\n",
    "inventory_color_filtered['set_id'] = inventory_color.set_id\n",
    "inventory_color_filtered['name'] = inventory_color.name\n",
    "\n",
    "#Removing No Color and Unknown color from the dataframe\n",
    "inventory_color_filtered = inventory_color_filtered[inventory_color_filtered['name'] != '[No Color]' ]\n",
    "inventory_color_filtered = inventory_color_filtered[inventory_color_filtered['name'] != 'Unknown' ]\n",
    "\n",
    "#grouping by set_ids and colors\n",
    "groupby_sets = inventory_color_filtered.groupby(['set_id','name']).set_id.count()\n",
    "#Displaying dataframe\n",
    "groupby_sets"
   ]
  },
  {
   "cell_type": "code",
   "execution_count": 213,
   "metadata": {},
   "outputs": [
    {
     "name": "stderr",
     "output_type": "stream",
     "text": [
      "C:\\Users\\antho\\Anaconda3\\lib\\site-packages\\pandas\\core\\frame.py:3694: SettingWithCopyWarning: \n",
      "A value is trying to be set on a copy of a slice from a DataFrame\n",
      "\n",
      "See the caveats in the documentation: http://pandas.pydata.org/pandas-docs/stable/indexing.html#indexing-view-versus-copy\n",
      "  errors=errors)\n"
     ]
    },
    {
     "data": {
      "text/plain": [
       "<matplotlib.axes._subplots.AxesSubplot at 0x2b983d82828>"
      ]
     },
     "execution_count": 213,
     "metadata": {},
     "output_type": "execute_result"
    },
    {
     "data": {
      "image/png": "[encoded data removed]",
      "text/plain": [
       "<Figure size 792x2160 with 1 Axes>"
      ]
     },
     "metadata": {},
     "output_type": "display_data"
    }
   ],
   "source": [
    "#keeping only the color the most used for each set\n",
    "groupby_sets = inventory_color_filtered.groupby(['set_id','name']).set_id.count().reset_index(name=\"count\")\n",
    "index = groupby_sets.groupby(['set_id'])['count'].transform(max) == groupby_sets['count']\n",
    "color_sets = groupby_sets[index]\n",
    "color_sets.drop(color_sets.columns[[0]], axis=1, inplace=True)\n",
    "#diplaying color graph\n",
    "color_sets.plot(x='name', y='count',kind='barh', figsize=(11, 30))"
   ]
  },
  {
   "cell_type": "markdown",
   "metadata": {},
   "source": [
    "<u><b><font color='green'>ANSWERS:</font></b></u><br><br>\n",
    "\n",
    "\n",
    "<u>Lego car parts:</u><br>\n",
    "In the part_categories we looked for something that is only or mostly on cars.\n",
    "We found the category Wheels and Tyres: id=29.\n",
    "Then, we selected in the inventory_part: inventory_id with part = 29\n",
    "In inventory_sets, we count the number of sets with inventory_id = 29"
   ]
  },
  {
   "cell_type": "markdown",
   "metadata": {},
   "source": [
    "\n",
    "#    A3 . 4    #"
   ]
  },
  {
   "cell_type": "code",
   "execution_count": 41,
   "metadata": {},
   "outputs": [],
   "source": [
    "#merge the dataframe above with corresponding rbg to the name of the color\n",
    "color_set_rgb = pd.merge(color_sets, colors, how='inner',left_on=['name'], right_on=['name'])\n",
    "#Merge the dataframe above with sets, to get year for each set_id\n",
    "color_set_rgb_year =  pd.merge(color_set_rgb, sets, how='inner',left_on=['set_id'], right_on=['id'])\n",
    "\n",
    "#extract and convert R, G and B from string to int from rgb of each set\n",
    "color_set_rgb_year['R'] =  color_set_rgb_year.rgb.apply(lambda x:(int(x[0:2], 16) )) #R \n",
    "color_set_rgb_year['G'] =  color_set_rgb_year.rgb.apply(lambda x:(int(x[2:4], 16) )) #G\n",
    "color_set_rgb_year['B'] =  color_set_rgb_year.rgb.apply(lambda x:(int(x[4:6], 16) )) #B\n",
    "\n",
    "#Luminance\n",
    "color_set_rgb_year['Lum'] =np.sqrt(0.299* color_set_rgb_year.R* color_set_rgb_year.R + 0.587*color_set_rgb_year.G*color_set_rgb_year.G + 0.114*color_set_rgb_year.B*color_set_rgb_year.B)"
   ]
  },
  {
   "cell_type": "code",
   "execution_count": 42,
   "metadata": {},
   "outputs": [
    {
     "data": {
      "text/plain": [
       "<matplotlib.axes._subplots.AxesSubplot at 0x2b9d1215438>"
      ]
     },
     "execution_count": 42,
     "metadata": {},
     "output_type": "execute_result"
    },
    {
     "data": {
      "image/png": "[encoded data removed]",
      "text/plain": [
       "<Figure size 432x288 with 1 Axes>"
      ]
     },
     "metadata": {},
     "output_type": "display_data"
    }
   ],
   "source": [
    "color_set_rgb_year.sort_values(['year'])\n",
    "#Display scatter x = year , y = luminance, and the size is proportional to number of sets per year\n",
    "color_set_rgb_year.plot.scatter('year', 'Lum' ,color_set_rgb_year.groupby('year').year.count()*7) \n"
   ]
  },
  {
   "cell_type": "markdown",
   "metadata": {},
   "source": [
    "## Task B. Drop the bike\n",
    "\n",
    "*Los Angeles Metro* has been sharing publicly [anonymized *Metro Bike Share* trip data](https://bikeshare.metro.net/about/data/) under the [Open Database License (ODbL)](http://opendatacommons.org/licenses/odbl/1.0/).\n",
    "\n",
    "In this task you will again perform data wrangling and interpretation."
   ]
  },
  {
   "cell_type": "markdown",
   "metadata": {},
   "source": [
    "### B1. Loading phase\n",
    "Load the json file into a `DataFrame`.\n"
   ]
  },
  {
   "cell_type": "code",
   "execution_count": 130,
   "metadata": {},
   "outputs": [],
   "source": [
    "BIKES_DATA_FOLDER = DATA_FOLDER + '/bikes'"
   ]
  },
  {
   "cell_type": "code",
   "execution_count": 146,
   "metadata": {},
   "outputs": [
    {
     "data": {
      "text/html": [
       "<div>\n",
       "<style scoped>\n",
       "    .dataframe tbody tr th:only-of-type {\n",
       "        vertical-align: middle;\n",
       "    }\n",
       "\n",
       "    .dataframe tbody tr th {\n",
       "        vertical-align: top;\n",
       "    }\n",
       "\n",
       "    .dataframe thead th {\n",
       "        text-align: right;\n",
       "    }\n",
       "</style>\n",
       "<table border=\"1\" class=\"dataframe\">\n",
       "  <thead>\n",
       "    <tr style=\"text-align: right;\">\n",
       "      <th></th>\n",
       "      <th>Bike ID</th>\n",
       "      <th>Duration</th>\n",
       "      <th>End Time</th>\n",
       "      <th>Ending Station ID</th>\n",
       "      <th>Ending Station Latitude</th>\n",
       "      <th>Ending Station Longitude</th>\n",
       "      <th>Passholder Type</th>\n",
       "      <th>Plan Duration</th>\n",
       "      <th>Start Time</th>\n",
       "      <th>Starting Station ID</th>\n",
       "      <th>Starting Station Latitude</th>\n",
       "      <th>Starting Station Longitude</th>\n",
       "      <th>Trip ID</th>\n",
       "      <th>Trip Route Category</th>\n",
       "    </tr>\n",
       "  </thead>\n",
       "  <tbody>\n",
       "    <tr>\n",
       "      <th>0</th>\n",
       "      <td>6281.0</td>\n",
       "      <td>180</td>\n",
       "      <td>2016-07-07T04:20:00</td>\n",
       "      <td>3014.0</td>\n",
       "      <td>34.056610</td>\n",
       "      <td>-118.23721</td>\n",
       "      <td>Monthly Pass</td>\n",
       "      <td>30.0</td>\n",
       "      <td>2016-07-07T04:17:00</td>\n",
       "      <td>3014.0</td>\n",
       "      <td>34.056610</td>\n",
       "      <td>-118.23721</td>\n",
       "      <td>1912818</td>\n",
       "      <td>Round Trip</td>\n",
       "    </tr>\n",
       "    <tr>\n",
       "      <th>1</th>\n",
       "      <td>6281.0</td>\n",
       "      <td>1980</td>\n",
       "      <td>2016-07-07T06:33:00</td>\n",
       "      <td>3014.0</td>\n",
       "      <td>34.056610</td>\n",
       "      <td>-118.23721</td>\n",
       "      <td>Monthly Pass</td>\n",
       "      <td>30.0</td>\n",
       "      <td>2016-07-07T06:00:00</td>\n",
       "      <td>3014.0</td>\n",
       "      <td>34.056610</td>\n",
       "      <td>-118.23721</td>\n",
       "      <td>1919661</td>\n",
       "      <td>Round Trip</td>\n",
       "    </tr>\n",
       "    <tr>\n",
       "      <th>2</th>\n",
       "      <td>5861.0</td>\n",
       "      <td>300</td>\n",
       "      <td>2016-07-07T10:37:00</td>\n",
       "      <td>3016.0</td>\n",
       "      <td>34.052898</td>\n",
       "      <td>-118.24156</td>\n",
       "      <td>Flex Pass</td>\n",
       "      <td>365.0</td>\n",
       "      <td>2016-07-07T10:32:00</td>\n",
       "      <td>3016.0</td>\n",
       "      <td>34.052898</td>\n",
       "      <td>-118.24156</td>\n",
       "      <td>1933383</td>\n",
       "      <td>Round Trip</td>\n",
       "    </tr>\n",
       "    <tr>\n",
       "      <th>3</th>\n",
       "      <td>5861.0</td>\n",
       "      <td>10860</td>\n",
       "      <td>2016-07-07T13:38:00</td>\n",
       "      <td>3016.0</td>\n",
       "      <td>34.052898</td>\n",
       "      <td>-118.24156</td>\n",
       "      <td>Flex Pass</td>\n",
       "      <td>365.0</td>\n",
       "      <td>2016-07-07T10:37:00</td>\n",
       "      <td>3016.0</td>\n",
       "      <td>34.052898</td>\n",
       "      <td>-118.24156</td>\n",
       "      <td>1944197</td>\n",
       "      <td>Round Trip</td>\n",
       "    </tr>\n",
       "    <tr>\n",
       "      <th>4</th>\n",
       "      <td>6674.0</td>\n",
       "      <td>420</td>\n",
       "      <td>2016-07-07T12:58:00</td>\n",
       "      <td>3032.0</td>\n",
       "      <td>34.049889</td>\n",
       "      <td>-118.25588</td>\n",
       "      <td>Walk-up</td>\n",
       "      <td>0.0</td>\n",
       "      <td>2016-07-07T12:51:00</td>\n",
       "      <td>3032.0</td>\n",
       "      <td>34.049889</td>\n",
       "      <td>-118.25588</td>\n",
       "      <td>1940317</td>\n",
       "      <td>Round Trip</td>\n",
       "    </tr>\n",
       "  </tbody>\n",
       "</table>\n",
       "</div>"
      ],
      "text/plain": [
       "   Bike ID  Duration             End Time  Ending Station ID  \\\n",
       "0   6281.0       180  2016-07-07T04:20:00             3014.0   \n",
       "1   6281.0      1980  2016-07-07T06:33:00             3014.0   \n",
       "2   5861.0       300  2016-07-07T10:37:00             3016.0   \n",
       "3   5861.0     10860  2016-07-07T13:38:00             3016.0   \n",
       "4   6674.0       420  2016-07-07T12:58:00             3032.0   \n",
       "\n",
       "   Ending Station Latitude  Ending Station Longitude Passholder Type  \\\n",
       "0                34.056610                -118.23721    Monthly Pass   \n",
       "1                34.056610                -118.23721    Monthly Pass   \n",
       "2                34.052898                -118.24156       Flex Pass   \n",
       "3                34.052898                -118.24156       Flex Pass   \n",
       "4                34.049889                -118.25588         Walk-up   \n",
       "\n",
       "   Plan Duration           Start Time  Starting Station ID  \\\n",
       "0           30.0  2016-07-07T04:17:00               3014.0   \n",
       "1           30.0  2016-07-07T06:00:00               3014.0   \n",
       "2          365.0  2016-07-07T10:32:00               3016.0   \n",
       "3          365.0  2016-07-07T10:37:00               3016.0   \n",
       "4            0.0  2016-07-07T12:51:00               3032.0   \n",
       "\n",
       "   Starting Station Latitude  Starting Station Longitude  Trip ID  \\\n",
       "0                  34.056610                  -118.23721  1912818   \n",
       "1                  34.056610                  -118.23721  1919661   \n",
       "2                  34.052898                  -118.24156  1933383   \n",
       "3                  34.052898                  -118.24156  1944197   \n",
       "4                  34.049889                  -118.25588  1940317   \n",
       "\n",
       "  Trip Route Category  \n",
       "0          Round Trip  \n",
       "1          Round Trip  \n",
       "2          Round Trip  \n",
       "3          Round Trip  \n",
       "4          Round Trip  "
      ]
     },
     "execution_count": 146,
     "metadata": {},
     "output_type": "execute_result"
    }
   ],
   "source": [
    "#read json zip file into data frame\n",
    "bike_share_trip = pd.read_json(BIKES_DATA_FOLDER + \"/metro-bike-share-trip-data.json.zip\")\n",
    "#bike_share_trip = df_metroBike.sort_values('Bike ID')\n",
    "bike_share_trip.head()\n",
    "#ToDo change name of processed data set in coming excercise"
   ]
  },
  {
   "cell_type": "markdown",
   "metadata": {},
   "source": [
    "### B2. Cleaning phase\n",
    "Describe the type and the value range of each attribute. Indicate and transform the attributes that are `Categorical`. Are there redundant columns in the dataset (i.e., are there columns whose value depends only on the value of another column)? What are the possible pitfalls of having such columns? Reduce *data redundancy* by extracting such columns to separate `DataFrames`. Which of the two formats (the initial one or the one with reduced data redundancy) is more susceptible to inconsistencies? At the end print for each `Dataframe` the *type of each column* and it's *shape*."
   ]
  },
  {
   "cell_type": "code",
   "execution_count": 147,
   "metadata": {},
   "outputs": [
    {
     "data": {
      "text/plain": [
       "Bike ID                       float64\n",
       "Duration                        int64\n",
       "End Time                       object\n",
       "Ending Station ID             float64\n",
       "Ending Station Latitude       float64\n",
       "Ending Station Longitude      float64\n",
       "Passholder Type                object\n",
       "Plan Duration                 float64\n",
       "Start Time                     object\n",
       "Starting Station ID           float64\n",
       "Starting Station Latitude     float64\n",
       "Starting Station Longitude    float64\n",
       "Trip ID                         int64\n",
       "Trip Route Category            object\n",
       "dtype: object"
      ]
     },
     "execution_count": 147,
     "metadata": {},
     "output_type": "execute_result"
    }
   ],
   "source": [
    "#describing types of attributes\n",
    "bike_share_trip.dtypes"
   ]
  },
  {
   "cell_type": "code",
   "execution_count": 148,
   "metadata": {},
   "outputs": [
    {
     "data": {
      "text/html": [
       "<div>\n",
       "<style scoped>\n",
       "    .dataframe tbody tr th:only-of-type {\n",
       "        vertical-align: middle;\n",
       "    }\n",
       "\n",
       "    .dataframe tbody tr th {\n",
       "        vertical-align: top;\n",
       "    }\n",
       "\n",
       "    .dataframe thead th {\n",
       "        text-align: right;\n",
       "    }\n",
       "</style>\n",
       "<table border=\"1\" class=\"dataframe\">\n",
       "  <thead>\n",
       "    <tr style=\"text-align: right;\">\n",
       "      <th></th>\n",
       "      <th>Bike ID</th>\n",
       "      <th>Duration</th>\n",
       "      <th>Ending Station ID</th>\n",
       "      <th>Ending Station Latitude</th>\n",
       "      <th>Ending Station Longitude</th>\n",
       "      <th>Plan Duration</th>\n",
       "      <th>Starting Station ID</th>\n",
       "      <th>Starting Station Latitude</th>\n",
       "      <th>Starting Station Longitude</th>\n",
       "      <th>Trip ID</th>\n",
       "    </tr>\n",
       "  </thead>\n",
       "  <tbody>\n",
       "    <tr>\n",
       "      <th>count</th>\n",
       "      <td>132417.000000</td>\n",
       "      <td>132427.000000</td>\n",
       "      <td>132331.00000</td>\n",
       "      <td>131376.000000</td>\n",
       "      <td>131376.000000</td>\n",
       "      <td>131661.000000</td>\n",
       "      <td>132408.000000</td>\n",
       "      <td>132379.000000</td>\n",
       "      <td>132379.000000</td>\n",
       "      <td>1.324270e+05</td>\n",
       "    </tr>\n",
       "    <tr>\n",
       "      <th>mean</th>\n",
       "      <td>6193.618878</td>\n",
       "      <td>1555.301562</td>\n",
       "      <td>3042.38672</td>\n",
       "      <td>34.034614</td>\n",
       "      <td>-118.206642</td>\n",
       "      <td>44.821967</td>\n",
       "      <td>3043.020754</td>\n",
       "      <td>34.039309</td>\n",
       "      <td>-118.221534</td>\n",
       "      <td>1.153001e+07</td>\n",
       "    </tr>\n",
       "    <tr>\n",
       "      <th>std</th>\n",
       "      <td>293.606755</td>\n",
       "      <td>5814.241813</td>\n",
       "      <td>43.08440</td>\n",
       "      <td>0.650706</td>\n",
       "      <td>2.259913</td>\n",
       "      <td>90.411579</td>\n",
       "      <td>37.742021</td>\n",
       "      <td>0.529336</td>\n",
       "      <td>1.838335</td>\n",
       "      <td>6.369462e+06</td>\n",
       "    </tr>\n",
       "    <tr>\n",
       "      <th>min</th>\n",
       "      <td>1349.000000</td>\n",
       "      <td>60.000000</td>\n",
       "      <td>3000.00000</td>\n",
       "      <td>0.000000</td>\n",
       "      <td>-118.472832</td>\n",
       "      <td>0.000000</td>\n",
       "      <td>3000.000000</td>\n",
       "      <td>0.000000</td>\n",
       "      <td>-118.472832</td>\n",
       "      <td>1.912818e+06</td>\n",
       "    </tr>\n",
       "    <tr>\n",
       "      <th>25%</th>\n",
       "      <td>5953.000000</td>\n",
       "      <td>360.000000</td>\n",
       "      <td>3022.00000</td>\n",
       "      <td>34.044159</td>\n",
       "      <td>-118.256981</td>\n",
       "      <td>0.000000</td>\n",
       "      <td>3024.000000</td>\n",
       "      <td>34.044170</td>\n",
       "      <td>-118.256980</td>\n",
       "      <td>5.060814e+06</td>\n",
       "    </tr>\n",
       "    <tr>\n",
       "      <th>50%</th>\n",
       "      <td>6186.000000</td>\n",
       "      <td>600.000000</td>\n",
       "      <td>3038.00000</td>\n",
       "      <td>34.046810</td>\n",
       "      <td>-118.250954</td>\n",
       "      <td>30.000000</td>\n",
       "      <td>3040.000000</td>\n",
       "      <td>34.046822</td>\n",
       "      <td>-118.250954</td>\n",
       "      <td>1.043827e+07</td>\n",
       "    </tr>\n",
       "    <tr>\n",
       "      <th>75%</th>\n",
       "      <td>6434.000000</td>\n",
       "      <td>1080.000000</td>\n",
       "      <td>3063.00000</td>\n",
       "      <td>34.050480</td>\n",
       "      <td>-118.238810</td>\n",
       "      <td>30.000000</td>\n",
       "      <td>3063.000000</td>\n",
       "      <td>34.050880</td>\n",
       "      <td>-118.241562</td>\n",
       "      <td>1.720633e+07</td>\n",
       "    </tr>\n",
       "    <tr>\n",
       "      <th>max</th>\n",
       "      <td>6728.000000</td>\n",
       "      <td>86400.000000</td>\n",
       "      <td>4108.00000</td>\n",
       "      <td>34.064281</td>\n",
       "      <td>0.000000</td>\n",
       "      <td>365.000000</td>\n",
       "      <td>4108.000000</td>\n",
       "      <td>34.064281</td>\n",
       "      <td>0.000000</td>\n",
       "      <td>2.379422e+07</td>\n",
       "    </tr>\n",
       "  </tbody>\n",
       "</table>\n",
       "</div>"
      ],
      "text/plain": [
       "             Bike ID       Duration  Ending Station ID  \\\n",
       "count  132417.000000  132427.000000       132331.00000   \n",
       "mean     6193.618878    1555.301562         3042.38672   \n",
       "std       293.606755    5814.241813           43.08440   \n",
       "min      1349.000000      60.000000         3000.00000   \n",
       "25%      5953.000000     360.000000         3022.00000   \n",
       "50%      6186.000000     600.000000         3038.00000   \n",
       "75%      6434.000000    1080.000000         3063.00000   \n",
       "max      6728.000000   86400.000000         4108.00000   \n",
       "\n",
       "       Ending Station Latitude  Ending Station Longitude  Plan Duration  \\\n",
       "count            131376.000000             131376.000000  131661.000000   \n",
       "mean                 34.034614               -118.206642      44.821967   \n",
       "std                   0.650706                  2.259913      90.411579   \n",
       "min                   0.000000               -118.472832       0.000000   \n",
       "25%                  34.044159               -118.256981       0.000000   \n",
       "50%                  34.046810               -118.250954      30.000000   \n",
       "75%                  34.050480               -118.238810      30.000000   \n",
       "max                  34.064281                  0.000000     365.000000   \n",
       "\n",
       "       Starting Station ID  Starting Station Latitude  \\\n",
       "count        132408.000000              132379.000000   \n",
       "mean           3043.020754                  34.039309   \n",
       "std              37.742021                   0.529336   \n",
       "min            3000.000000                   0.000000   \n",
       "25%            3024.000000                  34.044170   \n",
       "50%            3040.000000                  34.046822   \n",
       "75%            3063.000000                  34.050880   \n",
       "max            4108.000000                  34.064281   \n",
       "\n",
       "       Starting Station Longitude       Trip ID  \n",
       "count               132379.000000  1.324270e+05  \n",
       "mean                  -118.221534  1.153001e+07  \n",
       "std                      1.838335  6.369462e+06  \n",
       "min                   -118.472832  1.912818e+06  \n",
       "25%                   -118.256980  5.060814e+06  \n",
       "50%                   -118.250954  1.043827e+07  \n",
       "75%                   -118.241562  1.720633e+07  \n",
       "max                      0.000000  2.379422e+07  "
      ]
     },
     "execution_count": 148,
     "metadata": {},
     "output_type": "execute_result"
    }
   ],
   "source": [
    "#describing attributes\n",
    "bike_share_trip.describe()"
   ]
  },
  {
   "cell_type": "code",
   "execution_count": 149,
   "metadata": {},
   "outputs": [
    {
     "data": {
      "text/plain": [
       "['Passholder Type', 'Plan Duration', 'Trip Route Category']"
      ]
     },
     "execution_count": 149,
     "metadata": {},
     "output_type": "execute_result"
    }
   ],
   "source": [
    "#setting categorical columns\n",
    "categorical_cols = ['Passholder Type','Plan Duration', 'Trip Route Category']\n",
    "categorical_cols"
   ]
  },
  {
   "cell_type": "code",
   "execution_count": 150,
   "metadata": {},
   "outputs": [],
   "source": [
    "#ToDO change catoegories dgeebi gza da parolis tipi"
   ]
  },
  {
   "cell_type": "code",
   "execution_count": 151,
   "metadata": {},
   "outputs": [],
   "source": [
    "#Tranforming non-numerical columns to category in order to transform it afterwards\n",
    "for cols in categorical_cols:\n",
    "    bike_share_trip[cols] = bike_share_trip[cols].astype('category')"
   ]
  },
  {
   "cell_type": "code",
   "execution_count": 152,
   "metadata": {},
   "outputs": [
    {
     "data": {
      "text/html": [
       "<div>\n",
       "<style scoped>\n",
       "    .dataframe tbody tr th:only-of-type {\n",
       "        vertical-align: middle;\n",
       "    }\n",
       "\n",
       "    .dataframe tbody tr th {\n",
       "        vertical-align: top;\n",
       "    }\n",
       "\n",
       "    .dataframe thead th {\n",
       "        text-align: right;\n",
       "    }\n",
       "</style>\n",
       "<table border=\"1\" class=\"dataframe\">\n",
       "  <thead>\n",
       "    <tr style=\"text-align: right;\">\n",
       "      <th></th>\n",
       "      <th>Bike ID</th>\n",
       "      <th>Duration</th>\n",
       "      <th>End Time</th>\n",
       "      <th>Ending Station ID</th>\n",
       "      <th>Ending Station Latitude</th>\n",
       "      <th>Ending Station Longitude</th>\n",
       "      <th>Passholder Type</th>\n",
       "      <th>Plan Duration</th>\n",
       "      <th>Start Time</th>\n",
       "      <th>Starting Station ID</th>\n",
       "      <th>Starting Station Latitude</th>\n",
       "      <th>Starting Station Longitude</th>\n",
       "      <th>Trip ID</th>\n",
       "      <th>Trip Route Category</th>\n",
       "    </tr>\n",
       "  </thead>\n",
       "  <tbody>\n",
       "    <tr>\n",
       "      <th>0</th>\n",
       "      <td>6281.0</td>\n",
       "      <td>180</td>\n",
       "      <td>2016-07-07T04:20:00</td>\n",
       "      <td>3014.0</td>\n",
       "      <td>34.056610</td>\n",
       "      <td>-118.23721</td>\n",
       "      <td>1</td>\n",
       "      <td>1</td>\n",
       "      <td>2016-07-07T04:17:00</td>\n",
       "      <td>3014.0</td>\n",
       "      <td>34.056610</td>\n",
       "      <td>-118.23721</td>\n",
       "      <td>1912818</td>\n",
       "      <td>1</td>\n",
       "    </tr>\n",
       "    <tr>\n",
       "      <th>1</th>\n",
       "      <td>6281.0</td>\n",
       "      <td>1980</td>\n",
       "      <td>2016-07-07T06:33:00</td>\n",
       "      <td>3014.0</td>\n",
       "      <td>34.056610</td>\n",
       "      <td>-118.23721</td>\n",
       "      <td>1</td>\n",
       "      <td>1</td>\n",
       "      <td>2016-07-07T06:00:00</td>\n",
       "      <td>3014.0</td>\n",
       "      <td>34.056610</td>\n",
       "      <td>-118.23721</td>\n",
       "      <td>1919661</td>\n",
       "      <td>1</td>\n",
       "    </tr>\n",
       "    <tr>\n",
       "      <th>2</th>\n",
       "      <td>5861.0</td>\n",
       "      <td>300</td>\n",
       "      <td>2016-07-07T10:37:00</td>\n",
       "      <td>3016.0</td>\n",
       "      <td>34.052898</td>\n",
       "      <td>-118.24156</td>\n",
       "      <td>0</td>\n",
       "      <td>2</td>\n",
       "      <td>2016-07-07T10:32:00</td>\n",
       "      <td>3016.0</td>\n",
       "      <td>34.052898</td>\n",
       "      <td>-118.24156</td>\n",
       "      <td>1933383</td>\n",
       "      <td>1</td>\n",
       "    </tr>\n",
       "    <tr>\n",
       "      <th>3</th>\n",
       "      <td>5861.0</td>\n",
       "      <td>10860</td>\n",
       "      <td>2016-07-07T13:38:00</td>\n",
       "      <td>3016.0</td>\n",
       "      <td>34.052898</td>\n",
       "      <td>-118.24156</td>\n",
       "      <td>0</td>\n",
       "      <td>2</td>\n",
       "      <td>2016-07-07T10:37:00</td>\n",
       "      <td>3016.0</td>\n",
       "      <td>34.052898</td>\n",
       "      <td>-118.24156</td>\n",
       "      <td>1944197</td>\n",
       "      <td>1</td>\n",
       "    </tr>\n",
       "    <tr>\n",
       "      <th>4</th>\n",
       "      <td>6674.0</td>\n",
       "      <td>420</td>\n",
       "      <td>2016-07-07T12:58:00</td>\n",
       "      <td>3032.0</td>\n",
       "      <td>34.049889</td>\n",
       "      <td>-118.25588</td>\n",
       "      <td>3</td>\n",
       "      <td>0</td>\n",
       "      <td>2016-07-07T12:51:00</td>\n",
       "      <td>3032.0</td>\n",
       "      <td>34.049889</td>\n",
       "      <td>-118.25588</td>\n",
       "      <td>1940317</td>\n",
       "      <td>1</td>\n",
       "    </tr>\n",
       "    <tr>\n",
       "      <th>5</th>\n",
       "      <td>6717.0</td>\n",
       "      <td>780</td>\n",
       "      <td>2016-07-07T13:04:00</td>\n",
       "      <td>3054.0</td>\n",
       "      <td>34.039219</td>\n",
       "      <td>-118.23649</td>\n",
       "      <td>1</td>\n",
       "      <td>1</td>\n",
       "      <td>2016-07-07T12:51:00</td>\n",
       "      <td>3021.0</td>\n",
       "      <td>34.045609</td>\n",
       "      <td>-118.23703</td>\n",
       "      <td>1944075</td>\n",
       "      <td>0</td>\n",
       "    </tr>\n",
       "    <tr>\n",
       "      <th>6</th>\n",
       "      <td>5721.0</td>\n",
       "      <td>600</td>\n",
       "      <td>2016-07-07T13:04:00</td>\n",
       "      <td>3014.0</td>\n",
       "      <td>34.056610</td>\n",
       "      <td>-118.23721</td>\n",
       "      <td>1</td>\n",
       "      <td>1</td>\n",
       "      <td>2016-07-07T12:54:00</td>\n",
       "      <td>3022.0</td>\n",
       "      <td>34.046070</td>\n",
       "      <td>-118.23309</td>\n",
       "      <td>1944073</td>\n",
       "      <td>0</td>\n",
       "    </tr>\n",
       "    <tr>\n",
       "      <th>7</th>\n",
       "      <td>5957.0</td>\n",
       "      <td>600</td>\n",
       "      <td>2016-07-07T13:09:00</td>\n",
       "      <td>3005.0</td>\n",
       "      <td>34.048550</td>\n",
       "      <td>-118.25905</td>\n",
       "      <td>0</td>\n",
       "      <td>2</td>\n",
       "      <td>2016-07-07T12:59:00</td>\n",
       "      <td>3076.0</td>\n",
       "      <td>34.040600</td>\n",
       "      <td>-118.25384</td>\n",
       "      <td>1944067</td>\n",
       "      <td>0</td>\n",
       "    </tr>\n",
       "    <tr>\n",
       "      <th>8</th>\n",
       "      <td>6137.0</td>\n",
       "      <td>2880</td>\n",
       "      <td>2016-07-07T13:49:00</td>\n",
       "      <td>3031.0</td>\n",
       "      <td>34.044701</td>\n",
       "      <td>-118.25244</td>\n",
       "      <td>0</td>\n",
       "      <td>2</td>\n",
       "      <td>2016-07-07T13:01:00</td>\n",
       "      <td>3031.0</td>\n",
       "      <td>34.044701</td>\n",
       "      <td>-118.25244</td>\n",
       "      <td>1944062</td>\n",
       "      <td>1</td>\n",
       "    </tr>\n",
       "    <tr>\n",
       "      <th>9</th>\n",
       "      <td>6351.0</td>\n",
       "      <td>960</td>\n",
       "      <td>2016-07-07T13:17:00</td>\n",
       "      <td>3078.0</td>\n",
       "      <td>34.064281</td>\n",
       "      <td>-118.23894</td>\n",
       "      <td>1</td>\n",
       "      <td>1</td>\n",
       "      <td>2016-07-07T13:01:00</td>\n",
       "      <td>3031.0</td>\n",
       "      <td>34.044701</td>\n",
       "      <td>-118.25244</td>\n",
       "      <td>1944063</td>\n",
       "      <td>0</td>\n",
       "    </tr>\n",
       "  </tbody>\n",
       "</table>\n",
       "</div>"
      ],
      "text/plain": [
       "   Bike ID  Duration             End Time  Ending Station ID  \\\n",
       "0   6281.0       180  2016-07-07T04:20:00             3014.0   \n",
       "1   6281.0      1980  2016-07-07T06:33:00             3014.0   \n",
       "2   5861.0       300  2016-07-07T10:37:00             3016.0   \n",
       "3   5861.0     10860  2016-07-07T13:38:00             3016.0   \n",
       "4   6674.0       420  2016-07-07T12:58:00             3032.0   \n",
       "5   6717.0       780  2016-07-07T13:04:00             3054.0   \n",
       "6   5721.0       600  2016-07-07T13:04:00             3014.0   \n",
       "7   5957.0       600  2016-07-07T13:09:00             3005.0   \n",
       "8   6137.0      2880  2016-07-07T13:49:00             3031.0   \n",
       "9   6351.0       960  2016-07-07T13:17:00             3078.0   \n",
       "\n",
       "   Ending Station Latitude  Ending Station Longitude  Passholder Type  \\\n",
       "0                34.056610                -118.23721                1   \n",
       "1                34.056610                -118.23721                1   \n",
       "2                34.052898                -118.24156                0   \n",
       "3                34.052898                -118.24156                0   \n",
       "4                34.049889                -118.25588                3   \n",
       "5                34.039219                -118.23649                1   \n",
       "6                34.056610                -118.23721                1   \n",
       "7                34.048550                -118.25905                0   \n",
       "8                34.044701                -118.25244                0   \n",
       "9                34.064281                -118.23894                1   \n",
       "\n",
       "   Plan Duration           Start Time  Starting Station ID  \\\n",
       "0              1  2016-07-07T04:17:00               3014.0   \n",
       "1              1  2016-07-07T06:00:00               3014.0   \n",
       "2              2  2016-07-07T10:32:00               3016.0   \n",
       "3              2  2016-07-07T10:37:00               3016.0   \n",
       "4              0  2016-07-07T12:51:00               3032.0   \n",
       "5              1  2016-07-07T12:51:00               3021.0   \n",
       "6              1  2016-07-07T12:54:00               3022.0   \n",
       "7              2  2016-07-07T12:59:00               3076.0   \n",
       "8              2  2016-07-07T13:01:00               3031.0   \n",
       "9              1  2016-07-07T13:01:00               3031.0   \n",
       "\n",
       "   Starting Station Latitude  Starting Station Longitude  Trip ID  \\\n",
       "0                  34.056610                  -118.23721  1912818   \n",
       "1                  34.056610                  -118.23721  1919661   \n",
       "2                  34.052898                  -118.24156  1933383   \n",
       "3                  34.052898                  -118.24156  1944197   \n",
       "4                  34.049889                  -118.25588  1940317   \n",
       "5                  34.045609                  -118.23703  1944075   \n",
       "6                  34.046070                  -118.23309  1944073   \n",
       "7                  34.040600                  -118.25384  1944067   \n",
       "8                  34.044701                  -118.25244  1944062   \n",
       "9                  34.044701                  -118.25244  1944063   \n",
       "\n",
       "   Trip Route Category  \n",
       "0                    1  \n",
       "1                    1  \n",
       "2                    1  \n",
       "3                    1  \n",
       "4                    1  \n",
       "5                    0  \n",
       "6                    0  \n",
       "7                    0  \n",
       "8                    1  \n",
       "9                    0  "
      ]
     },
     "execution_count": 152,
     "metadata": {},
     "output_type": "execute_result"
    }
   ],
   "source": [
    "#transforming categorical values thanks to cat.codes\n",
    "categorical_cols = bike_share_trip.select_dtypes(include=['category']).columns\n",
    "bike_share_trip[categorical_cols] = bike_share_trip[categorical_cols].apply(lambda x: x.cat.codes)\n",
    "bike_share_trip.head(10)"
   ]
  },
  {
   "cell_type": "code",
   "execution_count": 153,
   "metadata": {},
   "outputs": [
    {
     "data": {
      "text/html": [
       "<div>\n",
       "<style scoped>\n",
       "    .dataframe tbody tr th:only-of-type {\n",
       "        vertical-align: middle;\n",
       "    }\n",
       "\n",
       "    .dataframe tbody tr th {\n",
       "        vertical-align: top;\n",
       "    }\n",
       "\n",
       "    .dataframe thead th {\n",
       "        text-align: right;\n",
       "    }\n",
       "</style>\n",
       "<table border=\"1\" class=\"dataframe\">\n",
       "  <thead>\n",
       "    <tr style=\"text-align: right;\">\n",
       "      <th></th>\n",
       "      <th>Duration</th>\n",
       "      <th>Plan Duration</th>\n",
       "      <th>Trip Route Category</th>\n",
       "    </tr>\n",
       "  </thead>\n",
       "  <tbody>\n",
       "    <tr>\n",
       "      <th>0</th>\n",
       "      <td>180</td>\n",
       "      <td>1</td>\n",
       "      <td>1</td>\n",
       "    </tr>\n",
       "    <tr>\n",
       "      <th>1</th>\n",
       "      <td>1980</td>\n",
       "      <td>1</td>\n",
       "      <td>1</td>\n",
       "    </tr>\n",
       "    <tr>\n",
       "      <th>2</th>\n",
       "      <td>300</td>\n",
       "      <td>2</td>\n",
       "      <td>1</td>\n",
       "    </tr>\n",
       "    <tr>\n",
       "      <th>3</th>\n",
       "      <td>10860</td>\n",
       "      <td>2</td>\n",
       "      <td>1</td>\n",
       "    </tr>\n",
       "    <tr>\n",
       "      <th>4</th>\n",
       "      <td>420</td>\n",
       "      <td>0</td>\n",
       "      <td>1</td>\n",
       "    </tr>\n",
       "    <tr>\n",
       "      <th>5</th>\n",
       "      <td>780</td>\n",
       "      <td>1</td>\n",
       "      <td>0</td>\n",
       "    </tr>\n",
       "    <tr>\n",
       "      <th>6</th>\n",
       "      <td>600</td>\n",
       "      <td>1</td>\n",
       "      <td>0</td>\n",
       "    </tr>\n",
       "    <tr>\n",
       "      <th>7</th>\n",
       "      <td>600</td>\n",
       "      <td>2</td>\n",
       "      <td>0</td>\n",
       "    </tr>\n",
       "    <tr>\n",
       "      <th>8</th>\n",
       "      <td>2880</td>\n",
       "      <td>2</td>\n",
       "      <td>1</td>\n",
       "    </tr>\n",
       "    <tr>\n",
       "      <th>9</th>\n",
       "      <td>960</td>\n",
       "      <td>1</td>\n",
       "      <td>0</td>\n",
       "    </tr>\n",
       "    <tr>\n",
       "      <th>10</th>\n",
       "      <td>960</td>\n",
       "      <td>2</td>\n",
       "      <td>0</td>\n",
       "    </tr>\n",
       "    <tr>\n",
       "      <th>11</th>\n",
       "      <td>720</td>\n",
       "      <td>1</td>\n",
       "      <td>0</td>\n",
       "    </tr>\n",
       "    <tr>\n",
       "      <th>12</th>\n",
       "      <td>360</td>\n",
       "      <td>1</td>\n",
       "      <td>0</td>\n",
       "    </tr>\n",
       "    <tr>\n",
       "      <th>13</th>\n",
       "      <td>120</td>\n",
       "      <td>1</td>\n",
       "      <td>1</td>\n",
       "    </tr>\n",
       "    <tr>\n",
       "      <th>14</th>\n",
       "      <td>660</td>\n",
       "      <td>1</td>\n",
       "      <td>0</td>\n",
       "    </tr>\n",
       "    <tr>\n",
       "      <th>15</th>\n",
       "      <td>480</td>\n",
       "      <td>2</td>\n",
       "      <td>0</td>\n",
       "    </tr>\n",
       "    <tr>\n",
       "      <th>16</th>\n",
       "      <td>2100</td>\n",
       "      <td>1</td>\n",
       "      <td>0</td>\n",
       "    </tr>\n",
       "    <tr>\n",
       "      <th>17</th>\n",
       "      <td>600</td>\n",
       "      <td>1</td>\n",
       "      <td>0</td>\n",
       "    </tr>\n",
       "    <tr>\n",
       "      <th>18</th>\n",
       "      <td>420</td>\n",
       "      <td>1</td>\n",
       "      <td>0</td>\n",
       "    </tr>\n",
       "    <tr>\n",
       "      <th>19</th>\n",
       "      <td>960</td>\n",
       "      <td>1</td>\n",
       "      <td>0</td>\n",
       "    </tr>\n",
       "  </tbody>\n",
       "</table>\n",
       "</div>"
      ],
      "text/plain": [
       "    Duration  Plan Duration  Trip Route Category\n",
       "0        180              1                    1\n",
       "1       1980              1                    1\n",
       "2        300              2                    1\n",
       "3      10860              2                    1\n",
       "4        420              0                    1\n",
       "5        780              1                    0\n",
       "6        600              1                    0\n",
       "7        600              2                    0\n",
       "8       2880              2                    1\n",
       "9        960              1                    0\n",
       "10       960              2                    0\n",
       "11       720              1                    0\n",
       "12       360              1                    0\n",
       "13       120              1                    1\n",
       "14       660              1                    0\n",
       "15       480              2                    0\n",
       "16      2100              1                    0\n",
       "17       600              1                    0\n",
       "18       420              1                    0\n",
       "19       960              1                    0"
      ]
     },
     "execution_count": 153,
     "metadata": {},
     "output_type": "execute_result"
    }
   ],
   "source": [
    "#Extracting redundant columns based on the analysis explained in Output[209]\n",
    "redudant_columns = ['Duration','Plan Duration', 'Trip Route Category']\n",
    "bike_share_trip_redundancy = bike_share_trip[redudant_columns]\n",
    "bike_share_trip_redundancy.head(20)"
   ]
  },
  {
   "cell_type": "code",
   "execution_count": 154,
   "metadata": {},
   "outputs": [
    {
     "data": {
      "text/html": [
       "<div>\n",
       "<style scoped>\n",
       "    .dataframe tbody tr th:only-of-type {\n",
       "        vertical-align: middle;\n",
       "    }\n",
       "\n",
       "    .dataframe tbody tr th {\n",
       "        vertical-align: top;\n",
       "    }\n",
       "\n",
       "    .dataframe thead th {\n",
       "        text-align: right;\n",
       "    }\n",
       "</style>\n",
       "<table border=\"1\" class=\"dataframe\">\n",
       "  <thead>\n",
       "    <tr style=\"text-align: right;\">\n",
       "      <th></th>\n",
       "      <th>Bike ID</th>\n",
       "      <th>Ending Station ID</th>\n",
       "      <th>Ending Station Latitude</th>\n",
       "      <th>Ending Station Longitude</th>\n",
       "      <th>Passholder Type</th>\n",
       "      <th>Plan Duration</th>\n",
       "      <th>Start Time</th>\n",
       "      <th>Starting Station ID</th>\n",
       "      <th>Starting Station Latitude</th>\n",
       "      <th>Starting Station Longitude</th>\n",
       "      <th>Trip ID</th>\n",
       "      <th>Trip Route Category</th>\n",
       "    </tr>\n",
       "  </thead>\n",
       "  <tbody>\n",
       "    <tr>\n",
       "      <th>0</th>\n",
       "      <td>6281.0</td>\n",
       "      <td>3014.0</td>\n",
       "      <td>34.056610</td>\n",
       "      <td>-118.23721</td>\n",
       "      <td>1</td>\n",
       "      <td>1</td>\n",
       "      <td>2016-07-07T04:17:00</td>\n",
       "      <td>3014.0</td>\n",
       "      <td>34.056610</td>\n",
       "      <td>-118.23721</td>\n",
       "      <td>1912818</td>\n",
       "      <td>1</td>\n",
       "    </tr>\n",
       "    <tr>\n",
       "      <th>1</th>\n",
       "      <td>6281.0</td>\n",
       "      <td>3014.0</td>\n",
       "      <td>34.056610</td>\n",
       "      <td>-118.23721</td>\n",
       "      <td>1</td>\n",
       "      <td>1</td>\n",
       "      <td>2016-07-07T06:00:00</td>\n",
       "      <td>3014.0</td>\n",
       "      <td>34.056610</td>\n",
       "      <td>-118.23721</td>\n",
       "      <td>1919661</td>\n",
       "      <td>1</td>\n",
       "    </tr>\n",
       "    <tr>\n",
       "      <th>2</th>\n",
       "      <td>5861.0</td>\n",
       "      <td>3016.0</td>\n",
       "      <td>34.052898</td>\n",
       "      <td>-118.24156</td>\n",
       "      <td>0</td>\n",
       "      <td>2</td>\n",
       "      <td>2016-07-07T10:32:00</td>\n",
       "      <td>3016.0</td>\n",
       "      <td>34.052898</td>\n",
       "      <td>-118.24156</td>\n",
       "      <td>1933383</td>\n",
       "      <td>1</td>\n",
       "    </tr>\n",
       "    <tr>\n",
       "      <th>3</th>\n",
       "      <td>5861.0</td>\n",
       "      <td>3016.0</td>\n",
       "      <td>34.052898</td>\n",
       "      <td>-118.24156</td>\n",
       "      <td>0</td>\n",
       "      <td>2</td>\n",
       "      <td>2016-07-07T10:37:00</td>\n",
       "      <td>3016.0</td>\n",
       "      <td>34.052898</td>\n",
       "      <td>-118.24156</td>\n",
       "      <td>1944197</td>\n",
       "      <td>1</td>\n",
       "    </tr>\n",
       "    <tr>\n",
       "      <th>4</th>\n",
       "      <td>6674.0</td>\n",
       "      <td>3032.0</td>\n",
       "      <td>34.049889</td>\n",
       "      <td>-118.25588</td>\n",
       "      <td>3</td>\n",
       "      <td>0</td>\n",
       "      <td>2016-07-07T12:51:00</td>\n",
       "      <td>3032.0</td>\n",
       "      <td>34.049889</td>\n",
       "      <td>-118.25588</td>\n",
       "      <td>1940317</td>\n",
       "      <td>1</td>\n",
       "    </tr>\n",
       "    <tr>\n",
       "      <th>5</th>\n",
       "      <td>6717.0</td>\n",
       "      <td>3054.0</td>\n",
       "      <td>34.039219</td>\n",
       "      <td>-118.23649</td>\n",
       "      <td>1</td>\n",
       "      <td>1</td>\n",
       "      <td>2016-07-07T12:51:00</td>\n",
       "      <td>3021.0</td>\n",
       "      <td>34.045609</td>\n",
       "      <td>-118.23703</td>\n",
       "      <td>1944075</td>\n",
       "      <td>0</td>\n",
       "    </tr>\n",
       "    <tr>\n",
       "      <th>6</th>\n",
       "      <td>5721.0</td>\n",
       "      <td>3014.0</td>\n",
       "      <td>34.056610</td>\n",
       "      <td>-118.23721</td>\n",
       "      <td>1</td>\n",
       "      <td>1</td>\n",
       "      <td>2016-07-07T12:54:00</td>\n",
       "      <td>3022.0</td>\n",
       "      <td>34.046070</td>\n",
       "      <td>-118.23309</td>\n",
       "      <td>1944073</td>\n",
       "      <td>0</td>\n",
       "    </tr>\n",
       "    <tr>\n",
       "      <th>7</th>\n",
       "      <td>5957.0</td>\n",
       "      <td>3005.0</td>\n",
       "      <td>34.048550</td>\n",
       "      <td>-118.25905</td>\n",
       "      <td>0</td>\n",
       "      <td>2</td>\n",
       "      <td>2016-07-07T12:59:00</td>\n",
       "      <td>3076.0</td>\n",
       "      <td>34.040600</td>\n",
       "      <td>-118.25384</td>\n",
       "      <td>1944067</td>\n",
       "      <td>0</td>\n",
       "    </tr>\n",
       "    <tr>\n",
       "      <th>8</th>\n",
       "      <td>6137.0</td>\n",
       "      <td>3031.0</td>\n",
       "      <td>34.044701</td>\n",
       "      <td>-118.25244</td>\n",
       "      <td>0</td>\n",
       "      <td>2</td>\n",
       "      <td>2016-07-07T13:01:00</td>\n",
       "      <td>3031.0</td>\n",
       "      <td>34.044701</td>\n",
       "      <td>-118.25244</td>\n",
       "      <td>1944062</td>\n",
       "      <td>1</td>\n",
       "    </tr>\n",
       "    <tr>\n",
       "      <th>9</th>\n",
       "      <td>6351.0</td>\n",
       "      <td>3078.0</td>\n",
       "      <td>34.064281</td>\n",
       "      <td>-118.23894</td>\n",
       "      <td>1</td>\n",
       "      <td>1</td>\n",
       "      <td>2016-07-07T13:01:00</td>\n",
       "      <td>3031.0</td>\n",
       "      <td>34.044701</td>\n",
       "      <td>-118.25244</td>\n",
       "      <td>1944063</td>\n",
       "      <td>0</td>\n",
       "    </tr>\n",
       "    <tr>\n",
       "      <th>10</th>\n",
       "      <td>6200.0</td>\n",
       "      <td>3047.0</td>\n",
       "      <td>34.039982</td>\n",
       "      <td>-118.26640</td>\n",
       "      <td>0</td>\n",
       "      <td>2</td>\n",
       "      <td>2016-07-07T13:02:00</td>\n",
       "      <td>3031.0</td>\n",
       "      <td>34.044701</td>\n",
       "      <td>-118.25244</td>\n",
       "      <td>1944061</td>\n",
       "      <td>0</td>\n",
       "    </tr>\n",
       "    <tr>\n",
       "      <th>11</th>\n",
       "      <td>6110.0</td>\n",
       "      <td>3005.0</td>\n",
       "      <td>34.048550</td>\n",
       "      <td>-118.25905</td>\n",
       "      <td>1</td>\n",
       "      <td>1</td>\n",
       "      <td>2016-07-07T13:03:00</td>\n",
       "      <td>3063.0</td>\n",
       "      <td>34.049198</td>\n",
       "      <td>-118.25283</td>\n",
       "      <td>1944059</td>\n",
       "      <td>0</td>\n",
       "    </tr>\n",
       "    <tr>\n",
       "      <th>12</th>\n",
       "      <td>5856.0</td>\n",
       "      <td>3030.0</td>\n",
       "      <td>34.051941</td>\n",
       "      <td>-118.24353</td>\n",
       "      <td>1</td>\n",
       "      <td>1</td>\n",
       "      <td>2016-07-07T13:03:00</td>\n",
       "      <td>3042.0</td>\n",
       "      <td>34.049301</td>\n",
       "      <td>-118.23881</td>\n",
       "      <td>1944058</td>\n",
       "      <td>0</td>\n",
       "    </tr>\n",
       "    <tr>\n",
       "      <th>13</th>\n",
       "      <td>6217.0</td>\n",
       "      <td>3018.0</td>\n",
       "      <td>34.043732</td>\n",
       "      <td>-118.26014</td>\n",
       "      <td>1</td>\n",
       "      <td>1</td>\n",
       "      <td>2016-07-07T13:04:00</td>\n",
       "      <td>3018.0</td>\n",
       "      <td>34.043732</td>\n",
       "      <td>-118.26014</td>\n",
       "      <td>1944054</td>\n",
       "      <td>1</td>\n",
       "    </tr>\n",
       "    <tr>\n",
       "      <th>14</th>\n",
       "      <td>6717.0</td>\n",
       "      <td>3030.0</td>\n",
       "      <td>34.051941</td>\n",
       "      <td>-118.24353</td>\n",
       "      <td>1</td>\n",
       "      <td>1</td>\n",
       "      <td>2016-07-07T13:04:00</td>\n",
       "      <td>3054.0</td>\n",
       "      <td>34.039219</td>\n",
       "      <td>-118.23649</td>\n",
       "      <td>1944057</td>\n",
       "      <td>0</td>\n",
       "    </tr>\n",
       "    <tr>\n",
       "      <th>15</th>\n",
       "      <td>6332.0</td>\n",
       "      <td>3076.0</td>\n",
       "      <td>34.040600</td>\n",
       "      <td>-118.25384</td>\n",
       "      <td>0</td>\n",
       "      <td>2</td>\n",
       "      <td>2016-07-07T13:04:00</td>\n",
       "      <td>3031.0</td>\n",
       "      <td>34.044701</td>\n",
       "      <td>-118.25244</td>\n",
       "      <td>1944055</td>\n",
       "      <td>0</td>\n",
       "    </tr>\n",
       "    <tr>\n",
       "      <th>16</th>\n",
       "      <td>5965.0</td>\n",
       "      <td>3033.0</td>\n",
       "      <td>34.040989</td>\n",
       "      <td>-118.25580</td>\n",
       "      <td>1</td>\n",
       "      <td>1</td>\n",
       "      <td>2016-07-07T13:06:00</td>\n",
       "      <td>3006.0</td>\n",
       "      <td>34.045540</td>\n",
       "      <td>-118.25667</td>\n",
       "      <td>1944052</td>\n",
       "      <td>0</td>\n",
       "    </tr>\n",
       "    <tr>\n",
       "      <th>17</th>\n",
       "      <td>6608.0</td>\n",
       "      <td>3007.0</td>\n",
       "      <td>34.050480</td>\n",
       "      <td>-118.25459</td>\n",
       "      <td>1</td>\n",
       "      <td>1</td>\n",
       "      <td>2016-07-07T13:07:00</td>\n",
       "      <td>3018.0</td>\n",
       "      <td>34.043732</td>\n",
       "      <td>-118.26014</td>\n",
       "      <td>1944050</td>\n",
       "      <td>0</td>\n",
       "    </tr>\n",
       "    <tr>\n",
       "      <th>18</th>\n",
       "      <td>6557.0</td>\n",
       "      <td>3016.0</td>\n",
       "      <td>34.052898</td>\n",
       "      <td>-118.24156</td>\n",
       "      <td>1</td>\n",
       "      <td>1</td>\n",
       "      <td>2016-07-07T13:07:00</td>\n",
       "      <td>3014.0</td>\n",
       "      <td>34.056610</td>\n",
       "      <td>-118.23721</td>\n",
       "      <td>1944048</td>\n",
       "      <td>0</td>\n",
       "    </tr>\n",
       "    <tr>\n",
       "      <th>19</th>\n",
       "      <td>6123.0</td>\n",
       "      <td>3063.0</td>\n",
       "      <td>34.049198</td>\n",
       "      <td>-118.25283</td>\n",
       "      <td>1</td>\n",
       "      <td>1</td>\n",
       "      <td>2016-07-07T13:07:00</td>\n",
       "      <td>3037.0</td>\n",
       "      <td>34.034802</td>\n",
       "      <td>-118.23128</td>\n",
       "      <td>1944049</td>\n",
       "      <td>0</td>\n",
       "    </tr>\n",
       "  </tbody>\n",
       "</table>\n",
       "</div>"
      ],
      "text/plain": [
       "    Bike ID  Ending Station ID  Ending Station Latitude  \\\n",
       "0    6281.0             3014.0                34.056610   \n",
       "1    6281.0             3014.0                34.056610   \n",
       "2    5861.0             3016.0                34.052898   \n",
       "3    5861.0             3016.0                34.052898   \n",
       "4    6674.0             3032.0                34.049889   \n",
       "5    6717.0             3054.0                34.039219   \n",
       "6    5721.0             3014.0                34.056610   \n",
       "7    5957.0             3005.0                34.048550   \n",
       "8    6137.0             3031.0                34.044701   \n",
       "9    6351.0             3078.0                34.064281   \n",
       "10   6200.0             3047.0                34.039982   \n",
       "11   6110.0             3005.0                34.048550   \n",
       "12   5856.0             3030.0                34.051941   \n",
       "13   6217.0             3018.0                34.043732   \n",
       "14   6717.0             3030.0                34.051941   \n",
       "15   6332.0             3076.0                34.040600   \n",
       "16   5965.0             3033.0                34.040989   \n",
       "17   6608.0             3007.0                34.050480   \n",
       "18   6557.0             3016.0                34.052898   \n",
       "19   6123.0             3063.0                34.049198   \n",
       "\n",
       "    Ending Station Longitude  Passholder Type  Plan Duration  \\\n",
       "0                 -118.23721                1              1   \n",
       "1                 -118.23721                1              1   \n",
       "2                 -118.24156                0              2   \n",
       "3                 -118.24156                0              2   \n",
       "4                 -118.25588                3              0   \n",
       "5                 -118.23649                1              1   \n",
       "6                 -118.23721                1              1   \n",
       "7                 -118.25905                0              2   \n",
       "8                 -118.25244                0              2   \n",
       "9                 -118.23894                1              1   \n",
       "10                -118.26640                0              2   \n",
       "11                -118.25905                1              1   \n",
       "12                -118.24353                1              1   \n",
       "13                -118.26014                1              1   \n",
       "14                -118.24353                1              1   \n",
       "15                -118.25384                0              2   \n",
       "16                -118.25580                1              1   \n",
       "17                -118.25459                1              1   \n",
       "18                -118.24156                1              1   \n",
       "19                -118.25283                1              1   \n",
       "\n",
       "             Start Time  Starting Station ID  Starting Station Latitude  \\\n",
       "0   2016-07-07T04:17:00               3014.0                  34.056610   \n",
       "1   2016-07-07T06:00:00               3014.0                  34.056610   \n",
       "2   2016-07-07T10:32:00               3016.0                  34.052898   \n",
       "3   2016-07-07T10:37:00               3016.0                  34.052898   \n",
       "4   2016-07-07T12:51:00               3032.0                  34.049889   \n",
       "5   2016-07-07T12:51:00               3021.0                  34.045609   \n",
       "6   2016-07-07T12:54:00               3022.0                  34.046070   \n",
       "7   2016-07-07T12:59:00               3076.0                  34.040600   \n",
       "8   2016-07-07T13:01:00               3031.0                  34.044701   \n",
       "9   2016-07-07T13:01:00               3031.0                  34.044701   \n",
       "10  2016-07-07T13:02:00               3031.0                  34.044701   \n",
       "11  2016-07-07T13:03:00               3063.0                  34.049198   \n",
       "12  2016-07-07T13:03:00               3042.0                  34.049301   \n",
       "13  2016-07-07T13:04:00               3018.0                  34.043732   \n",
       "14  2016-07-07T13:04:00               3054.0                  34.039219   \n",
       "15  2016-07-07T13:04:00               3031.0                  34.044701   \n",
       "16  2016-07-07T13:06:00               3006.0                  34.045540   \n",
       "17  2016-07-07T13:07:00               3018.0                  34.043732   \n",
       "18  2016-07-07T13:07:00               3014.0                  34.056610   \n",
       "19  2016-07-07T13:07:00               3037.0                  34.034802   \n",
       "\n",
       "    Starting Station Longitude  Trip ID  Trip Route Category  \n",
       "0                   -118.23721  1912818                    1  \n",
       "1                   -118.23721  1919661                    1  \n",
       "2                   -118.24156  1933383                    1  \n",
       "3                   -118.24156  1944197                    1  \n",
       "4                   -118.25588  1940317                    1  \n",
       "5                   -118.23703  1944075                    0  \n",
       "6                   -118.23309  1944073                    0  \n",
       "7                   -118.25384  1944067                    0  \n",
       "8                   -118.25244  1944062                    1  \n",
       "9                   -118.25244  1944063                    0  \n",
       "10                  -118.25244  1944061                    0  \n",
       "11                  -118.25283  1944059                    0  \n",
       "12                  -118.23881  1944058                    0  \n",
       "13                  -118.26014  1944054                    1  \n",
       "14                  -118.23649  1944057                    0  \n",
       "15                  -118.25244  1944055                    0  \n",
       "16                  -118.25667  1944052                    0  \n",
       "17                  -118.26014  1944050                    0  \n",
       "18                  -118.23721  1944048                    0  \n",
       "19                  -118.23128  1944049                    0  "
      ]
     },
     "execution_count": 154,
     "metadata": {},
     "output_type": "execute_result"
    }
   ],
   "source": [
    "#Create dataframe without redundancy\n",
    "bike_share_trip_withoutRedundancy = bike_share_trip\n",
    "bike_share_trip_withoutRedundancy.drop(bike_share_trip_withoutRedundancy.columns[[1, 2]], axis=1, inplace=True)\n",
    "bike_share_trip_withoutRedundancy.head(20)"
   ]
  },
  {
   "cell_type": "code",
   "execution_count": 155,
   "metadata": {},
   "outputs": [
    {
     "data": {
      "text/plain": [
       "Duration               int64\n",
       "Plan Duration           int8\n",
       "Trip Route Category     int8\n",
       "dtype: object"
      ]
     },
     "execution_count": 155,
     "metadata": {},
     "output_type": "execute_result"
    }
   ],
   "source": [
    "#Displaying dataframe redundancy types\n",
    "bike_share_trip_redundancy.dtypes"
   ]
  },
  {
   "cell_type": "code",
   "execution_count": 156,
   "metadata": {},
   "outputs": [
    {
     "data": {
      "text/plain": [
       "(132427, 3)"
      ]
     },
     "execution_count": 156,
     "metadata": {},
     "output_type": "execute_result"
    }
   ],
   "source": [
    "#Displaying dataframe redundancy shape\n",
    "bike_share_trip_redundancy.shape"
   ]
  },
  {
   "cell_type": "code",
   "execution_count": 157,
   "metadata": {},
   "outputs": [
    {
     "data": {
      "text/plain": [
       "Bike ID                       float64\n",
       "Ending Station ID             float64\n",
       "Ending Station Latitude       float64\n",
       "Ending Station Longitude      float64\n",
       "Passholder Type                  int8\n",
       "Plan Duration                    int8\n",
       "Start Time                     object\n",
       "Starting Station ID           float64\n",
       "Starting Station Latitude     float64\n",
       "Starting Station Longitude    float64\n",
       "Trip ID                         int64\n",
       "Trip Route Category              int8\n",
       "dtype: object"
      ]
     },
     "execution_count": 157,
     "metadata": {},
     "output_type": "execute_result"
    }
   ],
   "source": [
    "#Displaying dataframe redundancy types\n",
    "bike_share_trip_withoutRedundancy.dtypes"
   ]
  },
  {
   "cell_type": "code",
   "execution_count": 158,
   "metadata": {},
   "outputs": [
    {
     "data": {
      "text/plain": [
       "(132427, 12)"
      ]
     },
     "execution_count": 158,
     "metadata": {},
     "output_type": "execute_result"
    }
   ],
   "source": [
    "#Displaying dataframe redundancy shape\n",
    "bike_share_trip_withoutRedundancy.shape"
   ]
  },
  {
   "cell_type": "markdown",
   "metadata": {},
   "source": [
    "<u><b><font color='green'>ANSWERS:</font></b></u><br><br>\n",
    "\n",
    "<u><b>Redundant columns:</b></u><br>\n",
    "\n",
    "* Duration column is the total second between start time and end time<br>\n",
    "* Plan duration is the number of days in the plan, it depends of the PassHolder Type\n",
    "Monthly -> 30, Flex Pass -> 365<br>\n",
    "* Ending and Starting station Longitude Latitude only depends of the Ending and Starting station ID\n",
    "There would be a table that reference the station with Station ID and their latitude / longitude<br>\n",
    "*!! round trip blabalbal !!!! ToDo\n",
    "<u><b>Redundant columns pitfalls:</b></u><br>\n",
    "\n",
    "Having redundant columns is a poor design, instead of doing that we should have other tables that reference primary and foreign keys. Thanks to a such design, we have only one table to update when there is a change. \n",
    "\n",
    "For instance, if a station moves to another localisation we will update its longitude/latitude in the Station table, but it won't be updated in this table."
   ]
  },
  {
   "cell_type": "markdown",
   "metadata": {},
   "source": [
    "### B3. Querying Phase\n",
    "Answer the following queries using the functionality of `Pandas`.\n",
    "\n",
    "1. Plot the *distribution* of the number of outgoing trips from each station in a histogram with 20 bins (Hint: each bin describes a range of counts, not stations).\n",
    "* Plot histograms for the *duration* and *trip starting hour in the day* attributes. For both the *duration*  and the *trip starting hour* use *discrete 1-hour intervals*. What do you observe in each plot? What are some popular values in the *duration* plot? Explain the local maxima and the trends you observe on the *trip starting hour* plot based on human behavior.\n",
    "* For each *trip route category*, calculate the proportion of trips by *passholder type* and present your results in *a stacked bar chart with normalized height*.\n",
    "* Considering only trips that begin in the morning hours (before noon), plot in *a single bar chart* the proportion of trips by *passholder type* and *trip route category*. Explain any outliers you observe.\n",
    "* Separate the hours of the day into two intervals that have (approximately) the same number of bikes leaving the stations. For each of the two intervals calculate the proportion of trips by *passholder type* and *trip route category*. Present your results in a `DataFrame` which has a unique, non-composite index. Does the proportion of trips depend on whether it is the first or second hour interval? Would the company have any significant benefit by creating a more complex paying scheme where monthly pass users would pay less in the first interval and (equally) more on the second one? Assume that the number of trips per interval will not change if the scheme changes."
   ]
  },
  {
   "cell_type": "markdown",
   "metadata": {},
   "source": [
    "### B3. Querying Phase Solutions"
   ]
  },
  {
   "cell_type": "markdown",
   "metadata": {
    "collapsed": true
   },
   "source": [
    "<h3 align=\"center\"> B3.1 </h3> \n",
    "Plot the distribution of the number of outgoing trips from each station in a histogram with 20 bins (Hint: each bin describes a range of counts, not stations)."
   ]
  },
  {
   "cell_type": "code",
   "execution_count": 159,
   "metadata": {},
   "outputs": [
    {
     "data": {
      "text/html": [
       "<div>\n",
       "<style scoped>\n",
       "    .dataframe tbody tr th:only-of-type {\n",
       "        vertical-align: middle;\n",
       "    }\n",
       "\n",
       "    .dataframe tbody tr th {\n",
       "        vertical-align: top;\n",
       "    }\n",
       "\n",
       "    .dataframe thead th {\n",
       "        text-align: right;\n",
       "    }\n",
       "</style>\n",
       "<table border=\"1\" class=\"dataframe\">\n",
       "  <thead>\n",
       "    <tr style=\"text-align: right;\">\n",
       "      <th></th>\n",
       "      <th>Bike ID</th>\n",
       "      <th>Duration</th>\n",
       "      <th>End Time</th>\n",
       "      <th>Ending Station ID</th>\n",
       "      <th>Ending Station Latitude</th>\n",
       "      <th>Ending Station Longitude</th>\n",
       "      <th>Passholder Type</th>\n",
       "      <th>Plan Duration</th>\n",
       "      <th>Start Time</th>\n",
       "      <th>Starting Station ID</th>\n",
       "      <th>Starting Station Latitude</th>\n",
       "      <th>Starting Station Longitude</th>\n",
       "      <th>Trip ID</th>\n",
       "      <th>Trip Route Category</th>\n",
       "    </tr>\n",
       "  </thead>\n",
       "  <tbody>\n",
       "    <tr>\n",
       "      <th>0</th>\n",
       "      <td>6281.0</td>\n",
       "      <td>180</td>\n",
       "      <td>2016-07-07T04:20:00</td>\n",
       "      <td>3014.0</td>\n",
       "      <td>34.056610</td>\n",
       "      <td>-118.23721</td>\n",
       "      <td>Monthly Pass</td>\n",
       "      <td>30.0</td>\n",
       "      <td>2016-07-07T04:17:00</td>\n",
       "      <td>3014.0</td>\n",
       "      <td>34.056610</td>\n",
       "      <td>-118.23721</td>\n",
       "      <td>1912818</td>\n",
       "      <td>Round Trip</td>\n",
       "    </tr>\n",
       "    <tr>\n",
       "      <th>1</th>\n",
       "      <td>6281.0</td>\n",
       "      <td>1980</td>\n",
       "      <td>2016-07-07T06:33:00</td>\n",
       "      <td>3014.0</td>\n",
       "      <td>34.056610</td>\n",
       "      <td>-118.23721</td>\n",
       "      <td>Monthly Pass</td>\n",
       "      <td>30.0</td>\n",
       "      <td>2016-07-07T06:00:00</td>\n",
       "      <td>3014.0</td>\n",
       "      <td>34.056610</td>\n",
       "      <td>-118.23721</td>\n",
       "      <td>1919661</td>\n",
       "      <td>Round Trip</td>\n",
       "    </tr>\n",
       "    <tr>\n",
       "      <th>2</th>\n",
       "      <td>5861.0</td>\n",
       "      <td>300</td>\n",
       "      <td>2016-07-07T10:37:00</td>\n",
       "      <td>3016.0</td>\n",
       "      <td>34.052898</td>\n",
       "      <td>-118.24156</td>\n",
       "      <td>Flex Pass</td>\n",
       "      <td>365.0</td>\n",
       "      <td>2016-07-07T10:32:00</td>\n",
       "      <td>3016.0</td>\n",
       "      <td>34.052898</td>\n",
       "      <td>-118.24156</td>\n",
       "      <td>1933383</td>\n",
       "      <td>Round Trip</td>\n",
       "    </tr>\n",
       "    <tr>\n",
       "      <th>3</th>\n",
       "      <td>5861.0</td>\n",
       "      <td>10860</td>\n",
       "      <td>2016-07-07T13:38:00</td>\n",
       "      <td>3016.0</td>\n",
       "      <td>34.052898</td>\n",
       "      <td>-118.24156</td>\n",
       "      <td>Flex Pass</td>\n",
       "      <td>365.0</td>\n",
       "      <td>2016-07-07T10:37:00</td>\n",
       "      <td>3016.0</td>\n",
       "      <td>34.052898</td>\n",
       "      <td>-118.24156</td>\n",
       "      <td>1944197</td>\n",
       "      <td>Round Trip</td>\n",
       "    </tr>\n",
       "    <tr>\n",
       "      <th>4</th>\n",
       "      <td>6674.0</td>\n",
       "      <td>420</td>\n",
       "      <td>2016-07-07T12:58:00</td>\n",
       "      <td>3032.0</td>\n",
       "      <td>34.049889</td>\n",
       "      <td>-118.25588</td>\n",
       "      <td>Walk-up</td>\n",
       "      <td>0.0</td>\n",
       "      <td>2016-07-07T12:51:00</td>\n",
       "      <td>3032.0</td>\n",
       "      <td>34.049889</td>\n",
       "      <td>-118.25588</td>\n",
       "      <td>1940317</td>\n",
       "      <td>Round Trip</td>\n",
       "    </tr>\n",
       "  </tbody>\n",
       "</table>\n",
       "</div>"
      ],
      "text/plain": [
       "   Bike ID  Duration             End Time  Ending Station ID  \\\n",
       "0   6281.0       180  2016-07-07T04:20:00             3014.0   \n",
       "1   6281.0      1980  2016-07-07T06:33:00             3014.0   \n",
       "2   5861.0       300  2016-07-07T10:37:00             3016.0   \n",
       "3   5861.0     10860  2016-07-07T13:38:00             3016.0   \n",
       "4   6674.0       420  2016-07-07T12:58:00             3032.0   \n",
       "\n",
       "   Ending Station Latitude  Ending Station Longitude Passholder Type  \\\n",
       "0                34.056610                -118.23721    Monthly Pass   \n",
       "1                34.056610                -118.23721    Monthly Pass   \n",
       "2                34.052898                -118.24156       Flex Pass   \n",
       "3                34.052898                -118.24156       Flex Pass   \n",
       "4                34.049889                -118.25588         Walk-up   \n",
       "\n",
       "   Plan Duration           Start Time  Starting Station ID  \\\n",
       "0           30.0  2016-07-07T04:17:00               3014.0   \n",
       "1           30.0  2016-07-07T06:00:00               3014.0   \n",
       "2          365.0  2016-07-07T10:32:00               3016.0   \n",
       "3          365.0  2016-07-07T10:37:00               3016.0   \n",
       "4            0.0  2016-07-07T12:51:00               3032.0   \n",
       "\n",
       "   Starting Station Latitude  Starting Station Longitude  Trip ID  \\\n",
       "0                  34.056610                  -118.23721  1912818   \n",
       "1                  34.056610                  -118.23721  1919661   \n",
       "2                  34.052898                  -118.24156  1933383   \n",
       "3                  34.052898                  -118.24156  1944197   \n",
       "4                  34.049889                  -118.25588  1940317   \n",
       "\n",
       "  Trip Route Category  \n",
       "0          Round Trip  \n",
       "1          Round Trip  \n",
       "2          Round Trip  \n",
       "3          Round Trip  \n",
       "4          Round Trip  "
      ]
     },
     "execution_count": 159,
     "metadata": {},
     "output_type": "execute_result"
    }
   ],
   "source": [
    "bike_share_trip = pd.read_json(BIKES_DATA_FOLDER + \"/metro-bike-share-trip-data.json.zip\")\n",
    "\n",
    "bike_share_trip.head()"
   ]
  },
  {
   "cell_type": "code",
   "execution_count": null,
   "metadata": {},
   "outputs": [],
   "source": [
    "bike_share_trip_grouped = bike_share_trip.groupby('Starting Station ID')\n",
    "#for bike, group in df_metroBike_grouped:\n",
    " #   print('bike', bike)\n",
    "  #  print('group', group)\n",
    "bike_share_trip_grouped.size().head()\n",
    "hist = bike_share_trip_grouped.size().hist(bins=20)\n",
    "hist.set_xlabel(\"Number of bikes leaving from station\")\n",
    "hist.set_ylabel(\"Number of Stations\")\n",
    "hist.set_title(\"insert title\")"
   ]
  },
  {
   "cell_type": "code",
   "execution_count": null,
   "metadata": {},
   "outputs": [],
   "source": [
    "bike_share_trip_grouped = bike_share_trip.groupby('Starting Station ID').size().reset_index(name='counts')\n",
    "#print(df_metroBike_grouped)\n",
    "hist = bike_share_trip_grouped['counts'].hist(bins=20)\n",
    "hist.set_xlabel(\"Number of bikes leaving from station\")\n",
    "hist.set_ylabel(\"Number of Stations\")\n",
    "hist.set_title(\"insert title\")"
   ]
  },
  {
   "cell_type": "markdown",
   "metadata": {},
   "source": [
    "Description:\n",
    "blqblqblqblq\n",
    "    "
   ]
  },
  {
   "cell_type": "markdown",
   "metadata": {},
   "source": [
    "<h3 align=\"center\"> B3.2 </h3> \n",
    "Plot histograms for the duration and trip starting hour in the day attributes. For both the duration and the trip starting hour use discrete 1-hour intervals. What do you observe in each plot? What are some popular values in the duration plot? Explain the local maxima and the trends you observe on the trip starting hour plot based on human behavior"
   ]
  },
  {
   "cell_type": "markdown",
   "metadata": {},
   "source": [
    "<b>a)<b> Plot histogram for the duration attribute using descrete 1-hour intervals. What do you observer in the plot? What are some popular values?"
   ]
  },
  {
   "cell_type": "code",
   "execution_count": 24,
   "metadata": {},
   "outputs": [
    {
     "data": {
      "text/plain": [
       "count    132427.000000\n",
       "mean       1555.301562\n",
       "std        5814.241813\n",
       "min          60.000000\n",
       "25%         360.000000\n",
       "50%         600.000000\n",
       "75%        1080.000000\n",
       "max       86400.000000\n",
       "Name: Duration, dtype: float64"
      ]
     },
     "execution_count": 24,
     "metadata": {},
     "output_type": "execute_result"
    }
   ],
   "source": [
    "bike_share_trip.Duration.describe()"
   ]
  },
  {
   "cell_type": "code",
   "execution_count": 25,
   "metadata": {},
   "outputs": [
    {
     "data": {
      "text/plain": [
       "count    132427.000000\n",
       "mean          0.432028\n",
       "std           1.615067\n",
       "min           0.016667\n",
       "25%           0.100000\n",
       "50%           0.166667\n",
       "75%           0.300000\n",
       "max          24.000000\n",
       "Name: Duration, dtype: float64"
      ]
     },
     "execution_count": 25,
     "metadata": {},
     "output_type": "execute_result"
    }
   ],
   "source": [
    "(bike_share_trip.Duration/3600).describe()"
   ]
  },
  {
   "cell_type": "code",
   "execution_count": 26,
   "metadata": {
    "scrolled": true
   },
   "outputs": [
    {
     "data": {
      "text/plain": [
       "0         (0, 3600]\n",
       "1         (0, 3600]\n",
       "2         (0, 3600]\n",
       "3    (10800, 14400]\n",
       "4         (0, 3600]\n",
       "Name: Duration, dtype: category\n",
       "Categories (24, interval[int64]): [(0, 3600] < (3600, 7200] < (7200, 10800] < (10800, 14400] ... (72000, 75600] < (75600, 79200] < (79200, 82800] < (82800, 86400]]"
      ]
     },
     "execution_count": 26,
     "metadata": {},
     "output_type": "execute_result"
    }
   ],
   "source": [
    "pd.cut(bike_share_trip.Duration, np.arange(0, 86401, 3600)).head()"
   ]
  },
  {
   "cell_type": "code",
   "execution_count": 27,
   "metadata": {},
   "outputs": [
    {
     "data": {
      "text/plain": [
       "<matplotlib.axes._subplots.AxesSubplot at 0x229b5a4ae48>"
      ]
     },
     "execution_count": 27,
     "metadata": {},
     "output_type": "execute_result"
    },
    {
     "data": {
      "image/png": "[encoded data removed]",
      "text/plain": [
       "<Figure size 432x288 with 1 Axes>"
      ]
     },
     "metadata": {},
     "output_type": "display_data"
    }
   ],
   "source": [
    "(bike_share_trip.Duration/3600).hist(bins=np.arange(0, 25, 1))"
   ]
  },
  {
   "cell_type": "code",
   "execution_count": 28,
   "metadata": {},
   "outputs": [
    {
     "data": {
      "text/plain": [
       "<matplotlib.axes._subplots.AxesSubplot at 0x229b5a42240>"
      ]
     },
     "execution_count": 28,
     "metadata": {},
     "output_type": "execute_result"
    },
    {
     "data": {
      "image/png": "[encoded data removed]",
      "text/plain": [
       "<Figure size 432x288 with 1 Axes>"
      ]
     },
     "metadata": {},
     "output_type": "display_data"
    }
   ],
   "source": [
    "#(bike_share_trip.Duration/3600).hist(bins=np.arange(0, 25, 1), )\n",
    "#(bike_share_trip.Duration/3600).apply().hist(bins=np.arange(0, 25, 1))\n",
    "(bike_share_trip.Duration/3600).hist(range=(0,5), bins = [0, 1, 2, 3, 4, 5])"
   ]
  },
  {
   "cell_type": "code",
   "execution_count": 29,
   "metadata": {},
   "outputs": [],
   "source": [
    "#ToDo add end time - start time column for discussion"
   ]
  },
  {
   "cell_type": "markdown",
   "metadata": {},
   "source": [
    "<b>b)<b> Plot histogram for trip starting hour in the day attribute using descrete 1-hour intervals. What do you observer in the plot? Explain the local maxima and the trends you observe on the trip starting hour plot based on human behavior"
   ]
  },
  {
   "cell_type": "code",
   "execution_count": 30,
   "metadata": {},
   "outputs": [
    {
     "data": {
      "text/plain": [
       "0    04:17:00\n",
       "1    06:00:00\n",
       "2    10:32:00\n",
       "3    10:37:00\n",
       "4    12:51:00\n",
       "Name: Start Time, dtype: object"
      ]
     },
     "execution_count": 30,
     "metadata": {},
     "output_type": "execute_result"
    }
   ],
   "source": [
    "bike_share_trip['Start Time'] = pd.to_datetime(bike_share_trip['Start Time'])\n",
    "bike_share_trip['Start Time'].dt.time.head()"
   ]
  },
  {
   "cell_type": "code",
   "execution_count": 31,
   "metadata": {},
   "outputs": [],
   "source": [
    "times = pd.to_datetime(bike_share_trip['Start Time'])\n",
    "times = (times.dt.hour * 60.0 + times.dt.minute) / 60"
   ]
  },
  {
   "cell_type": "code",
   "execution_count": 32,
   "metadata": {},
   "outputs": [
    {
     "data": {
      "text/plain": [
       "(132427,)"
      ]
     },
     "execution_count": 32,
     "metadata": {},
     "output_type": "execute_result"
    }
   ],
   "source": [
    "times.shape"
   ]
  },
  {
   "cell_type": "code",
   "execution_count": 33,
   "metadata": {},
   "outputs": [
    {
     "data": {
      "image/png": "[encoded data removed]",
      "text/plain": [
       "<Figure size 432x288 with 1 Axes>"
      ]
     },
     "metadata": {},
     "output_type": "display_data"
    }
   ],
   "source": [
    "hs = times.hist(bins=np.arange(0, 25, 1) )"
   ]
  },
  {
   "cell_type": "code",
   "execution_count": 34,
   "metadata": {},
   "outputs": [
    {
     "data": {
      "text/plain": [
       "Text(0,0.5,'Number of Bikes')"
      ]
     },
     "execution_count": 34,
     "metadata": {},
     "output_type": "execute_result"
    },
    {
     "data": {
      "image/png": "[encoded data removed]",
      "text/plain": [
       "<Figure size 432x288 with 1 Axes>"
      ]
     },
     "metadata": {},
     "output_type": "display_data"
    }
   ],
   "source": [
    "hs = times.plot(title=\"Trip Starting Hour\", kind='hist', bins=np.arange(0, 25, 1), grid=True)\n",
    "hs.set_xlabel(\"Hour of the day\")\n",
    "hs.set_ylabel(\"Number of Bikes\")"
   ]
  },
  {
   "cell_type": "markdown",
   "metadata": {},
   "source": [
    "duration: Length of trip in minutes, but I suspect they are in seconds\n"
   ]
  },
  {
   "cell_type": "markdown",
   "metadata": {},
   "source": [
    "<h3 align=\"center\"> B3.3 </h3> \n",
    "For each trip route category, calculate the proportion of trips by passholder type and present your results in a stacked bar chart with normalized height"
   ]
  },
  {
   "cell_type": "code",
   "execution_count": 35,
   "metadata": {},
   "outputs": [
    {
     "name": "stdout",
     "output_type": "stream",
     "text": [
      "Trip Route Category  Passholder Type\n",
      "One Way              Flex Pass           9034\n",
      "                     Monthly Pass       77532\n",
      "                     Staff Annual         299\n",
      "                     Walk-up            32777\n",
      "Round Trip           Flex Pass            483\n",
      "                     Monthly Pass        3772\n",
      "                     Staff Annual          83\n",
      "                     Walk-up             8447\n",
      "dtype: int64\n",
      "Passholder Type      Flex Pass  Monthly Pass  Staff Annual  Walk-up\n",
      "Trip Route Category                                                \n",
      "One Way                   9034         77532           299    32777\n",
      "Round Trip                 483          3772            83     8447\n"
     ]
    },
    {
     "data": {
      "text/plain": [
       "<matplotlib.axes._subplots.AxesSubplot at 0x229b60bc320>"
      ]
     },
     "execution_count": 35,
     "metadata": {},
     "output_type": "execute_result"
    },
    {
     "data": {
      "image/png": "[encoded data removed]",
      "text/plain": [
       "<Figure size 432x288 with 1 Axes>"
      ]
     },
     "metadata": {},
     "output_type": "display_data"
    }
   ],
   "source": [
    "bikes_share_trip_grouped_by_route = bike_share_trip.groupby(['Trip Route Category', 'Passholder Type']).size()\n",
    "\n",
    "print(bikes_share_trip_grouped_by_route)\n",
    "print(bikes_share_trip_grouped_by_route.unstack())\n",
    "bikes_share_trip_grouped_by_route.unstack().plot(kind='bar', stacked=True)\n",
    "\n",
    "#for category, group in bikes_share_trip_grouped_by_route:\n",
    "    #print(\"category\", category)\n",
    "    #print(\"group\", group)\n",
    "    \n",
    "#bikes_share_trip_grouped_by_rout\n",
    "  \n",
    "\n",
    "#df2[['abuse','nff']].plot(kind='bar', stacked=True)\n",
    "#bikes_share_trip_grouped_by_route.unstack()"
   ]
  },
  {
   "cell_type": "code",
   "execution_count": 36,
   "metadata": {},
   "outputs": [
    {
     "data": {
      "text/plain": [
       "Trip Route Category  Passholder Type\n",
       "One Way              Flex Pass          0.075509\n",
       "                     Monthly Pass       0.648033\n",
       "                     Staff Annual       0.002499\n",
       "                     Walk-up            0.273959\n",
       "Round Trip           Flex Pass          0.037779\n",
       "                     Monthly Pass       0.295033\n",
       "                     Staff Annual       0.006492\n",
       "                     Walk-up            0.660696\n",
       "dtype: float64"
      ]
     },
     "execution_count": 36,
     "metadata": {},
     "output_type": "execute_result"
    }
   ],
   "source": [
    "#normalized hieghts aka percent stacked barplot\n",
    "bike_grouped_proportion = bikes_share_trip_grouped_by_route.groupby(level=0).apply(lambda x:\n",
    "                                                 x / float(x.sum()))\n",
    "bike_grouped_proportion"
   ]
  },
  {
   "cell_type": "code",
   "execution_count": 37,
   "metadata": {},
   "outputs": [
    {
     "data": {
      "text/plain": [
       "<matplotlib.legend.Legend at 0x229b5fdd0f0>"
      ]
     },
     "execution_count": 37,
     "metadata": {},
     "output_type": "execute_result"
    },
    {
     "data": {
      "image/png": "[encoded data removed]",
      "text/plain": [
       "<Figure size 432x288 with 1 Axes>"
      ]
     },
     "metadata": {},
     "output_type": "display_data"
    }
   ],
   "source": [
    "bike_plot = bike_grouped_proportion.unstack().plot(kind='bar', stacked=True)\n",
    "bike_plot.legend(bbox_to_anchor=(1.2, 1))"
   ]
  },
  {
   "cell_type": "markdown",
   "metadata": {},
   "source": [
    "<h3 align=\"center\"> B3.4 </h3> \n",
    "Considering only trips that begin in the morning hours (before noon), plot in a single bar chart the proportion of trips by passholder type and trip route category. Explain any outliers you observe"
   ]
  },
  {
   "cell_type": "code",
   "execution_count": 38,
   "metadata": {
    "scrolled": true
   },
   "outputs": [
    {
     "data": {
      "text/plain": [
       "Bike ID                              float64\n",
       "Duration                               int64\n",
       "End Time                              object\n",
       "Ending Station ID                    float64\n",
       "Ending Station Latitude              float64\n",
       "Ending Station Longitude             float64\n",
       "Passholder Type                       object\n",
       "Plan Duration                        float64\n",
       "Start Time                    datetime64[ns]\n",
       "Starting Station ID                  float64\n",
       "Starting Station Latitude            float64\n",
       "Starting Station Longitude           float64\n",
       "Trip ID                                int64\n",
       "Trip Route Category                   object\n",
       "dtype: object"
      ]
     },
     "execution_count": 38,
     "metadata": {},
     "output_type": "execute_result"
    }
   ],
   "source": [
    "bike_share_trip.dtypes"
   ]
  },
  {
   "cell_type": "code",
   "execution_count": 39,
   "metadata": {},
   "outputs": [
    {
     "data": {
      "text/plain": [
       "0     4\n",
       "1     6\n",
       "2    10\n",
       "3    10\n",
       "4    12\n",
       "Name: Start Time, dtype: int64"
      ]
     },
     "execution_count": 39,
     "metadata": {},
     "output_type": "execute_result"
    }
   ],
   "source": [
    "bike_share_trip['Start Time'].dt.hour.head()"
   ]
  },
  {
   "cell_type": "code",
   "execution_count": 40,
   "metadata": {},
   "outputs": [
    {
     "name": "stdout",
     "output_type": "stream",
     "text": [
      "Trip Route Category  Passholder Type\n",
      "One Way              Flex Pass           2653\n",
      "                     Monthly Pass       24570\n",
      "                     Staff Annual          97\n",
      "                     Walk-up             7510\n",
      "Round Trip           Flex Pass            126\n",
      "                     Monthly Pass        1056\n",
      "                     Staff Annual          39\n",
      "                     Walk-up             2129\n",
      "dtype: int64\n"
     ]
    },
    {
     "data": {
      "text/plain": [
       "<matplotlib.axes._subplots.AxesSubplot at 0x229b6142048>"
      ]
     },
     "execution_count": 40,
     "metadata": {},
     "output_type": "execute_result"
    },
    {
     "data": {
      "image/png": "[encoded data removed]",
      "text/plain": [
       "<Figure size 432x288 with 1 Axes>"
      ]
     },
     "metadata": {},
     "output_type": "display_data"
    }
   ],
   "source": [
    "#bike_share_trip.query('Start Time')\n",
    "morning_trips = bike_share_trip.loc[bike_share_trip['Start Time'].dt.hour < 12]\n",
    "grouped_morning_trips = morning_trips.groupby(['Trip Route Category', 'Passholder Type']).size()\n",
    "print(grouped_morning_trips)\n",
    "grouped_morning_trips.plot(kind='bar')"
   ]
  },
  {
   "cell_type": "code",
   "execution_count": 41,
   "metadata": {
    "scrolled": true
   },
   "outputs": [
    {
     "name": "stdout",
     "output_type": "stream",
     "text": [
      "Trip Route Category  Passholder Type\n",
      "One Way              Flex Pass          0.069487\n",
      "                     Monthly Pass       0.643531\n",
      "                     Staff Annual       0.002541\n",
      "                     Walk-up            0.196700\n",
      "Round Trip           Flex Pass          0.003300\n",
      "                     Monthly Pass       0.027658\n",
      "                     Staff Annual       0.001021\n",
      "                     Walk-up            0.055762\n",
      "dtype: float64\n"
     ]
    }
   ],
   "source": [
    "grouped_morning_trips_proportion = grouped_morning_trips / morning_trips.shape[0]\n",
    "print(grouped_morning_trips_proportion)\n"
   ]
  },
  {
   "cell_type": "code",
   "execution_count": 42,
   "metadata": {},
   "outputs": [
    {
     "data": {
      "text/plain": [
       "<matplotlib.axes._subplots.AxesSubplot at 0x229b62af550>"
      ]
     },
     "execution_count": 42,
     "metadata": {},
     "output_type": "execute_result"
    },
    {
     "data": {
      "image/png": "[encoded data removed]",
      "text/plain": [
       "<Figure size 432x288 with 1 Axes>"
      ]
     },
     "metadata": {},
     "output_type": "display_data"
    }
   ],
   "source": [
    "grouped_morning_trips_proportion.plot(kind='bar')"
   ]
  },
  {
   "cell_type": "markdown",
   "metadata": {},
   "source": [
    "using loc instead of query, because column name contains spaces in it *alternatively we could have replaces column names with underscores everytime there is a space"
   ]
  },
  {
   "cell_type": "markdown",
   "metadata": {},
   "source": [
    "<h3 align=\"center\"> B3.5 </h3> \n",
    "Separate the hours of the day into two intervals that have (approximately) the same number of bikes leaving the stations. For each of the two intervals calculate the proportion of trips by passholder type and trip route category. Present your results in a DataFrame which has a unique, non-composite index. Does the proportion of trips depend on whether it is the first or second hour interval? Would the company have any significant benefit by creating a more complex paying scheme where monthly pass users would pay less in the first interval and (equally) more on the second one? Assume that the number of trips per interval will not change if the scheme changes."
   ]
  },
  {
   "cell_type": "code",
   "execution_count": 43,
   "metadata": {},
   "outputs": [
    {
     "data": {
      "text/plain": [
       "count    132427.000000\n",
       "mean         14.069895\n",
       "std           4.949172\n",
       "min           0.000000\n",
       "25%          11.000000\n",
       "50%          14.000000\n",
       "75%          18.000000\n",
       "max          23.000000\n",
       "Name: Start Time, dtype: float64"
      ]
     },
     "execution_count": 43,
     "metadata": {},
     "output_type": "execute_result"
    }
   ],
   "source": [
    "bike_share_trip['Start Time'].dt.hour.describe()"
   ]
  },
  {
   "cell_type": "code",
   "execution_count": 59,
   "metadata": {},
   "outputs": [
    {
     "name": "stdout",
     "output_type": "stream",
     "text": [
      "14.966666666666667\n"
     ]
    }
   ],
   "source": [
    "#Seperate the hours of the day\n",
    "start_time_hour = (bike_share_trip['Start Time'].dt.hour * 3600 + bike_share_trip['Start Time'].dt.minute * 60 + bike_share_trip['Start Time'].dt.second) / 3600.\n",
    "median = start_time_hour.median()\n",
    "print(median)"
   ]
  },
  {
   "cell_type": "markdown",
   "metadata": {},
   "source": [
    "So median is 14.966, but since we want to have an integer we have to chose either 14 or 15. Let's calculate proportion for both of those cases"
   ]
  },
  {
   "cell_type": "code",
   "execution_count": 69,
   "metadata": {},
   "outputs": [
    {
     "name": "stdout",
     "output_type": "stream",
     "text": [
      "0.7822804231380044\n"
     ]
    },
    {
     "data": {
      "text/plain": [
       "1.0118651535177674"
      ]
     },
     "execution_count": 69,
     "metadata": {},
     "output_type": "execute_result"
    }
   ],
   "source": [
    "print(start_time_hour[start_time_hour.values <= 14].shape[0]/start_time_hour[start_time_hour.values > 14].shape[0])\n",
    "start_time_hour[start_time_hour.values <= 15].shape[0]/start_time_hour[start_time_hour.values > 15].shape[0]"
   ]
  },
  {
   "cell_type": "code",
   "execution_count": null,
   "metadata": {},
   "outputs": [],
   "source": []
  },
  {
   "cell_type": "code",
   "execution_count": null,
   "metadata": {},
   "outputs": [],
   "source": [
    "#median = bike_share_trip['Start Time'].dt.hour.quantile(0.5)\n",
    "print(median)\n",
    "\n",
    "median_cut = pd.qcut((bike_share_trip['Start Time'].dt.hour * 60.0 + bike_share_trip['Start Time'].dt.minute)/60, 2)\n",
    "print(median_cut.head())\n",
    "print(median_cut.value_counts())\n"
   ]
  },
  {
   "cell_type": "code",
   "execution_count": 53,
   "metadata": {},
   "outputs": [
    {
     "data": {
      "text/plain": [
       "Start Time       Passholder Type  Trip Route Category\n",
       "(0.049, 14.967]  Flex Pass        One Way                 4610\n",
       "                                  Round Trip               268\n",
       "                 Monthly Pass     One Way                39274\n",
       "                                  Round Trip              2060\n",
       "                 Staff Annual     One Way                  183\n",
       "                                  Round Trip                59\n",
       "                 Walk-up          One Way                15698\n",
       "                                  Round Trip              4182\n",
       "(14.967, 23.95]  Flex Pass        One Way                 4424\n",
       "                                  Round Trip               215\n",
       "                 Monthly Pass     One Way                38258\n",
       "                                  Round Trip              1712\n",
       "                 Staff Annual     One Way                  116\n",
       "                                  Round Trip                24\n",
       "                 Walk-up          One Way                17079\n",
       "                                  Round Trip              4265\n",
       "dtype: int64"
      ]
     },
     "execution_count": 53,
     "metadata": {},
     "output_type": "execute_result"
    }
   ],
   "source": [
    "groups = bike_share_trip.groupby([median_cut, 'Passholder Type', 'Trip Route Category']).size() \n",
    "groups"
   ]
  },
  {
   "cell_type": "code",
   "execution_count": 46,
   "metadata": {},
   "outputs": [
    {
     "data": {
      "text/plain": [
       "Start Time      Passholder Type  Trip Route Category\n",
       "(-0.001, 14.0]  Flex Pass        One Way                0.069483\n",
       "                                 Round Trip             0.004031\n",
       "                Monthly Pass     One Way                0.592115\n",
       "                                 Round Trip             0.031093\n",
       "                Staff Annual     One Way                0.002753\n",
       "                                 Round Trip             0.000888\n",
       "                Walk-up          One Way                0.236668\n",
       "                                 Round Trip             0.062969\n",
       "(14.0, 23.0]    Flex Pass        One Way                0.066945\n",
       "                                 Round Trip             0.003260\n",
       "                Monthly Pass     One Way                0.578772\n",
       "                                 Round Trip             0.025853\n",
       "                Staff Annual     One Way                0.001759\n",
       "                                 Round Trip             0.000364\n",
       "                Walk-up          One Way                0.258438\n",
       "                                 Round Trip             0.064610\n",
       "dtype: float64"
      ]
     },
     "execution_count": 46,
     "metadata": {},
     "output_type": "execute_result"
    }
   ],
   "source": [
    "groups_proportion = groups.groupby(level=0).apply(lambda x:\n",
    "                                                 x / float(x.sum()))\n",
    "#groups_proportion.set_index('Start Time')\n",
    "groups_proportion"
   ]
  },
  {
   "cell_type": "markdown",
   "metadata": {},
   "source": [
    "start_time: The date/time when the trip began, presented in ISO 8601 format in local time\n",
    "meaning that Date and time values are ordered from the largest to smallest unit of time, thus lexicographical order corresponds to the chronological order"
   ]
  },
  {
   "cell_type": "markdown",
   "metadata": {},
   "source": [
    "__\\* Briefly explain your approach for every query here \\*__"
   ]
  },
  {
   "cell_type": "code",
   "execution_count": null,
   "metadata": {},
   "outputs": [],
   "source": []
  },
  {
   "cell_type": "code",
   "execution_count": null,
   "metadata": {},
   "outputs": [],
   "source": []
  }
 ],
 "metadata": {
  "kernelspec": {
   "display_name": "Python 3",
   "language": "python",
   "name": "python3"
  },
  "language_info": {
   "codemirror_mode": {
    "name": "ipython",
    "version": 3
   },
   "file_extension": ".py",
   "mimetype": "text/x-python",
   "name": "python",
   "nbconvert_exporter": "python",
   "pygments_lexer": "ipython3",
   "version": "3.6.5"
  }
 },
 "nbformat": 4,
 "nbformat_minor": 2
}
