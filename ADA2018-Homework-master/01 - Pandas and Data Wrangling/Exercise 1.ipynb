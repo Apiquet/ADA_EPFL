{
 "cells": [
  {
   "cell_type": "markdown",
   "metadata": {},
   "source": [
    "# Exercise 1\n",
    " <p><div class=\"lev1\"><a href=\"#Task-A.-Another-LEGO-brick-in-the-wall\"><span class=\"toc-item-num\">Task A.&nbsp;&nbsp;</span>Another LEGO brick in the wall</a></div>\n",
    " <p><div class=\"lev1\"><a href=\"#Task-B.-Drop-the-Bike\"><span class=\"toc-item-num\">Task B.&nbsp;&nbsp;</span>Drop the Bike</a></div>"
   ]
  },
  {
   "cell_type": "code",
   "execution_count": 74,
   "metadata": {},
   "outputs": [],
   "source": [
    "%matplotlib inline\n",
    "import pandas as pd\n",
    "import numpy as np\n",
    "import re "
   ]
  },
  {
   "cell_type": "code",
   "execution_count": 75,
   "metadata": {},
   "outputs": [],
   "source": [
    "DATA_FOLDER = r'data'"
   ]
  },
  {
   "cell_type": "markdown",
   "metadata": {},
   "source": [
    "## Task A. Another LEGO brick in the wall\n",
    "\n",
    "LEGO is a popular brand of toy building bricks. They are often sold in sets in order to build a specific object. Each set contains a number of parts in different shapes, sizes and colors. This database contains information on which parts are included in different LEGO sets. It was originally compiled to help people who owned some LEGO sets already figure out what other sets they could build with the pieces they had.\n",
    "\n",
    "This dataset contains the official LEGO colors, parts, inventories (i.e., sets of LEGO parts which assembled create an object in the LEGO world) and sets (i.e., sets of LEGO inventories which assembled create a LEGO ecosystem). The schema of the dataset can be shown in the following UML diagram: \n",
    "\n",
    "![lego-schema](lego-schema.png)\n",
    "\n",
    "In this task you have to apply the following Data Wrangling pipeline:\n",
    "1. Load your data into `Pandas`\n",
    "* Explore it and clean its dirty parts\n",
    "* Use it to answer a set of queries\n",
    "\n",
    "Each of these subtasks are described in detail below."
   ]
  },
  {
   "cell_type": "markdown",
   "metadata": {},
   "source": [
    "### A1. Loading phase\n",
    "Load all the csv files into different `DataFrames`. Use meaningful names for your `DataFrames` (e.g., the respective filenames).\n",
    "\n",
    "*Hint: You can load files without first unzipping them (for `Pandas` version >= 0.18.1).*"
   ]
  },
  {
   "cell_type": "code",
   "execution_count": 76,
   "metadata": {},
   "outputs": [],
   "source": [
    "LEGO_DATA_FOLDER = DATA_FOLDER + '/lego'"
   ]
  },
  {
   "cell_type": "code",
   "execution_count": 77,
   "metadata": {},
   "outputs": [],
   "source": [
    "#Data declarations\n",
    "sets = pd.read_csv(LEGO_DATA_FOLDER + \"/sets.csv.zip\")\n",
    "colors = pd.read_csv(LEGO_DATA_FOLDER + \"/colors.csv.zip\")\n",
    "inventories = pd.read_csv(LEGO_DATA_FOLDER + \"/inventories.csv.zip\")\n",
    "inventory_parts = pd.read_csv(LEGO_DATA_FOLDER + \"/inventory_parts.csv.zip\")\n",
    "inventory_sets = pd.read_csv(LEGO_DATA_FOLDER + \"/inventory_sets.csv.zip\")\n",
    "part_categories = pd.read_csv(LEGO_DATA_FOLDER + \"/part_categories.csv.zip\")\n",
    "parts = pd.read_csv(LEGO_DATA_FOLDER + \"/parts.csv.zip\")\n",
    "themes = pd.read_csv(LEGO_DATA_FOLDER + \"/themes.csv.zip\")"
   ]
  },
  {
   "cell_type": "markdown",
   "metadata": {},
   "source": [
    "### A2. Cleaning phase\n",
    "Explore the following columns from your dataset:\n",
    "\n",
    "1. sets: year\n",
    "* inventory_parts: quantity\n",
    "\n",
    "What is the time range of the sets? \n",
    "What is the average quantity of the inventory parts? \n",
    "Do you see any inconsistencies? \n",
    "Provide code that detects and cleans such inconsistencies and validates the coherence of your dataset. "
   ]
  },
  {
   "cell_type": "markdown",
   "metadata": {},
   "source": [
    "## 1. sets: year\n",
    "Explore the following column from your dataset and determine time range of the sets"
   ]
  },
  {
   "cell_type": "code",
   "execution_count": 78,
   "metadata": {
    "scrolled": true
   },
   "outputs": [
    {
     "data": {
      "text/plain": [
       "0     70s\n",
       "1    1978\n",
       "2    1987\n",
       "3    1979\n",
       "4    1979\n",
       "Name: year, dtype: object"
      ]
     },
     "execution_count": 78,
     "metadata": {},
     "output_type": "execute_result"
    }
   ],
   "source": [
    "#print first few rows of year column\n",
    "sets.year.head()"
   ]
  },
  {
   "cell_type": "code",
   "execution_count": 79,
   "metadata": {
    "scrolled": true
   },
   "outputs": [
    {
     "name": "stdout",
     "output_type": "stream",
     "text": [
      "['70s' '1978' '1987' '1979' '19788' '1976' '1965' '1985' '1968' '1999'\n",
      " '1967' '1969' '2001' '20011' '1966' '2003' '2002' '20022' '-2003' '20033'\n",
      " '-2002' '20044' '2004' '2006' '20055' '2005' '-2004' '-2006' '-2010'\n",
      " '-2005' '20066' '2007' '20077' '2008' '20088' '-2009' '2009' '20099'\n",
      " '2010' '20100' '-2011' '2011' '20111' '2012' '20122' '-2013' '2013'\n",
      " '20133' '20144' '-20144' '2015' '2014' '-2014' '20155' '-2015' '2016'\n",
      " '20166' '-2016' '2017' '1977' '1983' '1986' '1984' '1973' '-2012'\n",
      " '-20155' '1981' '-2000' '80s' '1982' '1988' '20177' '-2017' '-1999'\n",
      " '19999' '-1986' '1997' '1998' '1971' '-1966' '-1977' '-1981' '-1985'\n",
      " '20000' '2000' '-20000' '1955' '1956' '1957' '-1982' '-1969' '19822'\n",
      " '19555' '1958' '-2001' '1974' '1972' '19988' '-1998' '19877' '19855'\n",
      " '19777' '1975' '-1987' '-1979' '1992' '1991' '-1991' '1989' '1990' '1993'\n",
      " '-1992' '-1989' '1994' '19944' '-1994' '1996' '19899' '19900' '19922'\n",
      " '1995' '-1995' '19966' '-1997' '19722' '19955' '19933' '1959' '1962'\n",
      " '-2008' '-20122' '1961' '19977' '1960' '1963' '1964' '19666' '-1975'\n",
      " '-20133' '-19999' '-20033' '-1973' '-1980' '-1984' '-1971' '-2007'\n",
      " '-20077' '-20166' '-20011' '-20022' '19799' '19911' '-20044' '19622'\n",
      " '-1962' '-19977' '19844' '-20099' '19866' '-1993' '-1996' '-1983' '-1988'\n",
      " '-20066' '19888' '1950' '1953' '1954' '19811' '19800' '19833' '-20100'\n",
      " '-20111' '19699']\n"
     ]
    }
   ],
   "source": [
    "#identify unique year values\n",
    "print(sets.year.unique())"
   ]
  },
  {
   "cell_type": "markdown",
   "metadata": {},
   "source": [
    "<p>As we see, there are some invalid year entries in sets dataset. For example, there are some negative years and 5 digit years. As well as entries like 70s and 80s instead of numbers</p>"
   ]
  },
  {
   "cell_type": "code",
   "execution_count": 80,
   "metadata": {},
   "outputs": [],
   "source": [
    "#replacing 70s and 80s to 1970 and 1980\n",
    "sets.replace(to_replace='70s',value='1970', inplace=True)\n",
    "sets.replace(to_replace='80s',value='1980',inplace=True)\n",
    "#setting type as integer\n",
    "sets.year = sets.year.astype(int)"
   ]
  },
  {
   "cell_type": "markdown",
   "metadata": {},
   "source": [
    "Above we replaced 70s and 80s with 1970 and 1980. Since we did not know exact year another option would have been to take 1975 and 1985 accordingly. After replacement there are only integer types left in dataset, so we set year attribute type as integer.\n",
    "<p>Since years have integer type, we can now take abolute values (because negative years don't exist so we will take absolute values of each negative year)</p>"
   ]
  },
  {
   "cell_type": "code",
   "execution_count": 81,
   "metadata": {},
   "outputs": [
    {
     "data": {
      "text/plain": [
       "array([ 1970,  1978,  1987,  1979, 19788,  1976,  1965,  1985,  1968,\n",
       "        1999,  1967,  1969,  2001, 20011,  1966,  2003,  2002, 20022,\n",
       "       20033, 20044,  2004,  2006, 20055,  2005,  2010, 20066,  2007,\n",
       "       20077,  2008, 20088,  2009, 20099, 20100,  2011, 20111,  2012,\n",
       "       20122,  2013, 20133, 20144,  2015,  2014, 20155,  2016, 20166,\n",
       "        2017,  1977,  1983,  1986,  1984,  1973,  1981,  2000,  1980,\n",
       "        1982,  1988, 20177, 19999,  1997,  1998,  1971, 20000,  1955,\n",
       "        1956,  1957, 19822, 19555,  1958,  1974,  1972, 19988, 19877,\n",
       "       19855, 19777,  1975,  1992,  1991,  1989,  1990,  1993,  1994,\n",
       "       19944,  1996, 19899, 19900, 19922,  1995, 19966, 19722, 19955,\n",
       "       19933,  1959,  1962,  1961, 19977,  1960,  1963,  1964, 19666,\n",
       "       19799, 19911, 19622, 19844, 19866, 19888,  1950,  1953,  1954,\n",
       "       19811, 19800, 19833, 19699], dtype=int64)"
      ]
     },
     "execution_count": 81,
     "metadata": {},
     "output_type": "execute_result"
    }
   ],
   "source": [
    "#taking absolute value\n",
    "sets.year = sets.year.abs()\n",
    "#displayin new unique year set\n",
    "sets.year.unique()"
   ]
  },
  {
   "cell_type": "markdown",
   "metadata": {},
   "source": [
    "<p>Year values look good now, except for some years that contain 5 digits. We assume that fifth digit in some of the years is typo, repetition of last digit. That's why we will remove last digit of every 5-digit year.</p>"
   ]
  },
  {
   "cell_type": "code",
   "execution_count": 82,
   "metadata": {},
   "outputs": [
    {
     "data": {
      "text/plain": [
       "array([1970, 1978, 1987, 1979, 1976, 1965, 1985, 1968, 1999, 1967, 1969,\n",
       "       2001, 1966, 2003, 2002, 2004, 2006, 2005, 2010, 2007, 2008, 2009,\n",
       "       2011, 2012, 2013, 2014, 2015, 2016, 2017, 1977, 1983, 1986, 1984,\n",
       "       1973, 1981, 2000, 1980, 1982, 1988, 1997, 1998, 1971, 1955, 1956,\n",
       "       1957, 1958, 1974, 1972, 1975, 1992, 1991, 1989, 1990, 1993, 1994,\n",
       "       1996, 1995, 1959, 1962, 1961, 1960, 1963, 1964, 1950, 1953, 1954],\n",
       "      dtype=int64)"
      ]
     },
     "execution_count": 82,
     "metadata": {},
     "output_type": "execute_result"
    }
   ],
   "source": [
    "#deleting last digit of 5 digit years\n",
    "sets.loc[sets['year'].astype(str).str.len() == 5, 'year'] /= 10\n",
    "sets.year = sets.year.astype(int)\n",
    "\n",
    "#displayin new unique year set\n",
    "sets.year.unique()"
   ]
  },
  {
   "cell_type": "code",
   "execution_count": 83,
   "metadata": {},
   "outputs": [
    {
     "data": {
      "text/plain": [
       "count    11673.000000\n",
       "mean      2001.972758\n",
       "std         13.475364\n",
       "min       1950.000000\n",
       "25%       1997.000000\n",
       "50%       2005.000000\n",
       "75%       2012.000000\n",
       "max       2017.000000\n",
       "Name: year, dtype: float64"
      ]
     },
     "execution_count": 83,
     "metadata": {},
     "output_type": "execute_result"
    }
   ],
   "source": [
    "#describe year attribute\n",
    "sets.year.describe()"
   ]
  },
  {
   "cell_type": "markdown",
   "metadata": {},
   "source": [
    "As we see, year is now numerical and time range of sets is thus [1950, 2017]"
   ]
  },
  {
   "cell_type": "markdown",
   "metadata": {},
   "source": [
    "<u><b><font color='green'>ANSWERS:</font></b></u><br><br>\n",
    "\n",
    "As we see there were many invalid dates in the data set.\n",
    "For instance, negative values, typos: '19955' instead of '1995', 70s or 80s instead of an actual year\n",
    "Below are the steps we followed for transformations:\n",
    "\n",
    "* Replacing \"70s\" and \"80s\" by \"1970\" and \"1980\" \n",
    "* Taking absolute values \n",
    "* Removing last digit of 5 digit numbers (example: 19955//10 -> 1995)"
   ]
  },
  {
   "cell_type": "markdown",
   "metadata": {},
   "source": [
    "## 2. inventory_parts: quantity\n",
    "Explore the following column from your dataset. What is the average quantity of the inventory parts? Do you see any inconsistencies? Provide code that detects and cleans such inconsistencies and validates the coherence of your dataset."
   ]
  },
  {
   "cell_type": "code",
   "execution_count": 84,
   "metadata": {},
   "outputs": [
    {
     "data": {
      "text/plain": [
       "-inf"
      ]
     },
     "execution_count": 84,
     "metadata": {},
     "output_type": "execute_result"
    }
   ],
   "source": [
    "#calculate average quantity of inventory parts\n",
    "inventory_parts.quantity.mean() "
   ]
  },
  {
   "cell_type": "markdown",
   "metadata": {},
   "source": [
    "As we see, answer is -inf. This means, that there are some inconsistencies in data since some values are probably invalid. (-inf)"
   ]
  },
  {
   "cell_type": "code",
   "execution_count": 85,
   "metadata": {},
   "outputs": [
    {
     "name": "stdout",
     "output_type": "stream",
     "text": [
      "count number of - infinity quantity values in inventories: 161796\n"
     ]
    }
   ],
   "source": [
    "#count number of - infinity quantity values in inventories\n",
    "print(\n",
    "    \"count number of - infinity quantity values in inventories:\", inventory_parts[inventory_parts.quantity == -np.inf].shape[0])"
   ]
  },
  {
   "cell_type": "code",
   "execution_count": 86,
   "metadata": {},
   "outputs": [
    {
     "name": "stdout",
     "output_type": "stream",
     "text": [
      "number of entries with zero quantities: 0\n"
     ]
    }
   ],
   "source": [
    "#check if there are zeros in dataset\n",
    "print(\"number of entries with zero quantities:\", inventory_parts[inventory_parts.quantity == 0].shape[0])"
   ]
  },
  {
   "cell_type": "markdown",
   "metadata": {},
   "source": [
    "Since there are no 0 entries in the database for any inventory_parts, we will assume that -inf was generated by default when leaving some fields blank. However, having an entry with zero quantity is of no use, that's why we are removing them."
   ]
  },
  {
   "cell_type": "code",
   "execution_count": 87,
   "metadata": {},
   "outputs": [
    {
     "data": {
      "text/html": [
       "<div>\n",
       "<style scoped>\n",
       "    .dataframe tbody tr th:only-of-type {\n",
       "        vertical-align: middle;\n",
       "    }\n",
       "\n",
       "    .dataframe tbody tr th {\n",
       "        vertical-align: top;\n",
       "    }\n",
       "\n",
       "    .dataframe thead th {\n",
       "        text-align: right;\n",
       "    }\n",
       "</style>\n",
       "<table border=\"1\" class=\"dataframe\">\n",
       "  <thead>\n",
       "    <tr style=\"text-align: right;\">\n",
       "      <th></th>\n",
       "      <th>inventory_id</th>\n",
       "      <th>part_id</th>\n",
       "      <th>color_id</th>\n",
       "      <th>quantity</th>\n",
       "      <th>is_spare</th>\n",
       "    </tr>\n",
       "  </thead>\n",
       "  <tbody>\n",
       "    <tr>\n",
       "      <th>0</th>\n",
       "      <td>1</td>\n",
       "      <td>48379c01</td>\n",
       "      <td>72</td>\n",
       "      <td>1.0</td>\n",
       "      <td>f</td>\n",
       "    </tr>\n",
       "    <tr>\n",
       "      <th>1</th>\n",
       "      <td>1</td>\n",
       "      <td>48395</td>\n",
       "      <td>7</td>\n",
       "      <td>1.0</td>\n",
       "      <td>f</td>\n",
       "    </tr>\n",
       "    <tr>\n",
       "      <th>2</th>\n",
       "      <td>1</td>\n",
       "      <td>mcsport6</td>\n",
       "      <td>25</td>\n",
       "      <td>1.0</td>\n",
       "      <td>f</td>\n",
       "    </tr>\n",
       "    <tr>\n",
       "      <th>3</th>\n",
       "      <td>1</td>\n",
       "      <td>paddle</td>\n",
       "      <td>0</td>\n",
       "      <td>1.0</td>\n",
       "      <td>f</td>\n",
       "    </tr>\n",
       "    <tr>\n",
       "      <th>4</th>\n",
       "      <td>3</td>\n",
       "      <td>11816pr0005</td>\n",
       "      <td>78</td>\n",
       "      <td>1.0</td>\n",
       "      <td>f</td>\n",
       "    </tr>\n",
       "  </tbody>\n",
       "</table>\n",
       "</div>"
      ],
      "text/plain": [
       "   inventory_id      part_id  color_id  quantity is_spare\n",
       "0             1     48379c01        72       1.0        f\n",
       "1             1        48395         7       1.0        f\n",
       "2             1     mcsport6        25       1.0        f\n",
       "3             1       paddle         0       1.0        f\n",
       "4             3  11816pr0005        78       1.0        f"
      ]
     },
     "execution_count": 87,
     "metadata": {},
     "output_type": "execute_result"
    }
   ],
   "source": [
    "#Cleaned inventory parts\n",
    "inventory_parts = inventory_parts[inventory_parts.quantity >= 0] \n",
    "inventory_parts.head(5)"
   ]
  },
  {
   "cell_type": "code",
   "execution_count": 88,
   "metadata": {},
   "outputs": [
    {
     "data": {
      "text/plain": [
       "count    418455.000000\n",
       "mean          3.836938\n",
       "std           9.642451\n",
       "min           1.000000\n",
       "25%           1.000000\n",
       "50%           1.000000\n",
       "75%           4.000000\n",
       "max        1440.000000\n",
       "Name: quantity, dtype: float64"
      ]
     },
     "execution_count": 88,
     "metadata": {},
     "output_type": "execute_result"
    }
   ],
   "source": [
    "#describe quantity\n",
    "inventory_parts.quantity.describe()"
   ]
  },
  {
   "cell_type": "markdown",
   "metadata": {},
   "source": [
    "Quantity Attribute seems to have expected values now, with minimum of 1 and maximum of 1440. Thus, our dataset is coherent"
   ]
  },
  {
   "cell_type": "markdown",
   "metadata": {},
   "source": [
    "### A3. Querying phase\n",
    "Answer the following queries using the functionality of `Pandas`:\n",
    "\n",
    "1. List the ids of the inventories that belong to sets that contain cars. (*Hint: Find a smart way to distinguish which sets contain cars based on the sets' name*).\n",
    "* Plot the distribution of part categories as a (horizontal) bar chart. Restrict yourself to the 20 largest part categories (in terms of the number of parts belonging to the category).\n",
    "* Find the dominant color of each set. Then, plot using a (horizontal) bar chart, the number of sets per dominant color. Color each bar with the respective color that it represents.\n",
    "* Create a scatter plot of the *luminance*\\* of the sets vs their publishing year. What do you observe for the years 1980-1981? How do you interpret what you see?\n",
    "\n",
    "\\*The luminance of a color is a [measure of brightness](https://en.wikipedia.org/wiki/Luminance) which, given its RGB representation, can be computed as follows:\n",
    "\n",
    "$luminance = \\sqrt{0.299*R^2 + 0.587*G^2 + 0.114*B^2}$"
   ]
  },
  {
   "cell_type": "markdown",
   "metadata": {},
   "source": [
    "#    A3 . 1    #\n",
    "List the ids of the inventories that belong to sets that contain cars. (Hint: Find a smart way to distinguish which sets contain cars based on the sets' name)"
   ]
  },
  {
   "cell_type": "code",
   "execution_count": 141,
   "metadata": {},
   "outputs": [
    {
     "data": {
      "text/html": [
       "<div>\n",
       "<style scoped>\n",
       "    .dataframe tbody tr th:only-of-type {\n",
       "        vertical-align: middle;\n",
       "    }\n",
       "\n",
       "    .dataframe tbody tr th {\n",
       "        vertical-align: top;\n",
       "    }\n",
       "\n",
       "    .dataframe thead th {\n",
       "        text-align: right;\n",
       "    }\n",
       "</style>\n",
       "<table border=\"1\" class=\"dataframe\">\n",
       "  <thead>\n",
       "    <tr style=\"text-align: right;\">\n",
       "      <th></th>\n",
       "      <th>id</th>\n",
       "      <th>name</th>\n",
       "      <th>year</th>\n",
       "      <th>theme_id</th>\n",
       "      <th>num_parts</th>\n",
       "    </tr>\n",
       "  </thead>\n",
       "  <tbody>\n",
       "    <tr>\n",
       "      <th>50</th>\n",
       "      <td>10022-1</td>\n",
       "      <td>Santa Fe Cars - Set II (dining, observation, o...</td>\n",
       "      <td>2002</td>\n",
       "      <td>237</td>\n",
       "      <td>410</td>\n",
       "    </tr>\n",
       "    <tr>\n",
       "      <th>53</th>\n",
       "      <td>10025-1</td>\n",
       "      <td>Santa Fe Cars - Set I (mail or baggage car)</td>\n",
       "      <td>2002</td>\n",
       "      <td>237</td>\n",
       "      <td>325</td>\n",
       "    </tr>\n",
       "    <tr>\n",
       "      <th>3515</th>\n",
       "      <td>4117-1</td>\n",
       "      <td>Fantastic Flyers &amp; Cool Cars Bucket</td>\n",
       "      <td>2001</td>\n",
       "      <td>37</td>\n",
       "      <td>266</td>\n",
       "    </tr>\n",
       "    <tr>\n",
       "      <th>6545</th>\n",
       "      <td>66392-1</td>\n",
       "      <td>Duplo Cars Super Pack 3 in 1 (5816, 5817, 5818)</td>\n",
       "      <td>2012</td>\n",
       "      <td>506</td>\n",
       "      <td>-1</td>\n",
       "    </tr>\n",
       "    <tr>\n",
       "      <th>182</th>\n",
       "      <td>10200-1</td>\n",
       "      <td>Custom Car Garage</td>\n",
       "      <td>2008</td>\n",
       "      <td>397</td>\n",
       "      <td>893</td>\n",
       "    </tr>\n",
       "  </tbody>\n",
       "</table>\n",
       "</div>"
      ],
      "text/plain": [
       "           id                                               name  year  \\\n",
       "50    10022-1  Santa Fe Cars - Set II (dining, observation, o...  2002   \n",
       "53    10025-1        Santa Fe Cars - Set I (mail or baggage car)  2002   \n",
       "3515   4117-1                Fantastic Flyers & Cool Cars Bucket  2001   \n",
       "6545  66392-1    Duplo Cars Super Pack 3 in 1 (5816, 5817, 5818)  2012   \n",
       "182   10200-1                                  Custom Car Garage  2008   \n",
       "\n",
       "      theme_id  num_parts  \n",
       "50         237        410  \n",
       "53         237        325  \n",
       "3515        37        266  \n",
       "6545       506         -1  \n",
       "182        397        893  "
      ]
     },
     "execution_count": 141,
     "metadata": {},
     "output_type": "execute_result"
    }
   ],
   "source": [
    "\n",
    "#Search for sub string\n",
    "a = sets.name.str.contains(' CARS ', flags=re.IGNORECASE, regex=True) \n",
    "b = sets.name.str.contains(' CAR ', flags=re.IGNORECASE, regex=True) \n",
    "c = sets.name.str.contains('CAR ', flags=re.IGNORECASE, regex=True)\n",
    "d = sets.name.str.endswith('car') \n",
    "\n",
    "#Get only sets with corresponding string in name\n",
    "car_sets_a = sets[a.values]\n",
    "car_sets_b = sets[b.values]\n",
    "car_sets_c = sets[c.values]\n",
    "car_sets_d = sets[d.values]\n",
    "\n",
    "\n",
    "car  = car_sets_a.append(car_sets_b)\n",
    "car = car.append(car_sets_c)\n",
    "car = car.append(car_sets_d)\n",
    "#We ignore sets  recurrency because they will be in the same inventory\n",
    "\n",
    "#locate inventories id\n",
    "car_part = inventory_sets.loc[inventory_sets.set_id.isin(car.id)]\n",
    "car.head()"
   ]
  },
  {
   "cell_type": "markdown",
   "metadata": {},
   "source": [
    "<u><b><font color='green'>ANSWERS:</font></b></u><br><br>\n",
    "\n",
    "In order to find sets that contains cars, we use regular expression to find the string 'car(s)' in the name of the sets.\n",
    "The main issue with that method is that we ignore some sets that have cars because the string we look for is not contained in their name. For example sponsored sets like the set 'Bugatti' or the set 'michael schumacher' .\n",
    "We had to make sure that we don't select sets with the substring 'car' embeded in an other string that has nothing to do with cars. For example 'carrouselle'."
   ]
  },
  {
   "cell_type": "markdown",
   "metadata": {},
   "source": [
    "\n",
    "#    A3 . 2    #\n",
    "Plot the distribution of part categories as a (horizontal) bar chart. Restrict yourself to the 20 largest part categories (in terms of the number of parts belonging to the category)."
   ]
  },
  {
   "cell_type": "markdown",
   "metadata": {},
   "source": [
    "First of all we calculate number of part in each category. To do so, we group parts dataset by part category and determine size of each group. We then select first 20 largest part categories"
   ]
  },
  {
   "cell_type": "code",
   "execution_count": 90,
   "metadata": {},
   "outputs": [],
   "source": [
    "#grouping pars by parts_category and extracting 20 largest groups\n",
    "Largest_number_part = parts.groupby('part_cat_id').size().nlargest(20)\n",
    "\n",
    "\n",
    "parts.groupby('part_cat_id').part_cat_id.count()\n",
    "#Shift the indices so the id match the index\n",
    "aligned_part = part_categories.shift(periods=1, freq=None, axis=0)\n",
    "\n",
    "#Create a series do get name of largest category\n",
    "aligned_part['number'] = (parts.groupby('part_cat_id').part_cat_id.count())\n",
    "biggest_category = aligned_part.sort_values('number',ascending=False).head(20)"
   ]
  },
  {
   "cell_type": "code",
   "execution_count": 91,
   "metadata": {},
   "outputs": [
    {
     "data": {
      "image/png": "[encoded data removed]",
      "text/plain": [
       "<Figure size 792x720 with 1 Axes>"
      ]
     },
     "metadata": {},
     "output_type": "display_data"
    }
   ],
   "source": [
    "df = pd.DataFrame({\"Number of parts by category\": Largest_number_part.tolist()}\n",
    "                 , index=biggest_category.name)\n",
    "ax = df.plot.barh(figsize=(11, 10))"
   ]
  },
  {
   "cell_type": "markdown",
   "metadata": {
    "collapsed": true
   },
   "source": [
    "\n",
    "#    A3 . 3    #\n",
    "Find the dominant color of each set. Then, plot using a (horizontal) bar chart, the number of sets per dominant color. Color each bar with the respective color that it represents."
   ]
  },
  {
   "cell_type": "markdown",
   "metadata": {},
   "source": [
    "First of all let's see if all sets have inventories:"
   ]
  },
  {
   "cell_type": "code",
   "execution_count": 92,
   "metadata": {},
   "outputs": [
    {
     "name": "stdout",
     "output_type": "stream",
     "text": [
      "number of unique sets that have inventories: 2306\n",
      "number of total sets: 11673\n"
     ]
    }
   ],
   "source": [
    "#number of unique sets that have inventories\n",
    "print(\"number of unique sets that have inventories:\", inventory_sets.set_id.unique().shape[0])\n",
    "#number of total sets\n",
    "print(\"number of total sets:\", sets.shape[0])"
   ]
  },
  {
   "cell_type": "markdown",
   "metadata": {},
   "source": [
    "As we see, not all sets have inventories. "
   ]
  },
  {
   "cell_type": "markdown",
   "metadata": {},
   "source": [
    "As we need to find the relation between Sets and Colors, we have to join 4 differents dataframe.\n",
    "\n",
    "We inner joined sets and inventory_sets to get the inventories_id corresponding to sets_id. Then we joined inventories sets and parts based on inventories_ids. Finally, we were able to catch the colors names and rgb code from colors dataframe."
   ]
  },
  {
   "cell_type": "code",
   "execution_count": 93,
   "metadata": {
    "scrolled": true
   },
   "outputs": [
    {
     "data": {
      "text/plain": [
       "set_id   name              rgb     quantity_x  quantity_y\n",
       "10173-1  Black             05131D  1.0         1.0           1\n",
       "                                   6.0         1.0           1\n",
       "         Dark Bluish Gray  6C6E68  16.0        1.0           1\n",
       "1062-1   Black             05131D  6.0         1.0           2\n",
       "         Green             237841  13.0        1.0           1\n",
       "Name: set_id, dtype: int64"
      ]
     },
     "execution_count": 93,
     "metadata": {},
     "output_type": "execute_result"
    }
   ],
   "source": [
    "#cast ids to string\n",
    "sets.id = sets.id.astype(str)\n",
    "inventory_sets.inventory_id = inventory_sets.inventory_id.astype(str)\n",
    "inventory_parts.inventory_id = inventory_parts.inventory_id.astype(str)\n",
    "\n",
    "#merging sets and inventory sets. Using right join to fetch only the existing id in inventory_sets\n",
    "merge_sets_Inventory = pd.merge(sets, inventory_sets, how='outer',left_on=['id'], right_on=['set_id'])\n",
    "merge_sets_Inventory_filtered = pd.DataFrame()\n",
    "merge_sets_Inventory_filtered['set_id'] = merge_sets_Inventory.set_id\n",
    "merge_sets_Inventory_filtered['inventory_id'] = merge_sets_Inventory.inventory_id\n",
    "merge_sets_Inventory_filtered['quantity'] = merge_sets_Inventory.quantity\n",
    "\n",
    "#removing where there is quantity < 1\n",
    "set_inventory_quantity = merge_sets_Inventory_filtered[(merge_sets_Inventory_filtered['quantity'] > 0)]\n",
    "\n",
    "#merging until colors dataframe\n",
    "inventory_inventory = pd.merge(inventory_parts, set_inventory_quantity, how='right',on=['inventory_id'])\n",
    "inventory_inventory = inventory_inventory.dropna()\n",
    "inventory_color = pd.merge(inventory_inventory, colors, how='outer',left_on=['color_id'], right_on=['id'])\n",
    "inventory_color_filtered = pd.DataFrame()\n",
    "inventory_color_filtered['set_id'] = inventory_color.set_id\n",
    "inventory_color_filtered['name'] = inventory_color.name\n",
    "inventory_color_filtered['rgb'] = inventory_color.rgb\n",
    "inventory_color_filtered['quantity_x'] = inventory_color.quantity_x\n",
    "inventory_color_filtered['quantity_y'] = inventory_color.quantity_y\n",
    "\n",
    "#Removing No Color and Unknown color from the dataframe\n",
    "inventory_color_filtered = inventory_color_filtered[inventory_color_filtered['name'] != '[No Color]' ]\n",
    "\n",
    "#grouping by set_ids and colors\n",
    "groupby_sets = inventory_color_filtered.groupby(['set_id','name','rgb','quantity_x','quantity_y']).set_id.count()\n",
    "groupby_sets.head()"
   ]
  },
  {
   "cell_type": "markdown",
   "metadata": {},
   "source": [
    "\n",
    "\n",
    "We considered that the dataset inventory_sets contains constructed objects than will be present in the set, so we multiply by the quantity of these objects for each sets.\n",
    "We considered that inventory_parts contains all the elementary parts for each built object. So we multiply by the quantity of these elementary parts for each object.\n",
    "By merging with colors dataset we finally have the color of all the individual elementary parts that are in each set."
   ]
  },
  {
   "cell_type": "code",
   "execution_count": 94,
   "metadata": {},
   "outputs": [],
   "source": [
    "#keeping only the color the most used per set\n",
    "groupby_sets = inventory_color_filtered.groupby(['set_id','name','rgb','quantity_x','quantity_y']).set_id.count().reset_index(name=\"count\")\n",
    "#counting the number of color apparition\n",
    "groupby_sets=groupby_sets.groupby(['name','rgb','quantity_x','quantity_y']).agg({'count':'sum'})\n",
    "#getting dataframe to display it\n",
    "df = pd.DataFrame.from_dict(groupby_sets)\n",
    "#reseting index to access column by name\n",
    "df.reset_index(inplace=True)\n",
    "#multiplying count by quantity\n",
    "df.count = df['count'].astype(int)\n",
    "df_quantity = df\n",
    "df_quantity['quantity']=df_quantity.count * df_quantity.quantity_x * df_quantity.quantity_y\n",
    "df = df_quantity"
   ]
  },
  {
   "cell_type": "markdown",
   "metadata": {},
   "source": [
    "To display the graph we used the previous data \"groupby_sets\" that references all the color names, RGB codes and count of dominance.\n",
    "We display the bar with the good colors thanks to the RGB code."
   ]
  },
  {
   "cell_type": "code",
   "execution_count": 95,
   "metadata": {},
   "outputs": [
    {
     "data": {
      "image/png": "[encoded data removed]",
      "text/plain": [
       "<Figure size 792x720 with 1 Axes>"
      ]
     },
     "metadata": {},
     "output_type": "display_data"
    }
   ],
   "source": [
    "df = df.sort_values('count', ascending=False).head(20)\n",
    "#adding '#' to convert the RGB code to legal RGB code for the plot\n",
    "df['rgb'] = '#' + df['rgb'].astype(str)\n",
    "#displaying horizontal bar graph\n",
    "fig = df.head(10).plot(color=df['rgb'],x='name',y='count',kind='barh',title='Colors must used random sets', figsize=(11, 10))\n",
    "#changing background color to see white bar\n",
    "fig.patch.set_facecolor('#DEDBDB')"
   ]
  },
  {
   "cell_type": "markdown",
   "metadata": {},
   "source": [
    "\n",
    "#    A3 . 4    #\n",
    "Create a scatter plot of the luminance* of the sets vs their publishing year. What do you observe for the years 1980-1981? How do you interpret what you see?"
   ]
  },
  {
   "cell_type": "code",
   "execution_count": 96,
   "metadata": {},
   "outputs": [],
   "source": [
    "#merge the dataframe above with corresponding rbg to the name of the color\n",
    "color_sets = inventory_color_filtered\n",
    "\n",
    "#Merge the dataframe above with sets, to get year for each set_id\n",
    "color_set_rgb_year =  pd.merge(color_sets, sets, how='inner',left_on=['set_id'], right_on=['id'])\n",
    "\n",
    "#extract and convert R, G and B from string to int from rgb of each set\n",
    "color_set_rgb_year['R'] =  color_set_rgb_year.rgb.apply(lambda x:(int(x[0:2], 16) )) #R \n",
    "color_set_rgb_year['G'] =  color_set_rgb_year.rgb.apply(lambda x:(int(x[2:4], 16) )) #G\n",
    "color_set_rgb_year['B'] =  color_set_rgb_year.rgb.apply(lambda x:(int(x[4:6], 16) )) #B\n",
    "\n",
    "#Luminance\n",
    "color_set_rgb_year['Lum'] =np.sqrt(0.299* color_set_rgb_year.R* color_set_rgb_year.R + 0.587*color_set_rgb_year.G*color_set_rgb_year.G + 0.114*color_set_rgb_year.B*color_set_rgb_year.B)"
   ]
  },
  {
   "cell_type": "code",
   "execution_count": 97,
   "metadata": {},
   "outputs": [
    {
     "data": {
      "text/plain": [
       "<matplotlib.axes._subplots.AxesSubplot at 0x253fa94ad30>"
      ]
     },
     "execution_count": 97,
     "metadata": {},
     "output_type": "execute_result"
    },
    {
     "data": {
      "image/png": "[encoded data removed]",
      "text/plain": [
       "<Figure size 792x720 with 1 Axes>"
      ]
     },
     "metadata": {},
     "output_type": "display_data"
    }
   ],
   "source": [
    "color_set_rgb_year.sort_values(['year'])\n",
    "#Display scatter x = year , y = luminance, and the size is proportional to number of sets per year\n",
    "color_set_rgb_year.plot.scatter('year', 'Lum' ,color_set_rgb_year.groupby('year').year.count()*7,figsize=(11, 10)) \n"
   ]
  },
  {
   "cell_type": "markdown",
   "metadata": {},
   "source": [
    "<u><b><font color='green'>ANSWER:</font></b></u><br><br>\n",
    "\n",
    "The rgb column is a string that contain the color value encoded as hexadecimal on 8 bytes for each red, green and blue.\n",
    "We extract substring that represent R, G and B from the string rgb. We convert it as int from a hex.\n",
    "To have a size proportional to the number of set in the same year with the same luminance in the scatter plot,  we just group sets by year and count them. \n",
    "There are not as much data from 1970 to 1995 as there are from 1995 to 2012, maybe because the lego company was smaller or maybe because data were lost before the numerization.\n",
    "In 1980, the number of sets registered in the data is much higher than the average.And the luminance of the sets is quiet nicely distributed.\n"
   ]
  },
  {
   "cell_type": "markdown",
   "metadata": {},
   "source": [
    "## Task B. Drop the bike\n",
    "\n",
    "*Los Angeles Metro* has been sharing publicly [anonymized *Metro Bike Share* trip data](https://bikeshare.metro.net/about/data/) under the [Open Database License (ODbL)](http://opendatacommons.org/licenses/odbl/1.0/).\n",
    "\n",
    "In this task you will again perform data wrangling and interpretation."
   ]
  },
  {
   "cell_type": "markdown",
   "metadata": {},
   "source": [
    "### B1. Loading phase\n",
    "Load the json file into a `DataFrame`.\n"
   ]
  },
  {
   "cell_type": "code",
   "execution_count": 98,
   "metadata": {},
   "outputs": [],
   "source": [
    "BIKES_DATA_FOLDER = DATA_FOLDER + '/bikes'"
   ]
  },
  {
   "cell_type": "code",
   "execution_count": 99,
   "metadata": {},
   "outputs": [
    {
     "data": {
      "text/html": [
       "<div>\n",
       "<style scoped>\n",
       "    .dataframe tbody tr th:only-of-type {\n",
       "        vertical-align: middle;\n",
       "    }\n",
       "\n",
       "    .dataframe tbody tr th {\n",
       "        vertical-align: top;\n",
       "    }\n",
       "\n",
       "    .dataframe thead th {\n",
       "        text-align: right;\n",
       "    }\n",
       "</style>\n",
       "<table border=\"1\" class=\"dataframe\">\n",
       "  <thead>\n",
       "    <tr style=\"text-align: right;\">\n",
       "      <th></th>\n",
       "      <th>Bike ID</th>\n",
       "      <th>Duration</th>\n",
       "      <th>End Time</th>\n",
       "      <th>Ending Station ID</th>\n",
       "      <th>Ending Station Latitude</th>\n",
       "      <th>Ending Station Longitude</th>\n",
       "      <th>Passholder Type</th>\n",
       "      <th>Plan Duration</th>\n",
       "      <th>Start Time</th>\n",
       "      <th>Starting Station ID</th>\n",
       "      <th>Starting Station Latitude</th>\n",
       "      <th>Starting Station Longitude</th>\n",
       "      <th>Trip ID</th>\n",
       "      <th>Trip Route Category</th>\n",
       "    </tr>\n",
       "  </thead>\n",
       "  <tbody>\n",
       "    <tr>\n",
       "      <th>0</th>\n",
       "      <td>6281.0</td>\n",
       "      <td>180</td>\n",
       "      <td>2016-07-07T04:20:00</td>\n",
       "      <td>3014.0</td>\n",
       "      <td>34.056610</td>\n",
       "      <td>-118.23721</td>\n",
       "      <td>Monthly Pass</td>\n",
       "      <td>30.0</td>\n",
       "      <td>2016-07-07T04:17:00</td>\n",
       "      <td>3014.0</td>\n",
       "      <td>34.056610</td>\n",
       "      <td>-118.23721</td>\n",
       "      <td>1912818</td>\n",
       "      <td>Round Trip</td>\n",
       "    </tr>\n",
       "    <tr>\n",
       "      <th>1</th>\n",
       "      <td>6281.0</td>\n",
       "      <td>1980</td>\n",
       "      <td>2016-07-07T06:33:00</td>\n",
       "      <td>3014.0</td>\n",
       "      <td>34.056610</td>\n",
       "      <td>-118.23721</td>\n",
       "      <td>Monthly Pass</td>\n",
       "      <td>30.0</td>\n",
       "      <td>2016-07-07T06:00:00</td>\n",
       "      <td>3014.0</td>\n",
       "      <td>34.056610</td>\n",
       "      <td>-118.23721</td>\n",
       "      <td>1919661</td>\n",
       "      <td>Round Trip</td>\n",
       "    </tr>\n",
       "    <tr>\n",
       "      <th>2</th>\n",
       "      <td>5861.0</td>\n",
       "      <td>300</td>\n",
       "      <td>2016-07-07T10:37:00</td>\n",
       "      <td>3016.0</td>\n",
       "      <td>34.052898</td>\n",
       "      <td>-118.24156</td>\n",
       "      <td>Flex Pass</td>\n",
       "      <td>365.0</td>\n",
       "      <td>2016-07-07T10:32:00</td>\n",
       "      <td>3016.0</td>\n",
       "      <td>34.052898</td>\n",
       "      <td>-118.24156</td>\n",
       "      <td>1933383</td>\n",
       "      <td>Round Trip</td>\n",
       "    </tr>\n",
       "    <tr>\n",
       "      <th>3</th>\n",
       "      <td>5861.0</td>\n",
       "      <td>10860</td>\n",
       "      <td>2016-07-07T13:38:00</td>\n",
       "      <td>3016.0</td>\n",
       "      <td>34.052898</td>\n",
       "      <td>-118.24156</td>\n",
       "      <td>Flex Pass</td>\n",
       "      <td>365.0</td>\n",
       "      <td>2016-07-07T10:37:00</td>\n",
       "      <td>3016.0</td>\n",
       "      <td>34.052898</td>\n",
       "      <td>-118.24156</td>\n",
       "      <td>1944197</td>\n",
       "      <td>Round Trip</td>\n",
       "    </tr>\n",
       "    <tr>\n",
       "      <th>4</th>\n",
       "      <td>6674.0</td>\n",
       "      <td>420</td>\n",
       "      <td>2016-07-07T12:58:00</td>\n",
       "      <td>3032.0</td>\n",
       "      <td>34.049889</td>\n",
       "      <td>-118.25588</td>\n",
       "      <td>Walk-up</td>\n",
       "      <td>0.0</td>\n",
       "      <td>2016-07-07T12:51:00</td>\n",
       "      <td>3032.0</td>\n",
       "      <td>34.049889</td>\n",
       "      <td>-118.25588</td>\n",
       "      <td>1940317</td>\n",
       "      <td>Round Trip</td>\n",
       "    </tr>\n",
       "  </tbody>\n",
       "</table>\n",
       "</div>"
      ],
      "text/plain": [
       "   Bike ID  Duration             End Time  Ending Station ID  \\\n",
       "0   6281.0       180  2016-07-07T04:20:00             3014.0   \n",
       "1   6281.0      1980  2016-07-07T06:33:00             3014.0   \n",
       "2   5861.0       300  2016-07-07T10:37:00             3016.0   \n",
       "3   5861.0     10860  2016-07-07T13:38:00             3016.0   \n",
       "4   6674.0       420  2016-07-07T12:58:00             3032.0   \n",
       "\n",
       "   Ending Station Latitude  Ending Station Longitude Passholder Type  \\\n",
       "0                34.056610                -118.23721    Monthly Pass   \n",
       "1                34.056610                -118.23721    Monthly Pass   \n",
       "2                34.052898                -118.24156       Flex Pass   \n",
       "3                34.052898                -118.24156       Flex Pass   \n",
       "4                34.049889                -118.25588         Walk-up   \n",
       "\n",
       "   Plan Duration           Start Time  Starting Station ID  \\\n",
       "0           30.0  2016-07-07T04:17:00               3014.0   \n",
       "1           30.0  2016-07-07T06:00:00               3014.0   \n",
       "2          365.0  2016-07-07T10:32:00               3016.0   \n",
       "3          365.0  2016-07-07T10:37:00               3016.0   \n",
       "4            0.0  2016-07-07T12:51:00               3032.0   \n",
       "\n",
       "   Starting Station Latitude  Starting Station Longitude  Trip ID  \\\n",
       "0                  34.056610                  -118.23721  1912818   \n",
       "1                  34.056610                  -118.23721  1919661   \n",
       "2                  34.052898                  -118.24156  1933383   \n",
       "3                  34.052898                  -118.24156  1944197   \n",
       "4                  34.049889                  -118.25588  1940317   \n",
       "\n",
       "  Trip Route Category  \n",
       "0          Round Trip  \n",
       "1          Round Trip  \n",
       "2          Round Trip  \n",
       "3          Round Trip  \n",
       "4          Round Trip  "
      ]
     },
     "execution_count": 99,
     "metadata": {},
     "output_type": "execute_result"
    }
   ],
   "source": [
    "#read json zip file into data frame\n",
    "bike_share_trip = pd.read_json(BIKES_DATA_FOLDER + \"/metro-bike-share-trip-data.json.zip\")\n",
    "#bike_share_trip = df_metroBike.sort_values('Bike ID')\n",
    "bike_share_trip.head()"
   ]
  },
  {
   "cell_type": "markdown",
   "metadata": {},
   "source": [
    "### B2. Cleaning phase\n",
    "Describe the type and the value range of each attribute. Indicate and transform the attributes that are `Categorical`. Are there redundant columns in the dataset (i.e., are there columns whose value depends only on the value of another column)? What are the possible pitfalls of having such columns? Reduce *data redundancy* by extracting such columns to separate `DataFrames`. Which of the two formats (the initial one or the one with reduced data redundancy) is more susceptible to inconsistencies? At the end print for each `Dataframe` the *type of each column* and it's *shape*."
   ]
  },
  {
   "cell_type": "code",
   "execution_count": 100,
   "metadata": {},
   "outputs": [
    {
     "data": {
      "text/plain": [
       "Bike ID                       float64\n",
       "Duration                        int64\n",
       "End Time                       object\n",
       "Ending Station ID             float64\n",
       "Ending Station Latitude       float64\n",
       "Ending Station Longitude      float64\n",
       "Passholder Type                object\n",
       "Plan Duration                 float64\n",
       "Start Time                     object\n",
       "Starting Station ID           float64\n",
       "Starting Station Latitude     float64\n",
       "Starting Station Longitude    float64\n",
       "Trip ID                         int64\n",
       "Trip Route Category            object\n",
       "dtype: object"
      ]
     },
     "execution_count": 100,
     "metadata": {},
     "output_type": "execute_result"
    }
   ],
   "source": [
    "#describing types of attributes\n",
    "bike_share_trip.dtypes"
   ]
  },
  {
   "cell_type": "code",
   "execution_count": 101,
   "metadata": {
    "scrolled": false
   },
   "outputs": [
    {
     "data": {
      "text/html": [
       "<div>\n",
       "<style scoped>\n",
       "    .dataframe tbody tr th:only-of-type {\n",
       "        vertical-align: middle;\n",
       "    }\n",
       "\n",
       "    .dataframe tbody tr th {\n",
       "        vertical-align: top;\n",
       "    }\n",
       "\n",
       "    .dataframe thead th {\n",
       "        text-align: right;\n",
       "    }\n",
       "</style>\n",
       "<table border=\"1\" class=\"dataframe\">\n",
       "  <thead>\n",
       "    <tr style=\"text-align: right;\">\n",
       "      <th></th>\n",
       "      <th>Bike ID</th>\n",
       "      <th>Duration</th>\n",
       "      <th>Ending Station ID</th>\n",
       "      <th>Ending Station Latitude</th>\n",
       "      <th>Ending Station Longitude</th>\n",
       "      <th>Plan Duration</th>\n",
       "      <th>Starting Station ID</th>\n",
       "      <th>Starting Station Latitude</th>\n",
       "      <th>Starting Station Longitude</th>\n",
       "      <th>Trip ID</th>\n",
       "    </tr>\n",
       "  </thead>\n",
       "  <tbody>\n",
       "    <tr>\n",
       "      <th>count</th>\n",
       "      <td>132417.000000</td>\n",
       "      <td>132427.000000</td>\n",
       "      <td>132331.00000</td>\n",
       "      <td>131376.000000</td>\n",
       "      <td>131376.000000</td>\n",
       "      <td>131661.000000</td>\n",
       "      <td>132408.000000</td>\n",
       "      <td>132379.000000</td>\n",
       "      <td>132379.000000</td>\n",
       "      <td>1.324270e+05</td>\n",
       "    </tr>\n",
       "    <tr>\n",
       "      <th>mean</th>\n",
       "      <td>6193.618878</td>\n",
       "      <td>1555.301562</td>\n",
       "      <td>3042.38672</td>\n",
       "      <td>34.034614</td>\n",
       "      <td>-118.206642</td>\n",
       "      <td>44.821967</td>\n",
       "      <td>3043.020754</td>\n",
       "      <td>34.039309</td>\n",
       "      <td>-118.221534</td>\n",
       "      <td>1.153001e+07</td>\n",
       "    </tr>\n",
       "    <tr>\n",
       "      <th>std</th>\n",
       "      <td>293.606755</td>\n",
       "      <td>5814.241813</td>\n",
       "      <td>43.08440</td>\n",
       "      <td>0.650706</td>\n",
       "      <td>2.259913</td>\n",
       "      <td>90.411579</td>\n",
       "      <td>37.742021</td>\n",
       "      <td>0.529336</td>\n",
       "      <td>1.838335</td>\n",
       "      <td>6.369462e+06</td>\n",
       "    </tr>\n",
       "    <tr>\n",
       "      <th>min</th>\n",
       "      <td>1349.000000</td>\n",
       "      <td>60.000000</td>\n",
       "      <td>3000.00000</td>\n",
       "      <td>0.000000</td>\n",
       "      <td>-118.472832</td>\n",
       "      <td>0.000000</td>\n",
       "      <td>3000.000000</td>\n",
       "      <td>0.000000</td>\n",
       "      <td>-118.472832</td>\n",
       "      <td>1.912818e+06</td>\n",
       "    </tr>\n",
       "    <tr>\n",
       "      <th>25%</th>\n",
       "      <td>5953.000000</td>\n",
       "      <td>360.000000</td>\n",
       "      <td>3022.00000</td>\n",
       "      <td>34.044159</td>\n",
       "      <td>-118.256981</td>\n",
       "      <td>0.000000</td>\n",
       "      <td>3024.000000</td>\n",
       "      <td>34.044170</td>\n",
       "      <td>-118.256980</td>\n",
       "      <td>5.060814e+06</td>\n",
       "    </tr>\n",
       "    <tr>\n",
       "      <th>50%</th>\n",
       "      <td>6186.000000</td>\n",
       "      <td>600.000000</td>\n",
       "      <td>3038.00000</td>\n",
       "      <td>34.046810</td>\n",
       "      <td>-118.250954</td>\n",
       "      <td>30.000000</td>\n",
       "      <td>3040.000000</td>\n",
       "      <td>34.046822</td>\n",
       "      <td>-118.250954</td>\n",
       "      <td>1.043827e+07</td>\n",
       "    </tr>\n",
       "    <tr>\n",
       "      <th>75%</th>\n",
       "      <td>6434.000000</td>\n",
       "      <td>1080.000000</td>\n",
       "      <td>3063.00000</td>\n",
       "      <td>34.050480</td>\n",
       "      <td>-118.238810</td>\n",
       "      <td>30.000000</td>\n",
       "      <td>3063.000000</td>\n",
       "      <td>34.050880</td>\n",
       "      <td>-118.241562</td>\n",
       "      <td>1.720633e+07</td>\n",
       "    </tr>\n",
       "    <tr>\n",
       "      <th>max</th>\n",
       "      <td>6728.000000</td>\n",
       "      <td>86400.000000</td>\n",
       "      <td>4108.00000</td>\n",
       "      <td>34.064281</td>\n",
       "      <td>0.000000</td>\n",
       "      <td>365.000000</td>\n",
       "      <td>4108.000000</td>\n",
       "      <td>34.064281</td>\n",
       "      <td>0.000000</td>\n",
       "      <td>2.379422e+07</td>\n",
       "    </tr>\n",
       "  </tbody>\n",
       "</table>\n",
       "</div>"
      ],
      "text/plain": [
       "             Bike ID       Duration  Ending Station ID  \\\n",
       "count  132417.000000  132427.000000       132331.00000   \n",
       "mean     6193.618878    1555.301562         3042.38672   \n",
       "std       293.606755    5814.241813           43.08440   \n",
       "min      1349.000000      60.000000         3000.00000   \n",
       "25%      5953.000000     360.000000         3022.00000   \n",
       "50%      6186.000000     600.000000         3038.00000   \n",
       "75%      6434.000000    1080.000000         3063.00000   \n",
       "max      6728.000000   86400.000000         4108.00000   \n",
       "\n",
       "       Ending Station Latitude  Ending Station Longitude  Plan Duration  \\\n",
       "count            131376.000000             131376.000000  131661.000000   \n",
       "mean                 34.034614               -118.206642      44.821967   \n",
       "std                   0.650706                  2.259913      90.411579   \n",
       "min                   0.000000               -118.472832       0.000000   \n",
       "25%                  34.044159               -118.256981       0.000000   \n",
       "50%                  34.046810               -118.250954      30.000000   \n",
       "75%                  34.050480               -118.238810      30.000000   \n",
       "max                  34.064281                  0.000000     365.000000   \n",
       "\n",
       "       Starting Station ID  Starting Station Latitude  \\\n",
       "count        132408.000000              132379.000000   \n",
       "mean           3043.020754                  34.039309   \n",
       "std              37.742021                   0.529336   \n",
       "min            3000.000000                   0.000000   \n",
       "25%            3024.000000                  34.044170   \n",
       "50%            3040.000000                  34.046822   \n",
       "75%            3063.000000                  34.050880   \n",
       "max            4108.000000                  34.064281   \n",
       "\n",
       "       Starting Station Longitude       Trip ID  \n",
       "count               132379.000000  1.324270e+05  \n",
       "mean                  -118.221534  1.153001e+07  \n",
       "std                      1.838335  6.369462e+06  \n",
       "min                   -118.472832  1.912818e+06  \n",
       "25%                   -118.256980  5.060814e+06  \n",
       "50%                   -118.250954  1.043827e+07  \n",
       "75%                   -118.241562  1.720633e+07  \n",
       "max                      0.000000  2.379422e+07  "
      ]
     },
     "execution_count": 101,
     "metadata": {},
     "output_type": "execute_result"
    }
   ],
   "source": [
    "#describing attributes\n",
    "bike_share_trip.describe()"
   ]
  },
  {
   "cell_type": "markdown",
   "metadata": {},
   "source": [
    "Above we have value range and other descriptions of some attributes. However, object type attributes are not regarded in that data frame. Let's study them separately.\n",
    "End Time and Start Time are clearly date objects and should be handled accordingly:"
   ]
  },
  {
   "cell_type": "code",
   "execution_count": 102,
   "metadata": {},
   "outputs": [
    {
     "name": "stdout",
     "output_type": "stream",
     "text": [
      "Description of passholder type\n",
      "count           132427\n",
      "unique               4\n",
      "top       Monthly Pass\n",
      "freq             81304\n",
      "Name: Passholder Type, dtype: object \n",
      "\n",
      "Values of passholher type\n",
      "['Monthly Pass' 'Flex Pass' 'Walk-up' 'Staff Annual']\n"
     ]
    }
   ],
   "source": [
    "#description of passholder type\n",
    "print(\"Description of passholder type\")\n",
    "print(bike_share_trip['Passholder Type'].describe(), '\\n')\n",
    "#unique values of passholder type\n",
    "print(\"Values of passholher type\")\n",
    "print(bike_share_trip['Passholder Type'].unique())"
   ]
  },
  {
   "cell_type": "code",
   "execution_count": 103,
   "metadata": {},
   "outputs": [
    {
     "name": "stdout",
     "output_type": "stream",
     "text": [
      "Description of trip route category\n",
      "count      132427\n",
      "unique          2\n",
      "top       One Way\n",
      "freq       119642\n",
      "Name: Trip Route Category, dtype: object \n",
      "\n",
      "Values of trip route category\n",
      "['Round Trip' 'One Way']\n"
     ]
    }
   ],
   "source": [
    "#description of Trip Route Category\n",
    "print(\"Description of trip route category\")\n",
    "print(bike_share_trip['Trip Route Category'].describe(), '\\n')\n",
    "#unique values of Trip Route Category\n",
    "print(\"Values of trip route category\")\n",
    "print(bike_share_trip['Trip Route Category'].unique())"
   ]
  },
  {
   "cell_type": "code",
   "execution_count": 104,
   "metadata": {},
   "outputs": [
    {
     "data": {
      "text/plain": [
       "array([ 30., 365.,   0.,  nan])"
      ]
     },
     "execution_count": 104,
     "metadata": {},
     "output_type": "execute_result"
    }
   ],
   "source": [
    "bike_share_trip['Plan Duration'].unique()"
   ]
  },
  {
   "cell_type": "markdown",
   "metadata": {},
   "source": [
    "Therefore, in the dataset we have the following categorical variables:\n",
    "<ul>\n",
    "    <li>Passholder Type: 4 categories ['Monthly Pass' 'Flex Pass' 'Walk-up' 'Staff Annual']. Describes Pass type a person taken a trip had</li>\n",
    "    <li>Plan Duration: 4 categories [0., 365., 30, nan] corresponds to passholder types ['Walk-up' 'Flex Pass' 'Monthly Pass'  'Staff Annual'] respectivly </li>\n",
    "    <li>Trip Route Category: 2 categories ['Round Trip' 'One Way']</li>\n",
    "</ul>"
   ]
  },
  {
   "cell_type": "code",
   "execution_count": 105,
   "metadata": {},
   "outputs": [
    {
     "data": {
      "text/plain": [
       "['Passholder Type', 'Plan Duration', 'Trip Route Category']"
      ]
     },
     "execution_count": 105,
     "metadata": {},
     "output_type": "execute_result"
    }
   ],
   "source": [
    "#setting categorical columns\n",
    "categorical_cols = ['Passholder Type', 'Plan Duration', 'Trip Route Category']\n",
    "categorical_cols"
   ]
  },
  {
   "cell_type": "code",
   "execution_count": 106,
   "metadata": {},
   "outputs": [],
   "source": [
    "#Transforming indicated attributes as categorical \n",
    "bike_share_trip[categorical_cols] = bike_share_trip[categorical_cols].astype('category')"
   ]
  },
  {
   "cell_type": "code",
   "execution_count": 107,
   "metadata": {},
   "outputs": [
    {
     "data": {
      "text/plain": [
       "Bike ID                        float64\n",
       "Duration                         int64\n",
       "End Time                        object\n",
       "Ending Station ID              float64\n",
       "Ending Station Latitude        float64\n",
       "Ending Station Longitude       float64\n",
       "Passholder Type               category\n",
       "Plan Duration                 category\n",
       "Start Time                      object\n",
       "Starting Station ID            float64\n",
       "Starting Station Latitude      float64\n",
       "Starting Station Longitude     float64\n",
       "Trip ID                          int64\n",
       "Trip Route Category           category\n",
       "dtype: object"
      ]
     },
     "execution_count": 107,
     "metadata": {},
     "output_type": "execute_result"
    }
   ],
   "source": [
    "#attribute types\n",
    "bike_share_trip.dtypes"
   ]
  },
  {
   "cell_type": "markdown",
   "metadata": {},
   "source": [
    "As we can see, all the three above mentioned attributes are categorical now."
   ]
  },
  {
   "cell_type": "markdown",
   "metadata": {},
   "source": [
    "<u><b>Redundant columns:</b></u><br>\n",
    "\n",
    "* Duration column is the total second between start time and end time<br>\n",
    "* Plan duration is the number of days in the plan, it depends of the PassHolder Type\n",
    "Monthly -> 30, Flex Pass -> 365<br>\n",
    "* Trip Route Category depends on start and end station. If they are the same then trip route category is a round trip, otherwise it is one way trip"
   ]
  },
  {
   "cell_type": "code",
   "execution_count": 108,
   "metadata": {},
   "outputs": [
    {
     "data": {
      "text/html": [
       "<div>\n",
       "<style scoped>\n",
       "    .dataframe tbody tr th:only-of-type {\n",
       "        vertical-align: middle;\n",
       "    }\n",
       "\n",
       "    .dataframe tbody tr th {\n",
       "        vertical-align: top;\n",
       "    }\n",
       "\n",
       "    .dataframe thead th {\n",
       "        text-align: right;\n",
       "    }\n",
       "</style>\n",
       "<table border=\"1\" class=\"dataframe\">\n",
       "  <thead>\n",
       "    <tr style=\"text-align: right;\">\n",
       "      <th></th>\n",
       "      <th>Duration</th>\n",
       "      <th>Plan Duration</th>\n",
       "      <th>Trip Route Category</th>\n",
       "    </tr>\n",
       "  </thead>\n",
       "  <tbody>\n",
       "    <tr>\n",
       "      <th>0</th>\n",
       "      <td>180</td>\n",
       "      <td>30.0</td>\n",
       "      <td>Round Trip</td>\n",
       "    </tr>\n",
       "    <tr>\n",
       "      <th>1</th>\n",
       "      <td>1980</td>\n",
       "      <td>30.0</td>\n",
       "      <td>Round Trip</td>\n",
       "    </tr>\n",
       "    <tr>\n",
       "      <th>2</th>\n",
       "      <td>300</td>\n",
       "      <td>365.0</td>\n",
       "      <td>Round Trip</td>\n",
       "    </tr>\n",
       "    <tr>\n",
       "      <th>3</th>\n",
       "      <td>10860</td>\n",
       "      <td>365.0</td>\n",
       "      <td>Round Trip</td>\n",
       "    </tr>\n",
       "    <tr>\n",
       "      <th>4</th>\n",
       "      <td>420</td>\n",
       "      <td>0.0</td>\n",
       "      <td>Round Trip</td>\n",
       "    </tr>\n",
       "    <tr>\n",
       "      <th>5</th>\n",
       "      <td>780</td>\n",
       "      <td>30.0</td>\n",
       "      <td>One Way</td>\n",
       "    </tr>\n",
       "    <tr>\n",
       "      <th>6</th>\n",
       "      <td>600</td>\n",
       "      <td>30.0</td>\n",
       "      <td>One Way</td>\n",
       "    </tr>\n",
       "    <tr>\n",
       "      <th>7</th>\n",
       "      <td>600</td>\n",
       "      <td>365.0</td>\n",
       "      <td>One Way</td>\n",
       "    </tr>\n",
       "    <tr>\n",
       "      <th>8</th>\n",
       "      <td>2880</td>\n",
       "      <td>365.0</td>\n",
       "      <td>Round Trip</td>\n",
       "    </tr>\n",
       "    <tr>\n",
       "      <th>9</th>\n",
       "      <td>960</td>\n",
       "      <td>30.0</td>\n",
       "      <td>One Way</td>\n",
       "    </tr>\n",
       "  </tbody>\n",
       "</table>\n",
       "</div>"
      ],
      "text/plain": [
       "   Duration Plan Duration Trip Route Category\n",
       "0       180          30.0          Round Trip\n",
       "1      1980          30.0          Round Trip\n",
       "2       300         365.0          Round Trip\n",
       "3     10860         365.0          Round Trip\n",
       "4       420           0.0          Round Trip\n",
       "5       780          30.0             One Way\n",
       "6       600          30.0             One Way\n",
       "7       600         365.0             One Way\n",
       "8      2880         365.0          Round Trip\n",
       "9       960          30.0             One Way"
      ]
     },
     "execution_count": 108,
     "metadata": {},
     "output_type": "execute_result"
    }
   ],
   "source": [
    "#Extracting redundant columns based on the analysis explained in Output[209]\n",
    "redudant_columns = ['Duration','Plan Duration', 'Trip Route Category']\n",
    "bike_share_trip_redundancy = bike_share_trip[redudant_columns]\n",
    "bike_share_trip_redundancy.head(10)"
   ]
  },
  {
   "cell_type": "code",
   "execution_count": 109,
   "metadata": {},
   "outputs": [
    {
     "data": {
      "text/html": [
       "<div>\n",
       "<style scoped>\n",
       "    .dataframe tbody tr th:only-of-type {\n",
       "        vertical-align: middle;\n",
       "    }\n",
       "\n",
       "    .dataframe tbody tr th {\n",
       "        vertical-align: top;\n",
       "    }\n",
       "\n",
       "    .dataframe thead th {\n",
       "        text-align: right;\n",
       "    }\n",
       "</style>\n",
       "<table border=\"1\" class=\"dataframe\">\n",
       "  <thead>\n",
       "    <tr style=\"text-align: right;\">\n",
       "      <th></th>\n",
       "      <th>Bike ID</th>\n",
       "      <th>Ending Station ID</th>\n",
       "      <th>Ending Station Latitude</th>\n",
       "      <th>Ending Station Longitude</th>\n",
       "      <th>Passholder Type</th>\n",
       "      <th>Plan Duration</th>\n",
       "      <th>Start Time</th>\n",
       "      <th>Starting Station ID</th>\n",
       "      <th>Starting Station Latitude</th>\n",
       "      <th>Starting Station Longitude</th>\n",
       "      <th>Trip ID</th>\n",
       "      <th>Trip Route Category</th>\n",
       "    </tr>\n",
       "  </thead>\n",
       "  <tbody>\n",
       "    <tr>\n",
       "      <th>0</th>\n",
       "      <td>6281.0</td>\n",
       "      <td>3014.0</td>\n",
       "      <td>34.056610</td>\n",
       "      <td>-118.23721</td>\n",
       "      <td>Monthly Pass</td>\n",
       "      <td>30.0</td>\n",
       "      <td>2016-07-07T04:17:00</td>\n",
       "      <td>3014.0</td>\n",
       "      <td>34.056610</td>\n",
       "      <td>-118.23721</td>\n",
       "      <td>1912818</td>\n",
       "      <td>Round Trip</td>\n",
       "    </tr>\n",
       "    <tr>\n",
       "      <th>1</th>\n",
       "      <td>6281.0</td>\n",
       "      <td>3014.0</td>\n",
       "      <td>34.056610</td>\n",
       "      <td>-118.23721</td>\n",
       "      <td>Monthly Pass</td>\n",
       "      <td>30.0</td>\n",
       "      <td>2016-07-07T06:00:00</td>\n",
       "      <td>3014.0</td>\n",
       "      <td>34.056610</td>\n",
       "      <td>-118.23721</td>\n",
       "      <td>1919661</td>\n",
       "      <td>Round Trip</td>\n",
       "    </tr>\n",
       "    <tr>\n",
       "      <th>2</th>\n",
       "      <td>5861.0</td>\n",
       "      <td>3016.0</td>\n",
       "      <td>34.052898</td>\n",
       "      <td>-118.24156</td>\n",
       "      <td>Flex Pass</td>\n",
       "      <td>365.0</td>\n",
       "      <td>2016-07-07T10:32:00</td>\n",
       "      <td>3016.0</td>\n",
       "      <td>34.052898</td>\n",
       "      <td>-118.24156</td>\n",
       "      <td>1933383</td>\n",
       "      <td>Round Trip</td>\n",
       "    </tr>\n",
       "    <tr>\n",
       "      <th>3</th>\n",
       "      <td>5861.0</td>\n",
       "      <td>3016.0</td>\n",
       "      <td>34.052898</td>\n",
       "      <td>-118.24156</td>\n",
       "      <td>Flex Pass</td>\n",
       "      <td>365.0</td>\n",
       "      <td>2016-07-07T10:37:00</td>\n",
       "      <td>3016.0</td>\n",
       "      <td>34.052898</td>\n",
       "      <td>-118.24156</td>\n",
       "      <td>1944197</td>\n",
       "      <td>Round Trip</td>\n",
       "    </tr>\n",
       "    <tr>\n",
       "      <th>4</th>\n",
       "      <td>6674.0</td>\n",
       "      <td>3032.0</td>\n",
       "      <td>34.049889</td>\n",
       "      <td>-118.25588</td>\n",
       "      <td>Walk-up</td>\n",
       "      <td>0.0</td>\n",
       "      <td>2016-07-07T12:51:00</td>\n",
       "      <td>3032.0</td>\n",
       "      <td>34.049889</td>\n",
       "      <td>-118.25588</td>\n",
       "      <td>1940317</td>\n",
       "      <td>Round Trip</td>\n",
       "    </tr>\n",
       "    <tr>\n",
       "      <th>5</th>\n",
       "      <td>6717.0</td>\n",
       "      <td>3054.0</td>\n",
       "      <td>34.039219</td>\n",
       "      <td>-118.23649</td>\n",
       "      <td>Monthly Pass</td>\n",
       "      <td>30.0</td>\n",
       "      <td>2016-07-07T12:51:00</td>\n",
       "      <td>3021.0</td>\n",
       "      <td>34.045609</td>\n",
       "      <td>-118.23703</td>\n",
       "      <td>1944075</td>\n",
       "      <td>One Way</td>\n",
       "    </tr>\n",
       "    <tr>\n",
       "      <th>6</th>\n",
       "      <td>5721.0</td>\n",
       "      <td>3014.0</td>\n",
       "      <td>34.056610</td>\n",
       "      <td>-118.23721</td>\n",
       "      <td>Monthly Pass</td>\n",
       "      <td>30.0</td>\n",
       "      <td>2016-07-07T12:54:00</td>\n",
       "      <td>3022.0</td>\n",
       "      <td>34.046070</td>\n",
       "      <td>-118.23309</td>\n",
       "      <td>1944073</td>\n",
       "      <td>One Way</td>\n",
       "    </tr>\n",
       "    <tr>\n",
       "      <th>7</th>\n",
       "      <td>5957.0</td>\n",
       "      <td>3005.0</td>\n",
       "      <td>34.048550</td>\n",
       "      <td>-118.25905</td>\n",
       "      <td>Flex Pass</td>\n",
       "      <td>365.0</td>\n",
       "      <td>2016-07-07T12:59:00</td>\n",
       "      <td>3076.0</td>\n",
       "      <td>34.040600</td>\n",
       "      <td>-118.25384</td>\n",
       "      <td>1944067</td>\n",
       "      <td>One Way</td>\n",
       "    </tr>\n",
       "    <tr>\n",
       "      <th>8</th>\n",
       "      <td>6137.0</td>\n",
       "      <td>3031.0</td>\n",
       "      <td>34.044701</td>\n",
       "      <td>-118.25244</td>\n",
       "      <td>Flex Pass</td>\n",
       "      <td>365.0</td>\n",
       "      <td>2016-07-07T13:01:00</td>\n",
       "      <td>3031.0</td>\n",
       "      <td>34.044701</td>\n",
       "      <td>-118.25244</td>\n",
       "      <td>1944062</td>\n",
       "      <td>Round Trip</td>\n",
       "    </tr>\n",
       "    <tr>\n",
       "      <th>9</th>\n",
       "      <td>6351.0</td>\n",
       "      <td>3078.0</td>\n",
       "      <td>34.064281</td>\n",
       "      <td>-118.23894</td>\n",
       "      <td>Monthly Pass</td>\n",
       "      <td>30.0</td>\n",
       "      <td>2016-07-07T13:01:00</td>\n",
       "      <td>3031.0</td>\n",
       "      <td>34.044701</td>\n",
       "      <td>-118.25244</td>\n",
       "      <td>1944063</td>\n",
       "      <td>One Way</td>\n",
       "    </tr>\n",
       "  </tbody>\n",
       "</table>\n",
       "</div>"
      ],
      "text/plain": [
       "   Bike ID  Ending Station ID  Ending Station Latitude  \\\n",
       "0   6281.0             3014.0                34.056610   \n",
       "1   6281.0             3014.0                34.056610   \n",
       "2   5861.0             3016.0                34.052898   \n",
       "3   5861.0             3016.0                34.052898   \n",
       "4   6674.0             3032.0                34.049889   \n",
       "5   6717.0             3054.0                34.039219   \n",
       "6   5721.0             3014.0                34.056610   \n",
       "7   5957.0             3005.0                34.048550   \n",
       "8   6137.0             3031.0                34.044701   \n",
       "9   6351.0             3078.0                34.064281   \n",
       "\n",
       "   Ending Station Longitude Passholder Type Plan Duration  \\\n",
       "0                -118.23721    Monthly Pass          30.0   \n",
       "1                -118.23721    Monthly Pass          30.0   \n",
       "2                -118.24156       Flex Pass         365.0   \n",
       "3                -118.24156       Flex Pass         365.0   \n",
       "4                -118.25588         Walk-up           0.0   \n",
       "5                -118.23649    Monthly Pass          30.0   \n",
       "6                -118.23721    Monthly Pass          30.0   \n",
       "7                -118.25905       Flex Pass         365.0   \n",
       "8                -118.25244       Flex Pass         365.0   \n",
       "9                -118.23894    Monthly Pass          30.0   \n",
       "\n",
       "            Start Time  Starting Station ID  Starting Station Latitude  \\\n",
       "0  2016-07-07T04:17:00               3014.0                  34.056610   \n",
       "1  2016-07-07T06:00:00               3014.0                  34.056610   \n",
       "2  2016-07-07T10:32:00               3016.0                  34.052898   \n",
       "3  2016-07-07T10:37:00               3016.0                  34.052898   \n",
       "4  2016-07-07T12:51:00               3032.0                  34.049889   \n",
       "5  2016-07-07T12:51:00               3021.0                  34.045609   \n",
       "6  2016-07-07T12:54:00               3022.0                  34.046070   \n",
       "7  2016-07-07T12:59:00               3076.0                  34.040600   \n",
       "8  2016-07-07T13:01:00               3031.0                  34.044701   \n",
       "9  2016-07-07T13:01:00               3031.0                  34.044701   \n",
       "\n",
       "   Starting Station Longitude  Trip ID Trip Route Category  \n",
       "0                  -118.23721  1912818          Round Trip  \n",
       "1                  -118.23721  1919661          Round Trip  \n",
       "2                  -118.24156  1933383          Round Trip  \n",
       "3                  -118.24156  1944197          Round Trip  \n",
       "4                  -118.25588  1940317          Round Trip  \n",
       "5                  -118.23703  1944075             One Way  \n",
       "6                  -118.23309  1944073             One Way  \n",
       "7                  -118.25384  1944067             One Way  \n",
       "8                  -118.25244  1944062          Round Trip  \n",
       "9                  -118.25244  1944063             One Way  "
      ]
     },
     "execution_count": 109,
     "metadata": {},
     "output_type": "execute_result"
    }
   ],
   "source": [
    "#Create dataframe without redundancy\n",
    "bike_share_trip_withoutRedundancy = bike_share_trip\n",
    "bike_share_trip_withoutRedundancy.drop(bike_share_trip_withoutRedundancy.columns[[1, 2]], axis=1, inplace=True)\n",
    "bike_share_trip_withoutRedundancy.head(10)"
   ]
  },
  {
   "cell_type": "code",
   "execution_count": 110,
   "metadata": {},
   "outputs": [
    {
     "data": {
      "text/plain": [
       "Duration                  int64\n",
       "Plan Duration          category\n",
       "Trip Route Category    category\n",
       "dtype: object"
      ]
     },
     "execution_count": 110,
     "metadata": {},
     "output_type": "execute_result"
    }
   ],
   "source": [
    "#Displaying dataframe redundancy types\n",
    "bike_share_trip_redundancy.dtypes"
   ]
  },
  {
   "cell_type": "code",
   "execution_count": 111,
   "metadata": {},
   "outputs": [
    {
     "data": {
      "text/plain": [
       "(132427, 3)"
      ]
     },
     "execution_count": 111,
     "metadata": {},
     "output_type": "execute_result"
    }
   ],
   "source": [
    "#Displaying dataframe redundancy shape\n",
    "bike_share_trip_redundancy.shape"
   ]
  },
  {
   "cell_type": "code",
   "execution_count": 112,
   "metadata": {},
   "outputs": [
    {
     "data": {
      "text/plain": [
       "Bike ID                        float64\n",
       "Ending Station ID              float64\n",
       "Ending Station Latitude        float64\n",
       "Ending Station Longitude       float64\n",
       "Passholder Type               category\n",
       "Plan Duration                 category\n",
       "Start Time                      object\n",
       "Starting Station ID            float64\n",
       "Starting Station Latitude      float64\n",
       "Starting Station Longitude     float64\n",
       "Trip ID                          int64\n",
       "Trip Route Category           category\n",
       "dtype: object"
      ]
     },
     "execution_count": 112,
     "metadata": {},
     "output_type": "execute_result"
    }
   ],
   "source": [
    "#Displaying dataframe redundancy types\n",
    "bike_share_trip_withoutRedundancy.dtypes"
   ]
  },
  {
   "cell_type": "code",
   "execution_count": 113,
   "metadata": {},
   "outputs": [
    {
     "data": {
      "text/plain": [
       "(132427, 12)"
      ]
     },
     "execution_count": 113,
     "metadata": {},
     "output_type": "execute_result"
    }
   ],
   "source": [
    "#Displaying dataframe redundancy shape\n",
    "bike_share_trip_withoutRedundancy.shape"
   ]
  },
  {
   "cell_type": "markdown",
   "metadata": {},
   "source": [
    "<u><b><font color='green'>ANSWERS:</font></b></u><br><br>\n",
    "\n",
    "<u><b>Redundant columns pitfalls:</b></u><br>\n",
    "\n",
    "Having redundant columns is a poor design, since redundant values need to change when we update values it depends on. Otherwise we will have inconsistent data, that will not make logical sense. Since it is easy to miss updating depending variables, it might often cause problems. Therefore, table without redundancies are more suitable and is easier to maintain its consistency."
   ]
  },
  {
   "cell_type": "markdown",
   "metadata": {},
   "source": [
    "### B3. Querying Phase\n",
    "Answer the following queries using the functionality of `Pandas`.\n",
    "\n",
    "1. Plot the *distribution* of the number of outgoing trips from each station in a histogram with 20 bins (Hint: each bin describes a range of counts, not stations).\n",
    "* Plot histograms for the *duration* and *trip starting hour in the day* attributes. For both the *duration*  and the *trip starting hour* use *discrete 1-hour intervals*. What do you observe in each plot? What are some popular values in the *duration* plot? Explain the local maxima and the trends you observe on the *trip starting hour* plot based on human behavior.\n",
    "* For each *trip route category*, calculate the proportion of trips by *passholder type* and present your results in *a stacked bar chart with normalized height*.\n",
    "* Considering only trips that begin in the morning hours (before noon), plot in *a single bar chart* the proportion of trips by *passholder type* and *trip route category*. Explain any outliers you observe.\n",
    "* Separate the hours of the day into two intervals that have (approximately) the same number of bikes leaving the stations. For each of the two intervals calculate the proportion of trips by *passholder type* and *trip route category*. Present your results in a `DataFrame` which has a unique, non-composite index. Does the proportion of trips depend on whether it is the first or second hour interval? Would the company have any significant benefit by creating a more complex paying scheme where monthly pass users would pay less in the first interval and (equally) more on the second one? Assume that the number of trips per interval will not change if the scheme changes."
   ]
  },
  {
   "cell_type": "markdown",
   "metadata": {},
   "source": [
    "### B3. Querying Phase Solutions"
   ]
  },
  {
   "cell_type": "markdown",
   "metadata": {
    "collapsed": true
   },
   "source": [
    "<h3 align=\"center\"> B3.1 </h3> \n",
    "Plot the distribution of the number of outgoing trips from each station in a histogram with 20 bins (Hint: each bin describes a range of counts, not stations)."
   ]
  },
  {
   "cell_type": "code",
   "execution_count": 114,
   "metadata": {},
   "outputs": [
    {
     "data": {
      "text/html": [
       "<div>\n",
       "<style scoped>\n",
       "    .dataframe tbody tr th:only-of-type {\n",
       "        vertical-align: middle;\n",
       "    }\n",
       "\n",
       "    .dataframe tbody tr th {\n",
       "        vertical-align: top;\n",
       "    }\n",
       "\n",
       "    .dataframe thead th {\n",
       "        text-align: right;\n",
       "    }\n",
       "</style>\n",
       "<table border=\"1\" class=\"dataframe\">\n",
       "  <thead>\n",
       "    <tr style=\"text-align: right;\">\n",
       "      <th></th>\n",
       "      <th>Bike ID</th>\n",
       "      <th>Duration</th>\n",
       "      <th>End Time</th>\n",
       "      <th>Ending Station ID</th>\n",
       "      <th>Ending Station Latitude</th>\n",
       "      <th>Ending Station Longitude</th>\n",
       "      <th>Passholder Type</th>\n",
       "      <th>Plan Duration</th>\n",
       "      <th>Start Time</th>\n",
       "      <th>Starting Station ID</th>\n",
       "      <th>Starting Station Latitude</th>\n",
       "      <th>Starting Station Longitude</th>\n",
       "      <th>Trip ID</th>\n",
       "      <th>Trip Route Category</th>\n",
       "    </tr>\n",
       "  </thead>\n",
       "  <tbody>\n",
       "    <tr>\n",
       "      <th>0</th>\n",
       "      <td>6281.0</td>\n",
       "      <td>180</td>\n",
       "      <td>2016-07-07T04:20:00</td>\n",
       "      <td>3014.0</td>\n",
       "      <td>34.056610</td>\n",
       "      <td>-118.23721</td>\n",
       "      <td>Monthly Pass</td>\n",
       "      <td>30.0</td>\n",
       "      <td>2016-07-07T04:17:00</td>\n",
       "      <td>3014.0</td>\n",
       "      <td>34.056610</td>\n",
       "      <td>-118.23721</td>\n",
       "      <td>1912818</td>\n",
       "      <td>Round Trip</td>\n",
       "    </tr>\n",
       "    <tr>\n",
       "      <th>1</th>\n",
       "      <td>6281.0</td>\n",
       "      <td>1980</td>\n",
       "      <td>2016-07-07T06:33:00</td>\n",
       "      <td>3014.0</td>\n",
       "      <td>34.056610</td>\n",
       "      <td>-118.23721</td>\n",
       "      <td>Monthly Pass</td>\n",
       "      <td>30.0</td>\n",
       "      <td>2016-07-07T06:00:00</td>\n",
       "      <td>3014.0</td>\n",
       "      <td>34.056610</td>\n",
       "      <td>-118.23721</td>\n",
       "      <td>1919661</td>\n",
       "      <td>Round Trip</td>\n",
       "    </tr>\n",
       "    <tr>\n",
       "      <th>2</th>\n",
       "      <td>5861.0</td>\n",
       "      <td>300</td>\n",
       "      <td>2016-07-07T10:37:00</td>\n",
       "      <td>3016.0</td>\n",
       "      <td>34.052898</td>\n",
       "      <td>-118.24156</td>\n",
       "      <td>Flex Pass</td>\n",
       "      <td>365.0</td>\n",
       "      <td>2016-07-07T10:32:00</td>\n",
       "      <td>3016.0</td>\n",
       "      <td>34.052898</td>\n",
       "      <td>-118.24156</td>\n",
       "      <td>1933383</td>\n",
       "      <td>Round Trip</td>\n",
       "    </tr>\n",
       "    <tr>\n",
       "      <th>3</th>\n",
       "      <td>5861.0</td>\n",
       "      <td>10860</td>\n",
       "      <td>2016-07-07T13:38:00</td>\n",
       "      <td>3016.0</td>\n",
       "      <td>34.052898</td>\n",
       "      <td>-118.24156</td>\n",
       "      <td>Flex Pass</td>\n",
       "      <td>365.0</td>\n",
       "      <td>2016-07-07T10:37:00</td>\n",
       "      <td>3016.0</td>\n",
       "      <td>34.052898</td>\n",
       "      <td>-118.24156</td>\n",
       "      <td>1944197</td>\n",
       "      <td>Round Trip</td>\n",
       "    </tr>\n",
       "    <tr>\n",
       "      <th>4</th>\n",
       "      <td>6674.0</td>\n",
       "      <td>420</td>\n",
       "      <td>2016-07-07T12:58:00</td>\n",
       "      <td>3032.0</td>\n",
       "      <td>34.049889</td>\n",
       "      <td>-118.25588</td>\n",
       "      <td>Walk-up</td>\n",
       "      <td>0.0</td>\n",
       "      <td>2016-07-07T12:51:00</td>\n",
       "      <td>3032.0</td>\n",
       "      <td>34.049889</td>\n",
       "      <td>-118.25588</td>\n",
       "      <td>1940317</td>\n",
       "      <td>Round Trip</td>\n",
       "    </tr>\n",
       "  </tbody>\n",
       "</table>\n",
       "</div>"
      ],
      "text/plain": [
       "   Bike ID  Duration             End Time  Ending Station ID  \\\n",
       "0   6281.0       180  2016-07-07T04:20:00             3014.0   \n",
       "1   6281.0      1980  2016-07-07T06:33:00             3014.0   \n",
       "2   5861.0       300  2016-07-07T10:37:00             3016.0   \n",
       "3   5861.0     10860  2016-07-07T13:38:00             3016.0   \n",
       "4   6674.0       420  2016-07-07T12:58:00             3032.0   \n",
       "\n",
       "   Ending Station Latitude  Ending Station Longitude Passholder Type  \\\n",
       "0                34.056610                -118.23721    Monthly Pass   \n",
       "1                34.056610                -118.23721    Monthly Pass   \n",
       "2                34.052898                -118.24156       Flex Pass   \n",
       "3                34.052898                -118.24156       Flex Pass   \n",
       "4                34.049889                -118.25588         Walk-up   \n",
       "\n",
       "   Plan Duration           Start Time  Starting Station ID  \\\n",
       "0           30.0  2016-07-07T04:17:00               3014.0   \n",
       "1           30.0  2016-07-07T06:00:00               3014.0   \n",
       "2          365.0  2016-07-07T10:32:00               3016.0   \n",
       "3          365.0  2016-07-07T10:37:00               3016.0   \n",
       "4            0.0  2016-07-07T12:51:00               3032.0   \n",
       "\n",
       "   Starting Station Latitude  Starting Station Longitude  Trip ID  \\\n",
       "0                  34.056610                  -118.23721  1912818   \n",
       "1                  34.056610                  -118.23721  1919661   \n",
       "2                  34.052898                  -118.24156  1933383   \n",
       "3                  34.052898                  -118.24156  1944197   \n",
       "4                  34.049889                  -118.25588  1940317   \n",
       "\n",
       "  Trip Route Category  \n",
       "0          Round Trip  \n",
       "1          Round Trip  \n",
       "2          Round Trip  \n",
       "3          Round Trip  \n",
       "4          Round Trip  "
      ]
     },
     "execution_count": 114,
     "metadata": {},
     "output_type": "execute_result"
    }
   ],
   "source": [
    "#read bike share trip data into dataframe\n",
    "bike_share_trip = pd.read_json(BIKES_DATA_FOLDER + \"/metro-bike-share-trip-data.json.zip\")\n",
    "#display first few rows of data\n",
    "bike_share_trip.head()"
   ]
  },
  {
   "cell_type": "code",
   "execution_count": 115,
   "metadata": {},
   "outputs": [],
   "source": [
    "#group trips data according to starting stations\n",
    "bike_share_trip_grouped = bike_share_trip.groupby('Starting Station ID')\n",
    "#determine number of outgoing trips for each group (station)\n",
    "outgoing_trip_counts = bike_share_trip_grouped.size()"
   ]
  },
  {
   "cell_type": "code",
   "execution_count": 116,
   "metadata": {},
   "outputs": [
    {
     "name": "stdout",
     "output_type": "stream",
     "text": [
      "Outgoing Trip Counts according to some station:\n",
      "\n",
      "Starting Station ID\n",
      "3000.0      29\n",
      "3005.0    4883\n",
      "3006.0    2708\n",
      "3007.0    2785\n",
      "3008.0    2156\n",
      "dtype: int64 \n",
      "\n",
      "Description:\n",
      "\n",
      "count      67.000000\n",
      "mean     1976.238806\n",
      "std      1408.833679\n",
      "min        13.000000\n",
      "25%       833.500000\n",
      "50%      1902.000000\n",
      "75%      2977.000000\n",
      "max      5138.000000\n",
      "dtype: float64\n"
     ]
    }
   ],
   "source": [
    "#description of number of outgoing trips\n",
    "print(\"Outgoing Trip Counts according to some station:\\n\")\n",
    "print(outgoing_trip_counts.head(), '\\n')\n",
    "print(\"Description:\\n\")\n",
    "print(outgoing_trip_counts.describe())"
   ]
  },
  {
   "cell_type": "code",
   "execution_count": 117,
   "metadata": {},
   "outputs": [
    {
     "data": {
      "text/plain": [
       "Text(0.5,1,'Distribution of the Number of Outgoing Trips')"
      ]
     },
     "execution_count": 117,
     "metadata": {},
     "output_type": "execute_result"
    },
    {
     "data": {
      "image/png": "[encoded data removed]",
      "text/plain": [
       "<Figure size 1152x360 with 1 Axes>"
      ]
     },
     "metadata": {},
     "output_type": "display_data"
    }
   ],
   "source": [
    "#create histogram of outgoing trips\n",
    "outgoing_trips_hist = bike_share_trip_grouped.size().plot(kind='hist', bins=20, grid=True, figsize=(16,5))\n",
    "outgoing_trips_hist.set_xlabel(\"Number of Outgoing trips\")\n",
    "outgoing_trips_hist.set_ylabel(\"Number of Stations\")\n",
    "outgoing_trips_hist.set_title(\"Distribution of the Number of Outgoing Trips\")"
   ]
  },
  {
   "cell_type": "markdown",
   "metadata": {},
   "source": [
    "In order to Plot the distribution of the number of outgoing trips from each station in a histogram we first group trip data according to ids of starting stations. Afterwards, we computer number of trips for each group (station) and plot distribution. Histogram shows outgoing trips distribution with 20 bins, where number of outgoing trips varies from 13 to 5138 with corresponding number of stations for each bin.\n",
    "    "
   ]
  },
  {
   "cell_type": "markdown",
   "metadata": {},
   "source": [
    "<h3 align=\"center\"> B3.2 </h3> \n",
    "Plot histograms for the duration and trip starting hour in the day attributes. For both the duration and the trip starting hour use discrete 1-hour intervals. What do you observe in each plot? What are some popular values in the duration plot? Explain the local maxima and the trends you observe on the trip starting hour plot based on human behavior"
   ]
  },
  {
   "cell_type": "markdown",
   "metadata": {},
   "source": [
    "Before starting exercise let's observe that Start time and End time are both dates, so it would makes sense to convert them accordingly:"
   ]
  },
  {
   "cell_type": "code",
   "execution_count": 118,
   "metadata": {},
   "outputs": [],
   "source": [
    "#converting Start Time and End Time attributes to datetime\n",
    "bike_share_trip['Start Time'] = pd.to_datetime(bike_share_trip['Start Time'])\n",
    "bike_share_trip['End Time'] = pd.to_datetime(bike_share_trip['End Time'])"
   ]
  },
  {
   "cell_type": "code",
   "execution_count": 119,
   "metadata": {},
   "outputs": [
    {
     "data": {
      "text/plain": [
       "Bike ID                              float64\n",
       "Duration                               int64\n",
       "End Time                      datetime64[ns]\n",
       "Ending Station ID                    float64\n",
       "Ending Station Latitude              float64\n",
       "Ending Station Longitude             float64\n",
       "Passholder Type                       object\n",
       "Plan Duration                        float64\n",
       "Start Time                    datetime64[ns]\n",
       "Starting Station ID                  float64\n",
       "Starting Station Latitude            float64\n",
       "Starting Station Longitude           float64\n",
       "Trip ID                                int64\n",
       "Trip Route Category                   object\n",
       "dtype: object"
      ]
     },
     "execution_count": 119,
     "metadata": {},
     "output_type": "execute_result"
    }
   ],
   "source": [
    "#listing types of attributes\n",
    "bike_share_trip.dtypes"
   ]
  },
  {
   "cell_type": "markdown",
   "metadata": {},
   "source": [
    "As we see in the cell above, end time and start time represent dates now."
   ]
  },
  {
   "cell_type": "code",
   "execution_count": 120,
   "metadata": {},
   "outputs": [],
   "source": [
    "#extracting trip start times\n",
    "start_time = bike_share_trip['Start Time']\n",
    "#computing trips starting decimal hour\n",
    "trip_starting_hour = (start_time.dt.hour * 3600.0 + start_time.dt.minute * 60 + start_time.dt.second) / 3600"
   ]
  },
  {
   "cell_type": "markdown",
   "metadata": {},
   "source": [
    " Calculating hours according to Start time as a decimal value\n",
    " <ol type=\"I\">\n",
    "    <li><p>Number of seconds since the start of the day: seconds = hour &ast; 3600.0 + minute &ast; 60 + second </p></li>\n",
    "    <li>Hours as decimal number: seconds / 3600  </li>       \n",
    " </ol>"
   ]
  },
  {
   "cell_type": "markdown",
   "metadata": {},
   "source": [
    "<b>a)<b> Plot histogram for the duration attribute using descrete 1-hour intervals. What do you observer in the plot? What are some popular values?"
   ]
  },
  {
   "cell_type": "code",
   "execution_count": 121,
   "metadata": {
    "scrolled": false
   },
   "outputs": [
    {
     "data": {
      "text/plain": [
       "count    132427.000000\n",
       "mean       1555.301562\n",
       "std        5814.241813\n",
       "min          60.000000\n",
       "25%         360.000000\n",
       "50%         600.000000\n",
       "75%        1080.000000\n",
       "max       86400.000000\n",
       "Name: Duration, dtype: float64"
      ]
     },
     "execution_count": 121,
     "metadata": {},
     "output_type": "execute_result"
    }
   ],
   "source": [
    "#describe duration attribute\n",
    "bike_share_trip.Duration.describe()"
   ]
  },
  {
   "cell_type": "markdown",
   "metadata": {},
   "source": [
    "As we see, duration varies between 60 and 86400 seconds (1 minute and 24 hours respectively) and average duration is around 26 minutes. This is because trips below 1 mintes were removed from data and duration was capped at 24 hours."
   ]
  },
  {
   "cell_type": "code",
   "execution_count": 122,
   "metadata": {},
   "outputs": [
    {
     "data": {
      "text/plain": [
       "Text(0,0.5,'Number of Trips')"
      ]
     },
     "execution_count": 122,
     "metadata": {},
     "output_type": "execute_result"
    },
    {
     "data": {
      "image/png": "[encoded data removed]",
      "text/plain": [
       "<Figure size 1008x216 with 1 Axes>"
      ]
     },
     "metadata": {},
     "output_type": "display_data"
    }
   ],
   "source": [
    "#create histogram, devide duration by 3600. to get decimal hours \n",
    "duration_histogram = (bike_share_trip.Duration/3600.).plot(\n",
    "    title='Duration and Trip Starting Hour', kind='hist', bins=np.arange(0, 25, 1), grid=True, figsize=(14,3))\n",
    "duration_histogram.set_xlabel('Duration in Hours')\n",
    "duration_histogram.set_ylabel('Number of Trips')"
   ]
  },
  {
   "cell_type": "code",
   "execution_count": 123,
   "metadata": {},
   "outputs": [
    {
     "name": "stdout",
     "output_type": "stream",
     "text": [
      "Total Number of trips: 132427\n",
      "Number of trips lasting more than 5 hours: 1319\n",
      "Percentage:  0.9960204490020917 %\n"
     ]
    }
   ],
   "source": [
    "#count total number of trips\n",
    "trips_number = bike_share_trip.shape[0]\n",
    "#count number of trips that lasted more than 5 hours\n",
    "long_trips_number = bike_share_trip.query('Duration > 18000').shape[0]\n",
    "\n",
    "print('Total Number of trips:', trips_number)\n",
    "print('Number of trips lasting more than 5 hours:', long_trips_number)\n",
    "print('Percentage: ', long_trips_number*100/trips_number, '%')"
   ]
  },
  {
   "cell_type": "markdown",
   "metadata": {},
   "source": [
    "Durations greater than 5 hours rarely happen. There are only 1319 such occurances out of 132427 (around 1%). Additionaly, accroding to the website, trip lengths are capped at 24 hours and  long trips may be the result of system or user error. Therefore, number of trips that last longer than 5 hours are probably even less then the numbers we saw. <p>Still it would be interesting to have a closer look:</p>"
   ]
  },
  {
   "cell_type": "code",
   "execution_count": 124,
   "metadata": {},
   "outputs": [
    {
     "data": {
      "text/plain": [
       "Text(0,0.5,'Number of Trips')"
      ]
     },
     "execution_count": 124,
     "metadata": {},
     "output_type": "execute_result"
    },
    {
     "data": {
      "image/png": "[encoded data removed]",
      "text/plain": [
       "<Figure size 1008x216 with 1 Axes>"
      ]
     },
     "metadata": {},
     "output_type": "display_data"
    }
   ],
   "source": [
    "#trips that last more than 5 hours, duration given in hours\n",
    "long_lasting_trips = bike_share_trip.query('Duration > 18000')['Duration']/3600.\n",
    "#create histogram of long lasting trips\n",
    "long_duration_histogram = (bike_share_trip.Duration/3600.).plot(\n",
    "    kind='hist', bins=np.arange(5, 25, 1), title=\"Trips, Duration > 5 hrs\", grid=True, figsize=(14,3))\n",
    "long_duration_histogram.set_xlabel('Duration in Hours')\n",
    "long_duration_histogram.set_ylabel('Number of Trips')"
   ]
  },
  {
   "cell_type": "markdown",
   "metadata": {},
   "source": [
    "In the interval [5, 24] The most popular value is 24, which as mentioned above could be just a system or user error. So we could as well say that number of trips lasting longer than 5 hours gradually declines as duration increases.\n",
    "<p>Since, most of trips last less than five hours, we should have a close look at that interval of duration.</p>"
   ]
  },
  {
   "cell_type": "code",
   "execution_count": 125,
   "metadata": {},
   "outputs": [
    {
     "data": {
      "text/plain": [
       "Text(0,0.5,'Number of Trips')"
      ]
     },
     "execution_count": 125,
     "metadata": {},
     "output_type": "execute_result"
    },
    {
     "data": {
      "image/png": "[encoded data removed]",
      "text/plain": [
       "<Figure size 1008x360 with 1 Axes>"
      ]
     },
     "metadata": {},
     "output_type": "display_data"
    }
   ],
   "source": [
    "short_duration_histogram = (bike_share_trip.Duration/3600.).plot(\n",
    "    kind='hist', bins = [0, 1, 2, 3, 4, 5], title=\"Trips, Duration < 5 hrs\", grid=True, figsize=(14,5))\n",
    "short_duration_histogram.set_xlabel('Duration in Hours')\n",
    "short_duration_histogram.set_ylabel('Number of Trips')"
   ]
  },
  {
   "cell_type": "markdown",
   "metadata": {},
   "source": [
    "As we see the most popular value is less than one hour, (followed by (1,2] duration interval) meaning most of the people use shared bikes for short distances."
   ]
  },
  {
   "cell_type": "markdown",
   "metadata": {},
   "source": [
    "<b>b)<b> Plot histogram for trip starting hour in the day attribute using descrete 1-hour intervals. What do you observer in the plot? Explain the local maxima and the trends you observe on the trip starting hour plot based on human behavior"
   ]
  },
  {
   "cell_type": "code",
   "execution_count": 126,
   "metadata": {},
   "outputs": [
    {
     "data": {
      "text/plain": [
       "Text(0,0.5,'Number of Bikes')"
      ]
     },
     "execution_count": 126,
     "metadata": {},
     "output_type": "execute_result"
    },
    {
     "data": {
      "image/png": "[encoded data removed]",
      "text/plain": [
       "<Figure size 1008x360 with 1 Axes>"
      ]
     },
     "metadata": {},
     "output_type": "display_data"
    }
   ],
   "source": [
    "#plotting trip starting hours in histogram\n",
    "trip_starting_hour_hist = trip_starting_hour.plot(\n",
    "    title=\"Trip Starting Hour\", kind='hist', bins=np.arange(0, 25, 1), grid=True, figsize=(14,5))\n",
    "trip_starting_hour_hist.set_xlabel(\"Hour of the day\")\n",
    "trip_starting_hour_hist.set_ylabel(\"Number of Bikes\")"
   ]
  },
  {
   "cell_type": "markdown",
   "metadata": {},
   "source": [
    "According to the plot above, we have 3 clear local maxima:\n",
    "<ol type=\"i\">\n",
    "    <li>From 08:00 to 9:00 - Most of the people go to work/school/university around this time. Therefore, it is not surprising to see this range as a local maxima</li>\n",
    "    <li>From 12:00 to 13:00 - This time frame is associated with lunch break for most of the people. Probably, people take bikes to go to stores or cafes nearby, or run small errands during break.</li>\n",
    "    <li>From 17:00 to 18:00 - Global maxima, People return from home/school/university</li>\n",
    "</ol>\n",
    "\n",
    "Additionally, we can observe that at night usage of bicycle declines (from 18:00 to 05:00), since almost everyone is at home sleeping. Once that are out gradually return as well, with only few people using bikes between 04:00 and 05:00. We should also note that global maxima is timeframe between 17:00 and 18:00 when most of the people go home. \n"
   ]
  },
  {
   "cell_type": "markdown",
   "metadata": {},
   "source": [
    "<h3 align=\"center\"> B3.3 </h3> \n",
    "For each trip route category, calculate the proportion of trips by passholder type and present your results in a stacked bar chart with normalized height"
   ]
  },
  {
   "cell_type": "code",
   "execution_count": 127,
   "metadata": {
    "scrolled": true
   },
   "outputs": [
    {
     "data": {
      "text/html": [
       "<div>\n",
       "<style scoped>\n",
       "    .dataframe tbody tr th:only-of-type {\n",
       "        vertical-align: middle;\n",
       "    }\n",
       "\n",
       "    .dataframe tbody tr th {\n",
       "        vertical-align: top;\n",
       "    }\n",
       "\n",
       "    .dataframe thead th {\n",
       "        text-align: right;\n",
       "    }\n",
       "</style>\n",
       "<table border=\"1\" class=\"dataframe\">\n",
       "  <thead>\n",
       "    <tr style=\"text-align: right;\">\n",
       "      <th>Passholder Type</th>\n",
       "      <th>Flex Pass</th>\n",
       "      <th>Monthly Pass</th>\n",
       "      <th>Staff Annual</th>\n",
       "      <th>Walk-up</th>\n",
       "    </tr>\n",
       "    <tr>\n",
       "      <th>Trip Route Category</th>\n",
       "      <th></th>\n",
       "      <th></th>\n",
       "      <th></th>\n",
       "      <th></th>\n",
       "    </tr>\n",
       "  </thead>\n",
       "  <tbody>\n",
       "    <tr>\n",
       "      <th>One Way</th>\n",
       "      <td>9034</td>\n",
       "      <td>77532</td>\n",
       "      <td>299</td>\n",
       "      <td>32777</td>\n",
       "    </tr>\n",
       "    <tr>\n",
       "      <th>Round Trip</th>\n",
       "      <td>483</td>\n",
       "      <td>3772</td>\n",
       "      <td>83</td>\n",
       "      <td>8447</td>\n",
       "    </tr>\n",
       "  </tbody>\n",
       "</table>\n",
       "</div>"
      ],
      "text/plain": [
       "Passholder Type      Flex Pass  Monthly Pass  Staff Annual  Walk-up\n",
       "Trip Route Category                                                \n",
       "One Way                   9034         77532           299    32777\n",
       "Round Trip                 483          3772            83     8447"
      ]
     },
     "execution_count": 127,
     "metadata": {},
     "output_type": "execute_result"
    }
   ],
   "source": [
    "#Group trips according to route category and passholder type and count how many trips are in each group\n",
    "trip_grouped_by_route_pass = bike_share_trip.groupby(['Trip Route Category', 'Passholder Type']).size()\n",
    "#Unstacked grouping\n",
    "trip_grouped_by_route_pass.unstack()"
   ]
  },
  {
   "cell_type": "markdown",
   "metadata": {},
   "source": [
    "<p>To calculate the proportion of trips by passholder type for each category, first we need to identify number of trips by passholder type for each category. That is why we group our data by these two attributes and then extract size of each group. In resulting data frame we can observer number of trips for each combination of passholder type and trip route category.</p>"
   ]
  },
  {
   "cell_type": "code",
   "execution_count": 128,
   "metadata": {},
   "outputs": [
    {
     "data": {
      "text/plain": [
       "<matplotlib.legend.Legend at 0x2538b25ab00>"
      ]
     },
     "execution_count": 128,
     "metadata": {},
     "output_type": "execute_result"
    },
    {
     "data": {
      "image/png": "[encoded data removed]",
      "text/plain": [
       "<Figure size 1008x360 with 1 Axes>"
      ]
     },
     "metadata": {},
     "output_type": "display_data"
    }
   ],
   "source": [
    "#calculate proportion of trips by passholder type for each category\n",
    "bike_grouped_proportion = trip_grouped_by_route_pass.groupby(level=0).apply(lambda x:\n",
    "                                                 x / float(x.sum()))\n",
    "\n",
    "#creating bar chart with normalized heights\n",
    "bike_grouped_proportion_plot = bike_grouped_proportion.unstack().plot(\n",
    "    title='Proportion of Trips by Passholder Type for each Category,', kind='bar', stacked=True, figsize=(14,5))\n",
    "#setting label on y axis\n",
    "bike_grouped_proportion_plot.set_ylabel(\"Proportion\")\n",
    "#moving legend to the side\n",
    "bike_grouped_proportion_plot.legend(bbox_to_anchor=(1.2, 1))"
   ]
  },
  {
   "cell_type": "markdown",
   "metadata": {},
   "source": [
    "In order to calculate proportion of Trips by passholder type for each route category, we divided number of trips for each passholder type for that category by the total number of trips of the category. Afterwards presented results in bar charts with normalized heights."
   ]
  },
  {
   "cell_type": "markdown",
   "metadata": {},
   "source": [
    "<h3 align=\"center\"> B3.4 </h3> \n",
    "Considering only trips that begin in the morning hours (before noon), plot in a single bar chart the proportion of trips by passholder type and trip route category. Explain any outliers you observe"
   ]
  },
  {
   "cell_type": "markdown",
   "metadata": {},
   "source": [
    "<p>First step in order to plot proportion of early trips by passholder type and trip route category is extracting trips, \n",
    "that started before noon, from dataset. As soon as we have these \"early\" trips, we group them by passholder type and trip route\n",
    "category. Afterwards we determine size of each group. Resulting data frame will give us information about size of each group (pair of route category and passholder type) \n",
    "considering early trips only. </p>"
   ]
  },
  {
   "cell_type": "code",
   "execution_count": 129,
   "metadata": {},
   "outputs": [
    {
     "name": "stdout",
     "output_type": "stream",
     "text": [
      "Trip Route Category  Passholder Type\n",
      "One Way              Flex Pass           2653\n",
      "                     Monthly Pass       24570\n",
      "                     Staff Annual          97\n",
      "                     Walk-up             7510\n",
      "Round Trip           Flex Pass            126\n",
      "                     Monthly Pass        1056\n",
      "                     Staff Annual          39\n",
      "                     Walk-up             2129\n",
      "dtype: int64\n"
     ]
    }
   ],
   "source": [
    "#Extracting trips, that started before noon\n",
    "morning_trips = bike_share_trip.loc[bike_share_trip['Start Time'].dt.hour < 12]\n",
    "#Size of morning trip groups by route category and passholder type\n",
    "grouped_morning_trips = morning_trips.groupby(['Trip Route Category', 'Passholder Type']).size()\n",
    "print(grouped_morning_trips)"
   ]
  },
  {
   "cell_type": "code",
   "execution_count": 130,
   "metadata": {
    "scrolled": true
   },
   "outputs": [
    {
     "name": "stdout",
     "output_type": "stream",
     "text": [
      "Trip Route Category  Passholder Type\n",
      "One Way              Flex Pass          0.069487\n",
      "                     Monthly Pass       0.643531\n",
      "                     Staff Annual       0.002541\n",
      "                     Walk-up            0.196700\n",
      "Round Trip           Flex Pass          0.003300\n",
      "                     Monthly Pass       0.027658\n",
      "                     Staff Annual       0.001021\n",
      "                     Walk-up            0.055762\n",
      "dtype: float64\n"
     ]
    }
   ],
   "source": [
    "#compute proportion of trips of each groups with respect to total number of trips\n",
    "grouped_morning_trips_proportion = grouped_morning_trips / morning_trips.shape[0]\n",
    "#print resulting Serie\n",
    "print(grouped_morning_trips_proportion)"
   ]
  },
  {
   "cell_type": "markdown",
   "metadata": {},
   "source": [
    "<p>Above we calculated proportion of trips of every group with respect to total number of trips.</p>\n",
    "<p>Now we will plot resulting Serie.</p>"
   ]
  },
  {
   "cell_type": "code",
   "execution_count": 131,
   "metadata": {},
   "outputs": [
    {
     "data": {
      "text/plain": [
       "<matplotlib.axes._subplots.AxesSubplot at 0x2538e5bfe80>"
      ]
     },
     "execution_count": 131,
     "metadata": {},
     "output_type": "execute_result"
    },
    {
     "data": {
      "image/png": "[encoded data removed]",
      "text/plain": [
       "<Figure size 1008x288 with 1 Axes>"
      ]
     },
     "metadata": {},
     "output_type": "display_data"
    }
   ],
   "source": [
    "#plot bar chart for proportions \n",
    "grouped_morning_trips.plot(\n",
    "    title='Proportion of Trips by Passholder Type and Trip Route Category', kind='bar', figsize=(14,4))\n",
    "#moving legend to the side"
   ]
  },
  {
   "cell_type": "markdown",
   "metadata": {},
   "source": [
    "As we see most of the \"early\" (before noon) trips are taken by people with monthly pass doing one way route. Number of trips for this group is considerebely higher than for any other. Additionally, number of round trips with Walk-up pass type (no pass) is surprisingly high compared to other groups that consider round trips as well. "
   ]
  },
  {
   "cell_type": "markdown",
   "metadata": {},
   "source": [
    "<h3 align=\"center\"> B3.5 </h3> \n",
    "Separate the hours of the day into two intervals that have (approximately) the same number of bikes leaving the stations. For each of the two intervals calculate the proportion of trips by passholder type and trip route category. Present your results in a DataFrame which has a unique, non-composite index. Does the proportion of trips depend on whether it is the first or second hour interval? Would the company have any significant benefit by creating a more complex paying scheme where monthly pass users would pay less in the first interval and (equally) more on the second one? Assume that the number of trips per interval will not change if the scheme changes."
   ]
  },
  {
   "cell_type": "code",
   "execution_count": 132,
   "metadata": {},
   "outputs": [
    {
     "name": "stdout",
     "output_type": "stream",
     "text": [
      "Median of Trip Starting Hours: 14.966666666666667\n"
     ]
    }
   ],
   "source": [
    "#Find Median For Start Hour of the trip\n",
    "median = trip_starting_hour.median()\n",
    "print(\"Median of Trip Starting Hours:\", median)"
   ]
  },
  {
   "cell_type": "markdown",
   "metadata": {},
   "source": [
    "But since we are searching for an hour of the day we need to choose between 14 and 15, since they are two closest Integers to real median. Let's check proportion of splits in case of 14 and 15:"
   ]
  },
  {
   "cell_type": "code",
   "execution_count": 133,
   "metadata": {},
   "outputs": [],
   "source": [
    "#methos identifies if trip started before median value or not\n",
    "#input parameters: median, index (index of trip in dataframe)\n",
    "#output parameters: 'First Interval' if trip started before median time, 'Second Interval' otherwise\n",
    "#method uses trip_starting_hour series, that contains decimal hours for each row(trip) of the database\n",
    "def before_median(median, index):\n",
    "    if (trip_starting_hour[index] < median):\n",
    "        return 'First Interval'\n",
    "    return 'Second Interval'"
   ]
  },
  {
   "cell_type": "code",
   "execution_count": 134,
   "metadata": {},
   "outputs": [],
   "source": [
    "#group data according to median = 14 and 15, count size of each group\n",
    "first_median_split = bike_share_trip.groupby(lambda x: before_median(14, x)).size()\n",
    "second_median_split = bike_share_trip.groupby(lambda x: before_median(15, x)).size()"
   ]
  },
  {
   "cell_type": "code",
   "execution_count": 135,
   "metadata": {},
   "outputs": [
    {
     "name": "stdout",
     "output_type": "stream",
     "text": [
      "Median = 14, Split Proportion = 1.2838935550075021\n",
      "Median = 15, Split Proportion = 0.9920724461091807\n"
     ]
    }
   ],
   "source": [
    "#determine split proportion\n",
    "print(\"Median = 14, Split Proportion =\", first_median_split['Second Interval']/first_median_split['First Interval'])\n",
    "print(\"Median = 15, Split Proportion =\", second_median_split['Second Interval']/second_median_split['First Interval'])"
   ]
  },
  {
   "cell_type": "markdown",
   "metadata": {},
   "source": [
    "<p>Since proportion of split in case of Median = 15 is closer to one, we will consider 15 as our median and calculate \n",
    "    proportion of trips by passholder type and trip route category for each split. </p>"
   ]
  },
  {
   "cell_type": "code",
   "execution_count": 136,
   "metadata": {},
   "outputs": [
    {
     "data": {
      "text/plain": [
       "                 Passholder Type  Trip Route Category\n",
       "First Interval   Flex Pass        One Way                 4619\n",
       "                                  Round Trip               268\n",
       "                 Monthly Pass     One Way                39362\n",
       "                                  Round Trip              2067\n",
       "                 Staff Annual     One Way                  183\n",
       "                                  Round Trip                59\n",
       "                 Walk-up          One Way                15733\n",
       "                                  Round Trip              4186\n",
       "Second Interval  Flex Pass        One Way                 4415\n",
       "                                  Round Trip               215\n",
       "                 Monthly Pass     One Way                38170\n",
       "                                  Round Trip              1705\n",
       "                 Staff Annual     One Way                  116\n",
       "                                  Round Trip                24\n",
       "                 Walk-up          One Way                17044\n",
       "                                  Round Trip              4261\n",
       "dtype: int64"
      ]
     },
     "execution_count": 136,
     "metadata": {},
     "output_type": "execute_result"
    }
   ],
   "source": [
    "#group trips by interval of the day(before or after median), Passholder type and Route Category \n",
    "#And determine number of trips for each group (16 in total)\n",
    "trips_grouped_interval = bike_share_trip.groupby([lambda x: before_median(15, x), 'Passholder Type', 'Trip Route Category']).size() \n",
    "trips_grouped_interval"
   ]
  },
  {
   "cell_type": "markdown",
   "metadata": {},
   "source": [
    "<p>We grouped trip data according to the interval of the day(before or after median), Passholder Type and Trip Route Category.\n",
    "Resulting Serie displays number of trips for each group</p>\n",
    "<p> Now let's compute proportion of groups for each day interval"
   ]
  },
  {
   "cell_type": "code",
   "execution_count": 137,
   "metadata": {},
   "outputs": [
    {
     "data": {
      "text/plain": [
       "                 Passholder Type  Trip Route Category\n",
       "First Interval   Flex Pass        One Way                0.069483\n",
       "                                  Round Trip             0.004031\n",
       "                 Monthly Pass     One Way                0.592115\n",
       "                                  Round Trip             0.031093\n",
       "                 Staff Annual     One Way                0.002753\n",
       "                                  Round Trip             0.000888\n",
       "                 Walk-up          One Way                0.236668\n",
       "                                  Round Trip             0.062969\n",
       "Second Interval  Flex Pass        One Way                0.066945\n",
       "                                  Round Trip             0.003260\n",
       "                 Monthly Pass     One Way                0.578772\n",
       "                                  Round Trip             0.025853\n",
       "                 Staff Annual     One Way                0.001759\n",
       "                                  Round Trip             0.000364\n",
       "                 Walk-up          One Way                0.258438\n",
       "                                  Round Trip             0.064610\n",
       "dtype: float64"
      ]
     },
     "execution_count": 137,
     "metadata": {},
     "output_type": "execute_result"
    }
   ],
   "source": [
    "#determining proportion of trips grouped by passholder type and trip route category for each trip\n",
    "trips_grouped_interval_proportion = trips_grouped_interval.groupby(level=0).apply(lambda x:\n",
    "                                                 x / float(x.sum()))\n",
    "#groups_proportion.set_index('Start Time')\n",
    "trips_grouped_interval_proportion"
   ]
  },
  {
   "cell_type": "markdown",
   "metadata": {},
   "source": [
    "<p>No we will convert the Serie into dataframe with unique, non-composite index</p>"
   ]
  },
  {
   "cell_type": "code",
   "execution_count": 138,
   "metadata": {
    "scrolled": true
   },
   "outputs": [
    {
     "name": "stdout",
     "output_type": "stream",
     "text": [
      "Index:  RangeIndex(start=0, stop=16, step=1) \n",
      "\n"
     ]
    },
    {
     "data": {
      "text/html": [
       "<div>\n",
       "<style scoped>\n",
       "    .dataframe tbody tr th:only-of-type {\n",
       "        vertical-align: middle;\n",
       "    }\n",
       "\n",
       "    .dataframe tbody tr th {\n",
       "        vertical-align: top;\n",
       "    }\n",
       "\n",
       "    .dataframe thead th {\n",
       "        text-align: right;\n",
       "    }\n",
       "</style>\n",
       "<table border=\"1\" class=\"dataframe\">\n",
       "  <thead>\n",
       "    <tr style=\"text-align: right;\">\n",
       "      <th></th>\n",
       "      <th>level_0</th>\n",
       "      <th>Passholder Type</th>\n",
       "      <th>Trip Route Category</th>\n",
       "      <th>0</th>\n",
       "    </tr>\n",
       "  </thead>\n",
       "  <tbody>\n",
       "    <tr>\n",
       "      <th>0</th>\n",
       "      <td>First Interval</td>\n",
       "      <td>Flex Pass</td>\n",
       "      <td>One Way</td>\n",
       "      <td>0.069483</td>\n",
       "    </tr>\n",
       "    <tr>\n",
       "      <th>1</th>\n",
       "      <td>First Interval</td>\n",
       "      <td>Flex Pass</td>\n",
       "      <td>Round Trip</td>\n",
       "      <td>0.004031</td>\n",
       "    </tr>\n",
       "    <tr>\n",
       "      <th>2</th>\n",
       "      <td>First Interval</td>\n",
       "      <td>Monthly Pass</td>\n",
       "      <td>One Way</td>\n",
       "      <td>0.592115</td>\n",
       "    </tr>\n",
       "    <tr>\n",
       "      <th>3</th>\n",
       "      <td>First Interval</td>\n",
       "      <td>Monthly Pass</td>\n",
       "      <td>Round Trip</td>\n",
       "      <td>0.031093</td>\n",
       "    </tr>\n",
       "    <tr>\n",
       "      <th>4</th>\n",
       "      <td>First Interval</td>\n",
       "      <td>Staff Annual</td>\n",
       "      <td>One Way</td>\n",
       "      <td>0.002753</td>\n",
       "    </tr>\n",
       "  </tbody>\n",
       "</table>\n",
       "</div>"
      ],
      "text/plain": [
       "          level_0 Passholder Type Trip Route Category         0\n",
       "0  First Interval       Flex Pass             One Way  0.069483\n",
       "1  First Interval       Flex Pass          Round Trip  0.004031\n",
       "2  First Interval    Monthly Pass             One Way  0.592115\n",
       "3  First Interval    Monthly Pass          Round Trip  0.031093\n",
       "4  First Interval    Staff Annual             One Way  0.002753"
      ]
     },
     "execution_count": 138,
     "metadata": {},
     "output_type": "execute_result"
    }
   ],
   "source": [
    "#Convert Series into Data Frame\n",
    "df_trips_grouped_interval_proportion = trips_grouped_interval_proportion.to_frame()\n",
    "#Reset index\n",
    "df_trips_grouped_interval_proportion.reset_index(inplace=True)\n",
    "#print index of data frame\n",
    "print(\"Index: \", df_trips_grouped_interval_proportion.index, '\\n')\n",
    "#display first few rows of grouped trips\n",
    "df_trips_grouped_interval_proportion.head()"
   ]
  },
  {
   "cell_type": "markdown",
   "metadata": {},
   "source": [
    "As we see, index is now non-composite. We just need to rename some of the attributes:"
   ]
  },
  {
   "cell_type": "code",
   "execution_count": 139,
   "metadata": {},
   "outputs": [
    {
     "data": {
      "text/html": [
       "<div>\n",
       "<style scoped>\n",
       "    .dataframe tbody tr th:only-of-type {\n",
       "        vertical-align: middle;\n",
       "    }\n",
       "\n",
       "    .dataframe tbody tr th {\n",
       "        vertical-align: top;\n",
       "    }\n",
       "\n",
       "    .dataframe thead th {\n",
       "        text-align: right;\n",
       "    }\n",
       "</style>\n",
       "<table border=\"1\" class=\"dataframe\">\n",
       "  <thead>\n",
       "    <tr style=\"text-align: right;\">\n",
       "      <th></th>\n",
       "      <th>Interval</th>\n",
       "      <th>Passholder Type</th>\n",
       "      <th>Trip Route Category</th>\n",
       "      <th>Proportion</th>\n",
       "    </tr>\n",
       "  </thead>\n",
       "  <tbody>\n",
       "    <tr>\n",
       "      <th>0</th>\n",
       "      <td>First Interval</td>\n",
       "      <td>Flex Pass</td>\n",
       "      <td>One Way</td>\n",
       "      <td>0.069483</td>\n",
       "    </tr>\n",
       "    <tr>\n",
       "      <th>1</th>\n",
       "      <td>First Interval</td>\n",
       "      <td>Flex Pass</td>\n",
       "      <td>Round Trip</td>\n",
       "      <td>0.004031</td>\n",
       "    </tr>\n",
       "    <tr>\n",
       "      <th>2</th>\n",
       "      <td>First Interval</td>\n",
       "      <td>Monthly Pass</td>\n",
       "      <td>One Way</td>\n",
       "      <td>0.592115</td>\n",
       "    </tr>\n",
       "    <tr>\n",
       "      <th>3</th>\n",
       "      <td>First Interval</td>\n",
       "      <td>Monthly Pass</td>\n",
       "      <td>Round Trip</td>\n",
       "      <td>0.031093</td>\n",
       "    </tr>\n",
       "    <tr>\n",
       "      <th>4</th>\n",
       "      <td>First Interval</td>\n",
       "      <td>Staff Annual</td>\n",
       "      <td>One Way</td>\n",
       "      <td>0.002753</td>\n",
       "    </tr>\n",
       "    <tr>\n",
       "      <th>5</th>\n",
       "      <td>First Interval</td>\n",
       "      <td>Staff Annual</td>\n",
       "      <td>Round Trip</td>\n",
       "      <td>0.000888</td>\n",
       "    </tr>\n",
       "    <tr>\n",
       "      <th>6</th>\n",
       "      <td>First Interval</td>\n",
       "      <td>Walk-up</td>\n",
       "      <td>One Way</td>\n",
       "      <td>0.236668</td>\n",
       "    </tr>\n",
       "    <tr>\n",
       "      <th>7</th>\n",
       "      <td>First Interval</td>\n",
       "      <td>Walk-up</td>\n",
       "      <td>Round Trip</td>\n",
       "      <td>0.062969</td>\n",
       "    </tr>\n",
       "    <tr>\n",
       "      <th>8</th>\n",
       "      <td>Second Interval</td>\n",
       "      <td>Flex Pass</td>\n",
       "      <td>One Way</td>\n",
       "      <td>0.066945</td>\n",
       "    </tr>\n",
       "    <tr>\n",
       "      <th>9</th>\n",
       "      <td>Second Interval</td>\n",
       "      <td>Flex Pass</td>\n",
       "      <td>Round Trip</td>\n",
       "      <td>0.003260</td>\n",
       "    </tr>\n",
       "    <tr>\n",
       "      <th>10</th>\n",
       "      <td>Second Interval</td>\n",
       "      <td>Monthly Pass</td>\n",
       "      <td>One Way</td>\n",
       "      <td>0.578772</td>\n",
       "    </tr>\n",
       "    <tr>\n",
       "      <th>11</th>\n",
       "      <td>Second Interval</td>\n",
       "      <td>Monthly Pass</td>\n",
       "      <td>Round Trip</td>\n",
       "      <td>0.025853</td>\n",
       "    </tr>\n",
       "    <tr>\n",
       "      <th>12</th>\n",
       "      <td>Second Interval</td>\n",
       "      <td>Staff Annual</td>\n",
       "      <td>One Way</td>\n",
       "      <td>0.001759</td>\n",
       "    </tr>\n",
       "    <tr>\n",
       "      <th>13</th>\n",
       "      <td>Second Interval</td>\n",
       "      <td>Staff Annual</td>\n",
       "      <td>Round Trip</td>\n",
       "      <td>0.000364</td>\n",
       "    </tr>\n",
       "    <tr>\n",
       "      <th>14</th>\n",
       "      <td>Second Interval</td>\n",
       "      <td>Walk-up</td>\n",
       "      <td>One Way</td>\n",
       "      <td>0.258438</td>\n",
       "    </tr>\n",
       "    <tr>\n",
       "      <th>15</th>\n",
       "      <td>Second Interval</td>\n",
       "      <td>Walk-up</td>\n",
       "      <td>Round Trip</td>\n",
       "      <td>0.064610</td>\n",
       "    </tr>\n",
       "  </tbody>\n",
       "</table>\n",
       "</div>"
      ],
      "text/plain": [
       "           Interval Passholder Type Trip Route Category  Proportion\n",
       "0    First Interval       Flex Pass             One Way    0.069483\n",
       "1    First Interval       Flex Pass          Round Trip    0.004031\n",
       "2    First Interval    Monthly Pass             One Way    0.592115\n",
       "3    First Interval    Monthly Pass          Round Trip    0.031093\n",
       "4    First Interval    Staff Annual             One Way    0.002753\n",
       "5    First Interval    Staff Annual          Round Trip    0.000888\n",
       "6    First Interval         Walk-up             One Way    0.236668\n",
       "7    First Interval         Walk-up          Round Trip    0.062969\n",
       "8   Second Interval       Flex Pass             One Way    0.066945\n",
       "9   Second Interval       Flex Pass          Round Trip    0.003260\n",
       "10  Second Interval    Monthly Pass             One Way    0.578772\n",
       "11  Second Interval    Monthly Pass          Round Trip    0.025853\n",
       "12  Second Interval    Staff Annual             One Way    0.001759\n",
       "13  Second Interval    Staff Annual          Round Trip    0.000364\n",
       "14  Second Interval         Walk-up             One Way    0.258438\n",
       "15  Second Interval         Walk-up          Round Trip    0.064610"
      ]
     },
     "execution_count": 139,
     "metadata": {},
     "output_type": "execute_result"
    }
   ],
   "source": [
    "#renaming attributes\n",
    "df_trips_grouped_interval_proportion.rename(\n",
    "    columns={'level_0': 'Interval', 0 : 'Proportion'}, inplace=True)\n",
    "#displaying first few rows of grouped trips\n",
    "df_trips_grouped_interval_proportion"
   ]
  },
  {
   "cell_type": "code",
   "execution_count": 140,
   "metadata": {},
   "outputs": [
    {
     "name": "stdout",
     "output_type": "stream",
     "text": [
      "Index is unique: True\n"
     ]
    }
   ],
   "source": [
    "#check if index is unique\n",
    "print(\"Index is unique:\", df_trips_grouped_interval_proportion.index.is_unique)"
   ]
  },
  {
   "cell_type": "markdown",
   "metadata": {},
   "source": [
    "Does the proportion of trips depend on whether it is the first or second hour interval? Would the company have any significant benefit by creating a more complex paying scheme where monthly pass users would pay less in the first interval and (equally) more on the second one? Assume that the number of trips per interval will not change if the scheme changes."
   ]
  },
  {
   "cell_type": "markdown",
   "metadata": {},
   "source": [
    "Proportion of trips in most cases does not really depend on hour interval, there are slightly more one way trips with flex pass than in the first interval compared to the second interval for example. Most of the differences however are small, therefore it is very unlikely for company to see any significant benefit by creating a more complex paying scheme."
   ]
  }
 ],
 "metadata": {
  "kernelspec": {
   "display_name": "Python 3",
   "language": "python",
   "name": "python3"
  },
  "language_info": {
   "codemirror_mode": {
    "name": "ipython",
    "version": 3
   },
   "file_extension": ".py",
   "mimetype": "text/x-python",
   "name": "python",
   "nbconvert_exporter": "python",
   "pygments_lexer": "ipython3",
   "version": "3.6.5"
  }
 },
 "nbformat": 4,
 "nbformat_minor": 2
}
