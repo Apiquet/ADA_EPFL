{
 "cells": [
  {
   "cell_type": "markdown",
   "metadata": {},
   "source": [
    "# Exercise 1\n",
    " <p><div class=\"lev1\"><a href=\"#Task-A.-Another-LEGO-brick-in-the-wall\"><span class=\"toc-item-num\">Task A.&nbsp;&nbsp;</span>Another LEGO brick in the wall</a></div>\n",
    " <p><div class=\"lev1\"><a href=\"#Task-B.-Drop-the-Bike\"><span class=\"toc-item-num\">Task B.&nbsp;&nbsp;</span>Drop the Bike</a></div>"
   ]
  },
  {
   "cell_type": "code",
   "execution_count": 10,
   "metadata": {},
   "outputs": [],
   "source": [
    "%matplotlib inline\n",
    "import pandas as pd\n",
    "import numpy as np\n",
    "import matplotlib.pyplot as plt\n",
    "import seaborn as sns"
   ]
  },
  {
   "cell_type": "code",
   "execution_count": 11,
   "metadata": {},
   "outputs": [],
   "source": [
    "DATA_FOLDER = r'C:\\Users\\antho\\Documents\\GitHub\\ADA_EPFL\\ADA2018-Homework-master\\01 - Pandas and Data Wrangling\\data'"
   ]
  },
  {
   "cell_type": "markdown",
   "metadata": {},
   "source": [
    "## Task A. Another LEGO brick in the wall\n",
    "\n",
    "LEGO is a popular brand of toy building bricks. They are often sold in sets in order to build a specific object. Each set contains a number of parts in different shapes, sizes and colors. This database contains information on which parts are included in different LEGO sets. It was originally compiled to help people who owned some LEGO sets already figure out what other sets they could build with the pieces they had.\n",
    "\n",
    "This dataset contains the official LEGO colors, parts, inventories (i.e., sets of LEGO parts which assembled create an object in the LEGO world) and sets (i.e., sets of LEGO inventories which assembled create a LEGO ecosystem). The schema of the dataset can be shown in the following UML diagram: \n",
    "\n",
    "![lego-schema](lego-schema.png)\n",
    "\n",
    "In this task you have to apply the following Data Wrangling pipeline:\n",
    "1. Load your data into `Pandas`\n",
    "* Explore it and clean its dirty parts\n",
    "* Use it to answer a set of queries\n",
    "\n",
    "Each of these subtasks are described in detail below."
   ]
  },
  {
   "cell_type": "markdown",
   "metadata": {},
   "source": [
    "### A1. Loading phase\n",
    "Load all the csv files into different `DataFrames`. Use meaningful names for your `DataFrames` (e.g., the respective filenames).\n",
    "\n",
    "*Hint: You can load files without first unzipping them (for `Pandas` version >= 0.18.1).*"
   ]
  },
  {
   "cell_type": "code",
   "execution_count": 12,
   "metadata": {},
   "outputs": [],
   "source": [
    "LEGO_DATA_FOLDER = DATA_FOLDER + '/lego'"
   ]
  },
  {
   "cell_type": "code",
   "execution_count": 13,
   "metadata": {},
   "outputs": [],
   "source": [
    "#Data declarations\n",
    "sets = pd.read_csv(LEGO_DATA_FOLDER + \"/sets.csv.zip\")\n",
    "colors = pd.read_csv(LEGO_DATA_FOLDER + \"/colors.csv.zip\")\n",
    "inventories = pd.read_csv(LEGO_DATA_FOLDER + \"/inventories.csv.zip\")\n",
    "inventory_parts = pd.read_csv(LEGO_DATA_FOLDER + \"/inventory_parts.csv.zip\")\n",
    "inventory_sets = pd.read_csv(LEGO_DATA_FOLDER + \"/inventory_sets.csv.zip\")\n",
    "part_categories = pd.read_csv(LEGO_DATA_FOLDER + \"/part_categories.csv.zip\")\n",
    "parts = pd.read_csv(LEGO_DATA_FOLDER + \"/parts.csv.zip\")\n",
    "themes = pd.read_csv(LEGO_DATA_FOLDER + \"/themes.csv.zip\")"
   ]
  },
  {
   "cell_type": "markdown",
   "metadata": {},
   "source": [
    "### A2. Cleaning phase\n",
    "Explore the following columns from your dataset:\n",
    "\n",
    "1. sets: year\n",
    "* inventory_parts: quantity\n",
    "\n",
    "What is the time range of the sets? \n",
    "What is the average quantity of the inventory parts? \n",
    "Do you see any inconsistencies? \n",
    "Provide code that detects and cleans such inconsistencies and validates the coherence of your dataset. "
   ]
  },
  {
   "cell_type": "code",
   "execution_count": 14,
   "metadata": {},
   "outputs": [
    {
     "data": {
      "text/plain": [
       "0     70s\n",
       "1    1978\n",
       "2    1987\n",
       "3    1979\n",
       "4    1979\n",
       "Name: year, dtype: object"
      ]
     },
     "execution_count": 14,
     "metadata": {},
     "output_type": "execute_result"
    }
   ],
   "source": [
    "#print first few rows of year column\n",
    "sets.year.head()"
   ]
  },
  {
   "cell_type": "code",
   "execution_count": 15,
   "metadata": {
    "scrolled": true
   },
   "outputs": [
    {
     "data": {
      "text/plain": [
       "array(['70s', '1978', '1987', '1979', '19788', '1976', '1965', '1985',\n",
       "       '1968', '1999', '1967', '1969', '2001', '20011', '1966', '2003',\n",
       "       '2002', '20022', '-2003', '20033', '-2002', '20044', '2004',\n",
       "       '2006', '20055', '2005', '-2004', '-2006', '-2010', '-2005',\n",
       "       '20066', '2007', '20077', '2008', '20088', '-2009', '2009',\n",
       "       '20099', '2010', '20100', '-2011', '2011', '20111', '2012',\n",
       "       '20122', '-2013', '2013', '20133', '20144', '-20144', '2015',\n",
       "       '2014', '-2014', '20155', '-2015', '2016', '20166', '-2016',\n",
       "       '2017', '1977', '1983', '1986', '1984', '1973', '-2012', '-20155',\n",
       "       '1981', '-2000', '80s', '1982', '1988', '20177', '-2017', '-1999',\n",
       "       '19999', '-1986', '1997', '1998', '1971', '-1966', '-1977',\n",
       "       '-1981', '-1985', '20000', '2000', '-20000', '1955', '1956',\n",
       "       '1957', '-1982', '-1969', '19822', '19555', '1958', '-2001',\n",
       "       '1974', '1972', '19988', '-1998', '19877', '19855', '19777',\n",
       "       '1975', '-1987', '-1979', '1992', '1991', '-1991', '1989', '1990',\n",
       "       '1993', '-1992', '-1989', '1994', '19944', '-1994', '1996',\n",
       "       '19899', '19900', '19922', '1995', '-1995', '19966', '-1997',\n",
       "       '19722', '19955', '19933', '1959', '1962', '-2008', '-20122',\n",
       "       '1961', '19977', '1960', '1963', '1964', '19666', '-1975',\n",
       "       '-20133', '-19999', '-20033', '-1973', '-1980', '-1984', '-1971',\n",
       "       '-2007', '-20077', '-20166', '-20011', '-20022', '19799', '19911',\n",
       "       '-20044', '19622', '-1962', '-19977', '19844', '-20099', '19866',\n",
       "       '-1993', '-1996', '-1983', '-1988', '-20066', '19888', '1950',\n",
       "       '1953', '1954', '19811', '19800', '19833', '-20100', '-20111',\n",
       "       '19699'], dtype=object)"
      ]
     },
     "execution_count": 15,
     "metadata": {},
     "output_type": "execute_result"
    }
   ],
   "source": [
    "#identify unique year values\n",
    "sets.year.unique()"
   ]
  },
  {
   "cell_type": "markdown",
   "metadata": {},
   "source": [
    "<u><b><font color='green'>ANSWERS:</font></b></u><br><br>\n",
    "\n",
    "As we see, there are some invalid year entries in sets dataset. For example, there are some negative years and 5 digit years. As well as entries like 70s and 80s instead of 1970 and 1980"
   ]
  },
  {
   "cell_type": "code",
   "execution_count": 16,
   "metadata": {},
   "outputs": [
    {
     "name": "stderr",
     "output_type": "stream",
     "text": [
      "C:\\Users\\antho\\Anaconda3\\lib\\site-packages\\ipykernel_launcher.py:9: SettingWithCopyWarning: \n",
      "A value is trying to be set on a copy of a slice from a DataFrame\n",
      "\n",
      "See the caveats in the documentation: http://pandas.pydata.org/pandas-docs/stable/indexing.html#indexing-view-versus-copy\n",
      "  if __name__ == '__main__':\n"
     ]
    },
    {
     "data": {
      "text/plain": [
       "array([1970, 1978, 1987, 1979, 1976, 1965, 1985, 1968, 1999, 1967, 1969,\n",
       "       2001, 1966, 2003, 2002, 2004, 2006, 2005, 2010, 2007, 2008, 2009,\n",
       "       2011, 2012, 2013, 2014, 2015, 2016, 2017, 1977, 1983, 1986, 1984,\n",
       "       1973, 1981, 2000, 1980, 1982, 1988, 1997, 1998, 1971, 1955, 1956,\n",
       "       1957, 1958, 1974, 1972, 1975, 1992, 1991, 1989, 1990, 1993, 1994,\n",
       "       1996, 1995, 1959, 1962, 1961, 1960, 1963, 1964, 1950, 1953, 1954],\n",
       "      dtype=int64)"
      ]
     },
     "execution_count": 16,
     "metadata": {},
     "output_type": "execute_result"
    }
   ],
   "source": [
    "#replacing 70s and 80s to 1970 and 1980\n",
    "sets.replace(to_replace='70s',value='1970', inplace=True)\n",
    "sets.replace(to_replace='80s',value='1980',inplace=True)\n",
    "sets.year = sets.year.astype(int)\n",
    "#taking absolute value\n",
    "sets.year = abs(sets.year)\n",
    "#fixing typing error for 5 digits numbers, example: 19555//10 = 1955\n",
    "sets.year[sets['year'].astype(str).str.len() == 5] = sets.year[sets['year'].astype(str).str.len() == 5]//10\n",
    "'''\n",
    "unionA = sets.loc[:,\"year\" ].copy() \n",
    "unionA[unionA > 0] = 0\n",
    "unionA = unionA*(-1)\n",
    "unionB = sets.loc[:,\"year\" ].copy()\n",
    "unionB[unionB < 0] = 0\n",
    "\n",
    "year = unionB + unionA\n",
    "\n",
    "u0 = year.copy()\n",
    "u1 = year.copy()\n",
    "u0[u0 < 10000] = 0\n",
    "u1[u1 > 10000] = 0\n",
    "u0 = u0//10\n",
    "\n",
    "c_year = u0 + u1 \n",
    "\n",
    "sets.year = c_year\n",
    "'''\n",
    "sets.year.unique()"
   ]
  },
  {
   "cell_type": "code",
   "execution_count": 247,
   "metadata": {},
   "outputs": [
    {
     "data": {
      "text/plain": [
       "0          1.0\n",
       "1          1.0\n",
       "2          1.0\n",
       "3          1.0\n",
       "4          1.0\n",
       "5          1.0\n",
       "6          1.0\n",
       "7          1.0\n",
       "8          1.0\n",
       "10         1.0\n",
       "11         4.0\n",
       "12         1.0\n",
       "13         1.0\n",
       "14         1.0\n",
       "16         5.0\n",
       "17         3.0\n",
       "18         1.0\n",
       "19         1.0\n",
       "20         1.0\n",
       "21         1.0\n",
       "22         1.0\n",
       "23         3.0\n",
       "25         1.0\n",
       "26         1.0\n",
       "27         1.0\n",
       "28         1.0\n",
       "29         4.0\n",
       "30         1.0\n",
       "31         1.0\n",
       "32         1.0\n",
       "          ... \n",
       "580214     1.0\n",
       "580215     1.0\n",
       "580216     1.0\n",
       "580217     4.0\n",
       "580221     4.0\n",
       "580224     1.0\n",
       "580225     4.0\n",
       "580226     8.0\n",
       "580227     6.0\n",
       "580228    10.0\n",
       "580229     6.0\n",
       "580231     4.0\n",
       "580232     4.0\n",
       "580234     8.0\n",
       "580235     4.0\n",
       "580236     1.0\n",
       "580237     1.0\n",
       "580238     1.0\n",
       "580239     1.0\n",
       "580240     1.0\n",
       "580241     1.0\n",
       "580242     1.0\n",
       "580243     1.0\n",
       "580244     1.0\n",
       "580245     1.0\n",
       "580246     3.0\n",
       "580247     4.0\n",
       "580248     4.0\n",
       "580249     9.0\n",
       "580250     5.0\n",
       "Name: quantity, Length: 418455, dtype: float64"
      ]
     },
     "execution_count": 247,
     "metadata": {},
     "output_type": "execute_result"
    }
   ],
   "source": [
    "inventory_parts.quantity.mean() #display -inf\n",
    "#inventory_parts.quantity = inventory_parts.quantity.astype(int) # to integer , -inf is transformed into -2147483648\n",
    "#Cleaned inventory parts\n",
    "c_inventory_parts = inventory_parts[inventory_parts.quantity >= 0] \n",
    "c_inventory_parts.quantity"
   ]
  },
  {
   "cell_type": "markdown",
   "metadata": {},
   "source": [
    "Explanation:\n",
    "sets:year\n",
    "Some years in the dataset are not possible because the 1st lego was created in 1932.\n",
    "We can assume that these are typing error, for exemple when the date is -2003, the minus has nothing to do here, it should be 2003.\n",
    "And when the date is too long like '19955' it should be '1995'.\n",
    "\n",
    "1- Replace \"70s\" and \"80s\" by \"1970\" and \"1980\" \n",
    "2- Set year type as integer \n",
    "3- Make 2 series from the series of year:\n",
    "        -SerieA :All the negative year -> set all the positive year to 0.\n",
    "        -SerieB :All the positive year -> set the negative year to 0.\n",
    "\n",
    "4- Multiply SerieA by -1\n",
    "\n",
    "5- Add SerieA and SerieB together.\n",
    "\n",
    "6- Make 2 series from the series of year:\n",
    "        -SerieA :All the year superior to 10000 -> set all the other year to 0.\n",
    "        -SerieB :All the year inferior to 10000 -> set all the other year to 0.\n",
    "\n",
    "7- Divide SerieA by 10 (example: 19955//10 -> 1995)\n",
    "\n",
    "\n",
    "\n",
    "inventory_parts : quantity\n",
    "Quantity is supposed to be a natural number, we can't have a 0.5 piece of lego, this would be absurd. But here, quantity's type is float wich is non-sense as we said. \n",
    "When there are no information we have -inf.\n",
    "\n",
    "<br><br><br><br>\n",
    "NEW VERSION:\n",
    "<br><br>\n",
    "<u><b><font color='green'>ANSWERS:</font></b></u><br><br>\n",
    "\n",
    "<u><b>Explanation:</b></u><br>\n",
    "\n",
    "<u>sets:</u> year<br>\n",
    "As the 1st lego was created in 1932, many dates are impossible.\n",
    "For instance, the negative dates should be positive, typing error: '19955' should be replaced by '1995', etc. \n",
    "Please see the following steps to know our transformations:\n",
    "\n",
    "* Replacing \"70s\" and \"80s\" by \"1970\" and \"1980\" \n",
    "* Taking absolute values \n",
    "* Looking for 5 digits values then removing the last digit (example: 19955//10 -> 1995)\n",
    "\n",
    "\n",
    "<br><u>inventory_parts:</u> quantity<br>\n",
    "Quantity is supposed to be a natural number, we can't have a 0.5 piece of lego, this would be absurd. But here, quantity's type is float wich is non-sense as we said. \n",
    "When there is no information we have -inf."
   ]
  },
  {
   "cell_type": "markdown",
   "metadata": {},
   "source": [
    "### A3. Querying phase\n",
    "Answer the following queries using the functionality of `Pandas`:\n",
    "\n",
    "1. List the ids of the inventories that belong to sets that contain cars. (*Hint: Find a smart way to distinguish which sets contain cars based on the sets' name*).\n",
    "* Plot the distribution of part categories as a (horizontal) bar chart. Restrict yourself to the 20 largest part categories (in terms of the number of parts belonging to the category).\n",
    "* Find the dominant color of each set. Then, plot using a (horizontal) bar chart, the number of sets per dominant color. Color each bar with the respective color that it represents.\n",
    "* Create a scatter plot of the *luminance*\\* of the sets vs their publishing year. What do you observe for the years 1980-1981? How do you interpret what you see?\n",
    "\n",
    "\\*The luminance of a color is a [measure of brightness](https://en.wikipedia.org/wiki/Luminance) which, given its RGB representation, can be computed as follows:\n",
    "\n",
    "$luminance = \\sqrt{0.299*R^2 + 0.587*G^2 + 0.114*B^2}$"
   ]
  },
  {
   "cell_type": "markdown",
   "metadata": {},
   "source": [
    "#    A3 . 1    #"
   ]
  },
  {
   "cell_type": "code",
   "execution_count": 248,
   "metadata": {},
   "outputs": [
    {
     "ename": "SyntaxError",
     "evalue": "invalid syntax (<ipython-input-248-2c67722d7f46>, line 10)",
     "output_type": "error",
     "traceback": [
      "\u001b[1;36m  File \u001b[1;32m\"<ipython-input-248-2c67722d7f46>\"\u001b[1;36m, line \u001b[1;32m10\u001b[0m\n\u001b[1;33m    def isCar:\u001b[0m\n\u001b[1;37m             ^\u001b[0m\n\u001b[1;31mSyntaxError\u001b[0m\u001b[1;31m:\u001b[0m invalid syntax\n"
     ]
    }
   ],
   "source": [
    "\n",
    "#cars_part_id = parts.loc[parts['part_cat_id'] == 29].id\n",
    "#cars_inventory_parts = inventory_parts.loc[inventory_parts['part_id'].isin(cars_part_id)].inventory_id\n",
    "\n",
    "cars_inventory_sets = inventories.loc[inventories['id'].isin(cars_inventory_parts.index)]\n",
    "cars_inventory_sets\n",
    "#inventories\n",
    "#sets.loc[sets['id'].isin(cars_inventory_sets.set_id)]\n",
    "\n",
    "def isCar:\n",
    "    \n"
   ]
  },
  {
   "cell_type": "markdown",
   "metadata": {},
   "source": [
    "\n",
    "#    A3 . 2    #\n"
   ]
  },
  {
   "cell_type": "code",
   "execution_count": null,
   "metadata": {
    "scrolled": true
   },
   "outputs": [],
   "source": [
    "\n",
    "Largest_number_part = parts.groupby('part_cat_id').part_cat_id.count().sort_values(ascending=False).head(20)\n",
    "\n",
    "\n",
    "parts.groupby('part_cat_id').part_cat_id.count()\n",
    "aligned_part = part_categories.shift(periods=1, freq=None, axis=0)\n",
    "aligned_part['number'] = (parts.groupby('part_cat_id').part_cat_id.count())\n",
    "biggest_category = aligned_part.sort_values('number',ascending=False).head(20)"
   ]
  },
  {
   "cell_type": "code",
   "execution_count": null,
   "metadata": {},
   "outputs": [],
   "source": [
    "df = pd.DataFrame({\"Number of parts by category\": Largest_number_part.tolist()}\n",
    "                 , index=biggest_category.name)\n",
    "ax = df.plot.bar(rot=90)\n",
    "\n"
   ]
  },
  {
   "cell_type": "markdown",
   "metadata": {
    "collapsed": true
   },
   "source": [
    "\n",
    "#    A3 . 3    #\n"
   ]
  },
  {
   "cell_type": "code",
   "execution_count": null,
   "metadata": {},
   "outputs": [],
   "source": [
    "#cast ids to string\n",
    "sets.id = sets.id.astype(str)\n",
    "inventory_sets.inventory_id = inventory_sets.inventory_id.astype(str)\n",
    "inventory_parts.inventory_id = inventory_parts.inventory_id.astype(str)\n",
    "\n",
    "#merging sets and inventory sets. Using right join to fetch only the existing id in inventory_sets\n",
    "merge_sets_Inventory = pd.merge(sets, inventory_sets, how='right',left_on=['id'], right_on=['set_id'])\n",
    "merge_sets_Inventory_filtered = pd.DataFrame()\n",
    "merge_sets_Inventory_filtered['set_id'] = merge_sets_Inventory.set_id\n",
    "merge_sets_Inventory_filtered['inventory_id'] = merge_sets_Inventory.inventory_id\n",
    "merge_sets_Inventory_filtered['quantity'] = merge_sets_Inventory.quantity\n",
    "\n",
    "#removing where there is quantity < 1\n",
    "set_inventory_quantity = merge_sets_Inventory_filtered[(merge_sets_Inventory_filtered['quantity'] > 0)]\n",
    "\n",
    "#merging until colors dataframe\n",
    "inventory_inventory = pd.merge(inventory_parts, set_inventory_quantity, how='outer',on=['inventory_id'])\n",
    "inventory_inventory = inventory_inventory.dropna()\n",
    "inventory_color = pd.merge(inventory_inventory, colors, how='outer',left_on=['color_id'], right_on=['id'])\n",
    "inventory_color_filtered = pd.DataFrame()\n",
    "inventory_color_filtered['set_id'] = inventory_color.set_id\n",
    "inventory_color_filtered['name'] = inventory_color.name\n",
    "\n",
    "#Removing No Color and Unknown color from the dataframe\n",
    "inventory_color_filtered = inventory_color_filtered[inventory_color_filtered['name'] != '[No Color]' ]\n",
    "inventory_color_filtered = inventory_color_filtered[inventory_color_filtered['name'] != 'Unknown' ]\n",
    "\n",
    "#grouping by set_ids and colors\n",
    "groupby_sets = inventory_color_filtered.groupby(['set_id','name']).set_id.count()\n",
    "#Displaying dataframe\n",
    "groupby_sets"
   ]
  },
  {
   "cell_type": "code",
   "execution_count": null,
   "metadata": {},
   "outputs": [],
   "source": [
    "#keeping only the color the most used for each set\n",
    "groupby_sets = inventory_color_filtered.groupby(['set_id','name']).set_id.count().reset_index(name=\"count\")\n",
    "index = groupby_sets.groupby(['set_id'])['count'].transform(max) == groupby_sets['count']\n",
    "groupby_sets[index]"
   ]
  },
  {
   "cell_type": "markdown",
   "metadata": {},
   "source": [
    "We are looking for part for the construction of lego car. \n",
    "In the part_categories we search for something that is only or mostly on car.\n",
    "We found the category Wheels and Tyres: id=29.\n",
    "Then look in the inventory_part for inventory_id with part = 29\n",
    "In inventory_sets we count the number of set with inventory_id corresponding to 29\n"
   ]
  },
  {
   "cell_type": "markdown",
   "metadata": {},
   "source": [
    "## Task B. Drop the bike\n",
    "\n",
    "*Los Angeles Metro* has been sharing publicly [anonymized *Metro Bike Share* trip data](https://bikeshare.metro.net/about/data/) under the [Open Database License (ODbL)](http://opendatacommons.org/licenses/odbl/1.0/).\n",
    "\n",
    "In this task you will again perform data wrangling and interpretation."
   ]
  },
  {
   "cell_type": "markdown",
   "metadata": {},
   "source": [
    "### B1. Loading phase\n",
    "Load the json file into a `DataFrame`.\n"
   ]
  },
  {
   "cell_type": "code",
   "execution_count": 11,
   "metadata": {},
   "outputs": [],
   "source": [
    "BIKES_DATA_FOLDER = DATA_FOLDER + '/bikes'"
   ]
  },
  {
   "cell_type": "code",
   "execution_count": 12,
   "metadata": {},
   "outputs": [
    {
     "data": {
      "text/html": [
       "<div>\n",
       "<style scoped>\n",
       "    .dataframe tbody tr th:only-of-type {\n",
       "        vertical-align: middle;\n",
       "    }\n",
       "\n",
       "    .dataframe tbody tr th {\n",
       "        vertical-align: top;\n",
       "    }\n",
       "\n",
       "    .dataframe thead th {\n",
       "        text-align: right;\n",
       "    }\n",
       "</style>\n",
       "<table border=\"1\" class=\"dataframe\">\n",
       "  <thead>\n",
       "    <tr style=\"text-align: right;\">\n",
       "      <th></th>\n",
       "      <th>Bike ID</th>\n",
       "      <th>Duration</th>\n",
       "      <th>End Time</th>\n",
       "      <th>Ending Station ID</th>\n",
       "      <th>Ending Station Latitude</th>\n",
       "      <th>Ending Station Longitude</th>\n",
       "      <th>Passholder Type</th>\n",
       "      <th>Plan Duration</th>\n",
       "      <th>Start Time</th>\n",
       "      <th>Starting Station ID</th>\n",
       "      <th>Starting Station Latitude</th>\n",
       "      <th>Starting Station Longitude</th>\n",
       "      <th>Trip ID</th>\n",
       "      <th>Trip Route Category</th>\n",
       "    </tr>\n",
       "  </thead>\n",
       "  <tbody>\n",
       "    <tr>\n",
       "      <th>0</th>\n",
       "      <td>6281.0</td>\n",
       "      <td>180</td>\n",
       "      <td>2016-07-07T04:20:00</td>\n",
       "      <td>3014.0</td>\n",
       "      <td>34.056610</td>\n",
       "      <td>-118.23721</td>\n",
       "      <td>Monthly Pass</td>\n",
       "      <td>30.0</td>\n",
       "      <td>2016-07-07T04:17:00</td>\n",
       "      <td>3014.0</td>\n",
       "      <td>34.056610</td>\n",
       "      <td>-118.23721</td>\n",
       "      <td>1912818</td>\n",
       "      <td>Round Trip</td>\n",
       "    </tr>\n",
       "    <tr>\n",
       "      <th>1</th>\n",
       "      <td>6281.0</td>\n",
       "      <td>1980</td>\n",
       "      <td>2016-07-07T06:33:00</td>\n",
       "      <td>3014.0</td>\n",
       "      <td>34.056610</td>\n",
       "      <td>-118.23721</td>\n",
       "      <td>Monthly Pass</td>\n",
       "      <td>30.0</td>\n",
       "      <td>2016-07-07T06:00:00</td>\n",
       "      <td>3014.0</td>\n",
       "      <td>34.056610</td>\n",
       "      <td>-118.23721</td>\n",
       "      <td>1919661</td>\n",
       "      <td>Round Trip</td>\n",
       "    </tr>\n",
       "    <tr>\n",
       "      <th>2</th>\n",
       "      <td>5861.0</td>\n",
       "      <td>300</td>\n",
       "      <td>2016-07-07T10:37:00</td>\n",
       "      <td>3016.0</td>\n",
       "      <td>34.052898</td>\n",
       "      <td>-118.24156</td>\n",
       "      <td>Flex Pass</td>\n",
       "      <td>365.0</td>\n",
       "      <td>2016-07-07T10:32:00</td>\n",
       "      <td>3016.0</td>\n",
       "      <td>34.052898</td>\n",
       "      <td>-118.24156</td>\n",
       "      <td>1933383</td>\n",
       "      <td>Round Trip</td>\n",
       "    </tr>\n",
       "    <tr>\n",
       "      <th>3</th>\n",
       "      <td>5861.0</td>\n",
       "      <td>10860</td>\n",
       "      <td>2016-07-07T13:38:00</td>\n",
       "      <td>3016.0</td>\n",
       "      <td>34.052898</td>\n",
       "      <td>-118.24156</td>\n",
       "      <td>Flex Pass</td>\n",
       "      <td>365.0</td>\n",
       "      <td>2016-07-07T10:37:00</td>\n",
       "      <td>3016.0</td>\n",
       "      <td>34.052898</td>\n",
       "      <td>-118.24156</td>\n",
       "      <td>1944197</td>\n",
       "      <td>Round Trip</td>\n",
       "    </tr>\n",
       "    <tr>\n",
       "      <th>4</th>\n",
       "      <td>6674.0</td>\n",
       "      <td>420</td>\n",
       "      <td>2016-07-07T12:58:00</td>\n",
       "      <td>3032.0</td>\n",
       "      <td>34.049889</td>\n",
       "      <td>-118.25588</td>\n",
       "      <td>Walk-up</td>\n",
       "      <td>0.0</td>\n",
       "      <td>2016-07-07T12:51:00</td>\n",
       "      <td>3032.0</td>\n",
       "      <td>34.049889</td>\n",
       "      <td>-118.25588</td>\n",
       "      <td>1940317</td>\n",
       "      <td>Round Trip</td>\n",
       "    </tr>\n",
       "  </tbody>\n",
       "</table>\n",
       "</div>"
      ],
      "text/plain": [
       "   Bike ID  Duration             End Time  Ending Station ID  \\\n",
       "0   6281.0       180  2016-07-07T04:20:00             3014.0   \n",
       "1   6281.0      1980  2016-07-07T06:33:00             3014.0   \n",
       "2   5861.0       300  2016-07-07T10:37:00             3016.0   \n",
       "3   5861.0     10860  2016-07-07T13:38:00             3016.0   \n",
       "4   6674.0       420  2016-07-07T12:58:00             3032.0   \n",
       "\n",
       "   Ending Station Latitude  Ending Station Longitude Passholder Type  \\\n",
       "0                34.056610                -118.23721    Monthly Pass   \n",
       "1                34.056610                -118.23721    Monthly Pass   \n",
       "2                34.052898                -118.24156       Flex Pass   \n",
       "3                34.052898                -118.24156       Flex Pass   \n",
       "4                34.049889                -118.25588         Walk-up   \n",
       "\n",
       "   Plan Duration           Start Time  Starting Station ID  \\\n",
       "0           30.0  2016-07-07T04:17:00               3014.0   \n",
       "1           30.0  2016-07-07T06:00:00               3014.0   \n",
       "2          365.0  2016-07-07T10:32:00               3016.0   \n",
       "3          365.0  2016-07-07T10:37:00               3016.0   \n",
       "4            0.0  2016-07-07T12:51:00               3032.0   \n",
       "\n",
       "   Starting Station Latitude  Starting Station Longitude  Trip ID  \\\n",
       "0                  34.056610                  -118.23721  1912818   \n",
       "1                  34.056610                  -118.23721  1919661   \n",
       "2                  34.052898                  -118.24156  1933383   \n",
       "3                  34.052898                  -118.24156  1944197   \n",
       "4                  34.049889                  -118.25588  1940317   \n",
       "\n",
       "  Trip Route Category  \n",
       "0          Round Trip  \n",
       "1          Round Trip  \n",
       "2          Round Trip  \n",
       "3          Round Trip  \n",
       "4          Round Trip  "
      ]
     },
     "execution_count": 12,
     "metadata": {},
     "output_type": "execute_result"
    }
   ],
   "source": [
    "#read json zip file into data frame\n",
    "bike_share_trip = pd.read_json(BIKES_DATA_FOLDER + \"/metro-bike-share-trip-data.json.zip\")\n",
    "#bike_share_trip = df_metroBike.sort_values('Bike ID')\n",
    "bike_share_trip.head()\n",
    "#ToDo change name of processed data set in coming excercise"
   ]
  },
  {
   "cell_type": "markdown",
   "metadata": {},
   "source": [
    "### B2. Cleaning phase\n",
    "Describe the type and the value range of each attribute. Indicate and transform the attributes that are `Categorical`. Are there redundant columns in the dataset (i.e., are there columns whose value depends only on the value of another column)? What are the possible pitfalls of having such columns? Reduce *data redundancy* by extracting such columns to separate `DataFrames`. Which of the two formats (the initial one or the one with reduced data redundancy) is more susceptible to inconsistencies? At the end print for each `Dataframe` the *type of each column* and it's *shape*."
   ]
  },
  {
   "cell_type": "code",
   "execution_count": 13,
   "metadata": {},
   "outputs": [
    {
     "data": {
      "text/plain": [
       "Bike ID                       float64\n",
       "Duration                        int64\n",
       "End Time                       object\n",
       "Ending Station ID             float64\n",
       "Ending Station Latitude       float64\n",
       "Ending Station Longitude      float64\n",
       "Passholder Type                object\n",
       "Plan Duration                 float64\n",
       "Start Time                     object\n",
       "Starting Station ID           float64\n",
       "Starting Station Latitude     float64\n",
       "Starting Station Longitude    float64\n",
       "Trip ID                         int64\n",
       "Trip Route Category            object\n",
       "dtype: object"
      ]
     },
     "execution_count": 13,
     "metadata": {},
     "output_type": "execute_result"
    }
   ],
   "source": [
    "#describing types of attributes\n",
    "bike_share_trip.dtypes"
   ]
  },
  {
   "cell_type": "code",
   "execution_count": 14,
   "metadata": {},
   "outputs": [
    {
     "data": {
      "text/html": [
       "<div>\n",
       "<style scoped>\n",
       "    .dataframe tbody tr th:only-of-type {\n",
       "        vertical-align: middle;\n",
       "    }\n",
       "\n",
       "    .dataframe tbody tr th {\n",
       "        vertical-align: top;\n",
       "    }\n",
       "\n",
       "    .dataframe thead th {\n",
       "        text-align: right;\n",
       "    }\n",
       "</style>\n",
       "<table border=\"1\" class=\"dataframe\">\n",
       "  <thead>\n",
       "    <tr style=\"text-align: right;\">\n",
       "      <th></th>\n",
       "      <th>Bike ID</th>\n",
       "      <th>Duration</th>\n",
       "      <th>Ending Station ID</th>\n",
       "      <th>Ending Station Latitude</th>\n",
       "      <th>Ending Station Longitude</th>\n",
       "      <th>Plan Duration</th>\n",
       "      <th>Starting Station ID</th>\n",
       "      <th>Starting Station Latitude</th>\n",
       "      <th>Starting Station Longitude</th>\n",
       "      <th>Trip ID</th>\n",
       "    </tr>\n",
       "  </thead>\n",
       "  <tbody>\n",
       "    <tr>\n",
       "      <th>count</th>\n",
       "      <td>132417.000000</td>\n",
       "      <td>132427.000000</td>\n",
       "      <td>132331.00000</td>\n",
       "      <td>131376.000000</td>\n",
       "      <td>131376.000000</td>\n",
       "      <td>131661.000000</td>\n",
       "      <td>132408.000000</td>\n",
       "      <td>132379.000000</td>\n",
       "      <td>132379.000000</td>\n",
       "      <td>1.324270e+05</td>\n",
       "    </tr>\n",
       "    <tr>\n",
       "      <th>mean</th>\n",
       "      <td>6193.618878</td>\n",
       "      <td>1555.301562</td>\n",
       "      <td>3042.38672</td>\n",
       "      <td>34.034614</td>\n",
       "      <td>-118.206642</td>\n",
       "      <td>44.821967</td>\n",
       "      <td>3043.020754</td>\n",
       "      <td>34.039309</td>\n",
       "      <td>-118.221534</td>\n",
       "      <td>1.153001e+07</td>\n",
       "    </tr>\n",
       "    <tr>\n",
       "      <th>std</th>\n",
       "      <td>293.606755</td>\n",
       "      <td>5814.241813</td>\n",
       "      <td>43.08440</td>\n",
       "      <td>0.650706</td>\n",
       "      <td>2.259913</td>\n",
       "      <td>90.411579</td>\n",
       "      <td>37.742021</td>\n",
       "      <td>0.529336</td>\n",
       "      <td>1.838335</td>\n",
       "      <td>6.369462e+06</td>\n",
       "    </tr>\n",
       "    <tr>\n",
       "      <th>min</th>\n",
       "      <td>1349.000000</td>\n",
       "      <td>60.000000</td>\n",
       "      <td>3000.00000</td>\n",
       "      <td>0.000000</td>\n",
       "      <td>-118.472832</td>\n",
       "      <td>0.000000</td>\n",
       "      <td>3000.000000</td>\n",
       "      <td>0.000000</td>\n",
       "      <td>-118.472832</td>\n",
       "      <td>1.912818e+06</td>\n",
       "    </tr>\n",
       "    <tr>\n",
       "      <th>25%</th>\n",
       "      <td>5953.000000</td>\n",
       "      <td>360.000000</td>\n",
       "      <td>3022.00000</td>\n",
       "      <td>34.044159</td>\n",
       "      <td>-118.256981</td>\n",
       "      <td>0.000000</td>\n",
       "      <td>3024.000000</td>\n",
       "      <td>34.044170</td>\n",
       "      <td>-118.256980</td>\n",
       "      <td>5.060814e+06</td>\n",
       "    </tr>\n",
       "    <tr>\n",
       "      <th>50%</th>\n",
       "      <td>6186.000000</td>\n",
       "      <td>600.000000</td>\n",
       "      <td>3038.00000</td>\n",
       "      <td>34.046810</td>\n",
       "      <td>-118.250954</td>\n",
       "      <td>30.000000</td>\n",
       "      <td>3040.000000</td>\n",
       "      <td>34.046822</td>\n",
       "      <td>-118.250954</td>\n",
       "      <td>1.043827e+07</td>\n",
       "    </tr>\n",
       "    <tr>\n",
       "      <th>75%</th>\n",
       "      <td>6434.000000</td>\n",
       "      <td>1080.000000</td>\n",
       "      <td>3063.00000</td>\n",
       "      <td>34.050480</td>\n",
       "      <td>-118.238810</td>\n",
       "      <td>30.000000</td>\n",
       "      <td>3063.000000</td>\n",
       "      <td>34.050880</td>\n",
       "      <td>-118.241562</td>\n",
       "      <td>1.720633e+07</td>\n",
       "    </tr>\n",
       "    <tr>\n",
       "      <th>max</th>\n",
       "      <td>6728.000000</td>\n",
       "      <td>86400.000000</td>\n",
       "      <td>4108.00000</td>\n",
       "      <td>34.064281</td>\n",
       "      <td>0.000000</td>\n",
       "      <td>365.000000</td>\n",
       "      <td>4108.000000</td>\n",
       "      <td>34.064281</td>\n",
       "      <td>0.000000</td>\n",
       "      <td>2.379422e+07</td>\n",
       "    </tr>\n",
       "  </tbody>\n",
       "</table>\n",
       "</div>"
      ],
      "text/plain": [
       "             Bike ID       Duration  Ending Station ID  \\\n",
       "count  132417.000000  132427.000000       132331.00000   \n",
       "mean     6193.618878    1555.301562         3042.38672   \n",
       "std       293.606755    5814.241813           43.08440   \n",
       "min      1349.000000      60.000000         3000.00000   \n",
       "25%      5953.000000     360.000000         3022.00000   \n",
       "50%      6186.000000     600.000000         3038.00000   \n",
       "75%      6434.000000    1080.000000         3063.00000   \n",
       "max      6728.000000   86400.000000         4108.00000   \n",
       "\n",
       "       Ending Station Latitude  Ending Station Longitude  Plan Duration  \\\n",
       "count            131376.000000             131376.000000  131661.000000   \n",
       "mean                 34.034614               -118.206642      44.821967   \n",
       "std                   0.650706                  2.259913      90.411579   \n",
       "min                   0.000000               -118.472832       0.000000   \n",
       "25%                  34.044159               -118.256981       0.000000   \n",
       "50%                  34.046810               -118.250954      30.000000   \n",
       "75%                  34.050480               -118.238810      30.000000   \n",
       "max                  34.064281                  0.000000     365.000000   \n",
       "\n",
       "       Starting Station ID  Starting Station Latitude  \\\n",
       "count        132408.000000              132379.000000   \n",
       "mean           3043.020754                  34.039309   \n",
       "std              37.742021                   0.529336   \n",
       "min            3000.000000                   0.000000   \n",
       "25%            3024.000000                  34.044170   \n",
       "50%            3040.000000                  34.046822   \n",
       "75%            3063.000000                  34.050880   \n",
       "max            4108.000000                  34.064281   \n",
       "\n",
       "       Starting Station Longitude       Trip ID  \n",
       "count               132379.000000  1.324270e+05  \n",
       "mean                  -118.221534  1.153001e+07  \n",
       "std                      1.838335  6.369462e+06  \n",
       "min                   -118.472832  1.912818e+06  \n",
       "25%                   -118.256980  5.060814e+06  \n",
       "50%                   -118.250954  1.043827e+07  \n",
       "75%                   -118.241562  1.720633e+07  \n",
       "max                      0.000000  2.379422e+07  "
      ]
     },
     "execution_count": 14,
     "metadata": {},
     "output_type": "execute_result"
    }
   ],
   "source": [
    "#describing attributes\n",
    "bike_share_trip.describe()"
   ]
  },
  {
   "cell_type": "code",
   "execution_count": 15,
   "metadata": {},
   "outputs": [
    {
     "ename": "NameError",
     "evalue": "name 'df_metroBike' is not defined",
     "output_type": "error",
     "traceback": [
      "\u001b[1;31m---------------------------------------------------------------------------\u001b[0m",
      "\u001b[1;31mNameError\u001b[0m                                 Traceback (most recent call last)",
      "\u001b[1;32m<ipython-input-15-6b5b6c8f9ba8>\u001b[0m in \u001b[0;36m<module>\u001b[1;34m()\u001b[0m\n\u001b[1;32m----> 1\u001b[1;33m \u001b[0mcols\u001b[0m \u001b[1;33m=\u001b[0m \u001b[0mdf_metroBike\u001b[0m\u001b[1;33m.\u001b[0m\u001b[0mcolumns\u001b[0m\u001b[1;33m\u001b[0m\u001b[0m\n\u001b[0m\u001b[0;32m      2\u001b[0m \u001b[0mprint\u001b[0m\u001b[1;33m(\u001b[0m\u001b[0mcols\u001b[0m\u001b[1;33m)\u001b[0m\u001b[1;33m\u001b[0m\u001b[0m\n\u001b[0;32m      3\u001b[0m \u001b[1;31m#fetching numerical columns\u001b[0m\u001b[1;33m\u001b[0m\u001b[1;33m\u001b[0m\u001b[0m\n\u001b[0;32m      4\u001b[0m \u001b[0mnumerical_cols\u001b[0m \u001b[1;33m=\u001b[0m \u001b[0mdf_metroBike\u001b[0m\u001b[1;33m.\u001b[0m\u001b[0m_get_numeric_data\u001b[0m\u001b[1;33m(\u001b[0m\u001b[1;33m)\u001b[0m\u001b[1;33m.\u001b[0m\u001b[0mcolumns\u001b[0m\u001b[1;33m\u001b[0m\u001b[0m\n\u001b[0;32m      5\u001b[0m \u001b[0mprint\u001b[0m\u001b[1;33m(\u001b[0m\u001b[0mnumerical_cols\u001b[0m\u001b[1;33m)\u001b[0m\u001b[1;33m\u001b[0m\u001b[0m\n",
      "\u001b[1;31mNameError\u001b[0m: name 'df_metroBike' is not defined"
     ]
    }
   ],
   "source": [
    "cols = df_metroBike.columns\n",
    "print(cols)\n",
    "#fetching numerical columns\n",
    "numerical_cols = df_metroBike._get_numeric_data().columns\n",
    "print(numerical_cols)\n",
    "#getting categorical columns\n",
    "categorical_cols = list(set(cols) - set(numerical_cols))\n",
    "#Displaying Categorical attributes\n",
    "categorical_cols"
   ]
  },
  {
   "cell_type": "code",
   "execution_count": null,
   "metadata": {},
   "outputs": [],
   "source": [
    "#Tranforming non-numerical columns to category in order to transform it afterwards\n",
    "for cols in categorical_cols:\n",
    "    df_metroBike[cols] = df_metroBike[cols].astype('category')"
   ]
  },
  {
   "cell_type": "code",
   "execution_count": null,
   "metadata": {},
   "outputs": [],
   "source": [
    "#transforming categorical values thanks to cat.codes\n",
    "categorical_cols = df_metroBike.select_dtypes(include=['category']).columns\n",
    "df_metroBike[categorical_cols] = df_metroBike[categorical_cols].apply(lambda x: x.cat.codes)\n",
    "df_metroBike.head(10)"
   ]
  },
  {
   "cell_type": "code",
   "execution_count": null,
   "metadata": {},
   "outputs": [],
   "source": [
    "#Extracting redundant columns based on the analysis explained in Output[209]\n",
    "redudant_columns = ['Duration','Plan Duration','Ending Station Latitude','Ending Station Longitude','Starting Station Latitude','Starting Station Latitude']\n",
    "df_metroBike_redundancy = df_metroBike[redudant_columns]\n",
    "df_metroBike_redundancy.head(20)"
   ]
  },
  {
   "cell_type": "code",
   "execution_count": null,
   "metadata": {},
   "outputs": [],
   "source": [
    "#Create dataframe without redundancy\n",
    "df_metroBike_withoutRedundancy = df_metroBike\n",
    "df_metroBike_withoutRedundancy.drop(df_metroBike_withoutRedundancy.columns[[1, 2]], axis=1, inplace=True)\n",
    "df_metroBike_withoutRedundancy.head(20)"
   ]
  },
  {
   "cell_type": "code",
   "execution_count": null,
   "metadata": {},
   "outputs": [],
   "source": [
    "#Displaying dataframe redundancy types\n",
    "df_metroBike_redundancy.dtypes"
   ]
  },
  {
   "cell_type": "code",
   "execution_count": null,
   "metadata": {},
   "outputs": [],
   "source": [
    "#Displaying dataframe redundancy shape\n",
    "df_metroBike_redundancy.shape"
   ]
  },
  {
   "cell_type": "code",
   "execution_count": null,
   "metadata": {},
   "outputs": [],
   "source": [
    "#Displaying dataframe redundancy types\n",
    "df_metroBike_withoutRedundancy.dtypes"
   ]
  },
  {
   "cell_type": "code",
   "execution_count": null,
   "metadata": {},
   "outputs": [],
   "source": [
    "#Displaying dataframe redundancy shape\n",
    "df_metroBike_withoutRedundancy.shape"
   ]
  },
  {
   "cell_type": "markdown",
   "metadata": {},
   "source": [
    "<u><b><font color='green'>ANSWERS:</font></b></u><br><br>\n",
    "\n",
    "<u><b>Redundant columns:</b></u><br>\n",
    "\n",
    "* Duration column is the total second between start time and end time<br>\n",
    "* Plan duration is the number of days in the plan, it depends of the PassHolder Type\n",
    "Monthly -> 30, Flex Pass -> 365<br>\n",
    "* Ending and Starting station Longitude Latitude only depends of the Ending and Starting station ID\n",
    "There would be a table that reference the station with Station ID and their latitude / longitude<br>\n",
    "\n",
    "<u><b>Redundant columns pitfalls:</b></u><br>\n",
    "\n",
    "Having redundant columns is a poor design, instead of doing that we should have other tables that reference primary and foreign keys. Thanks to a such design, we have only one table to update when there is a change. \n",
    "\n",
    "For instance, if a station moves to another localisation we will update its longitude/latitude in the Station table, but it won't be updated in this table."
   ]
  },
  {
   "cell_type": "markdown",
   "metadata": {},
   "source": [
    "### B3. Querying Phase\n",
    "Answer the following queries using the functionality of `Pandas`.\n",
    "\n",
    "1. Plot the *distribution* of the number of outgoing trips from each station in a histogram with 20 bins (Hint: each bin describes a range of counts, not stations).\n",
    "* Plot histograms for the *duration* and *trip starting hour in the day* attributes. For both the *duration*  and the *trip starting hour* use *discrete 1-hour intervals*. What do you observe in each plot? What are some popular values in the *duration* plot? Explain the local maxima and the trends you observe on the *trip starting hour* plot based on human behavior.\n",
    "* For each *trip route category*, calculate the proportion of trips by *passholder type* and present your results in *a stacked bar chart with normalized height*.\n",
    "* Considering only trips that begin in the morning hours (before noon), plot in *a single bar chart* the proportion of trips by *passholder type* and *trip route category*. Explain any outliers you observe.\n",
    "* Separate the hours of the day into two intervals that have (approximately) the same number of bikes leaving the stations. For each of the two intervals calculate the proportion of trips by *passholder type* and *trip route category*. Present your results in a `DataFrame` which has a unique, non-composite index. Does the proportion of trips depend on whether it is the first or second hour interval? Would the company have any significant benefit by creating a more complex paying scheme where monthly pass users would pay less in the first interval and (equally) more on the second one? Assume that the number of trips per interval will not change if the scheme changes."
   ]
  },
  {
   "cell_type": "markdown",
   "metadata": {},
   "source": [
    "### B3. Querying Phase Solutions"
   ]
  },
  {
   "cell_type": "markdown",
   "metadata": {
    "collapsed": true
   },
   "source": [
    "<h3 align=\"center\"> B3.1 </h3> \n",
    "Plot the distribution of the number of outgoing trips from each station in a histogram with 20 bins (Hint: each bin describes a range of counts, not stations)."
   ]
  },
  {
   "cell_type": "code",
   "execution_count": 16,
   "metadata": {},
   "outputs": [
    {
     "data": {
      "text/html": [
       "<div>\n",
       "<style scoped>\n",
       "    .dataframe tbody tr th:only-of-type {\n",
       "        vertical-align: middle;\n",
       "    }\n",
       "\n",
       "    .dataframe tbody tr th {\n",
       "        vertical-align: top;\n",
       "    }\n",
       "\n",
       "    .dataframe thead th {\n",
       "        text-align: right;\n",
       "    }\n",
       "</style>\n",
       "<table border=\"1\" class=\"dataframe\">\n",
       "  <thead>\n",
       "    <tr style=\"text-align: right;\">\n",
       "      <th></th>\n",
       "      <th>Bike ID</th>\n",
       "      <th>Duration</th>\n",
       "      <th>End Time</th>\n",
       "      <th>Ending Station ID</th>\n",
       "      <th>Ending Station Latitude</th>\n",
       "      <th>Ending Station Longitude</th>\n",
       "      <th>Passholder Type</th>\n",
       "      <th>Plan Duration</th>\n",
       "      <th>Start Time</th>\n",
       "      <th>Starting Station ID</th>\n",
       "      <th>Starting Station Latitude</th>\n",
       "      <th>Starting Station Longitude</th>\n",
       "      <th>Trip ID</th>\n",
       "      <th>Trip Route Category</th>\n",
       "    </tr>\n",
       "  </thead>\n",
       "  <tbody>\n",
       "    <tr>\n",
       "      <th>0</th>\n",
       "      <td>6281.0</td>\n",
       "      <td>180</td>\n",
       "      <td>2016-07-07T04:20:00</td>\n",
       "      <td>3014.0</td>\n",
       "      <td>34.056610</td>\n",
       "      <td>-118.23721</td>\n",
       "      <td>Monthly Pass</td>\n",
       "      <td>30.0</td>\n",
       "      <td>2016-07-07T04:17:00</td>\n",
       "      <td>3014.0</td>\n",
       "      <td>34.056610</td>\n",
       "      <td>-118.23721</td>\n",
       "      <td>1912818</td>\n",
       "      <td>Round Trip</td>\n",
       "    </tr>\n",
       "    <tr>\n",
       "      <th>1</th>\n",
       "      <td>6281.0</td>\n",
       "      <td>1980</td>\n",
       "      <td>2016-07-07T06:33:00</td>\n",
       "      <td>3014.0</td>\n",
       "      <td>34.056610</td>\n",
       "      <td>-118.23721</td>\n",
       "      <td>Monthly Pass</td>\n",
       "      <td>30.0</td>\n",
       "      <td>2016-07-07T06:00:00</td>\n",
       "      <td>3014.0</td>\n",
       "      <td>34.056610</td>\n",
       "      <td>-118.23721</td>\n",
       "      <td>1919661</td>\n",
       "      <td>Round Trip</td>\n",
       "    </tr>\n",
       "    <tr>\n",
       "      <th>2</th>\n",
       "      <td>5861.0</td>\n",
       "      <td>300</td>\n",
       "      <td>2016-07-07T10:37:00</td>\n",
       "      <td>3016.0</td>\n",
       "      <td>34.052898</td>\n",
       "      <td>-118.24156</td>\n",
       "      <td>Flex Pass</td>\n",
       "      <td>365.0</td>\n",
       "      <td>2016-07-07T10:32:00</td>\n",
       "      <td>3016.0</td>\n",
       "      <td>34.052898</td>\n",
       "      <td>-118.24156</td>\n",
       "      <td>1933383</td>\n",
       "      <td>Round Trip</td>\n",
       "    </tr>\n",
       "    <tr>\n",
       "      <th>3</th>\n",
       "      <td>5861.0</td>\n",
       "      <td>10860</td>\n",
       "      <td>2016-07-07T13:38:00</td>\n",
       "      <td>3016.0</td>\n",
       "      <td>34.052898</td>\n",
       "      <td>-118.24156</td>\n",
       "      <td>Flex Pass</td>\n",
       "      <td>365.0</td>\n",
       "      <td>2016-07-07T10:37:00</td>\n",
       "      <td>3016.0</td>\n",
       "      <td>34.052898</td>\n",
       "      <td>-118.24156</td>\n",
       "      <td>1944197</td>\n",
       "      <td>Round Trip</td>\n",
       "    </tr>\n",
       "    <tr>\n",
       "      <th>4</th>\n",
       "      <td>6674.0</td>\n",
       "      <td>420</td>\n",
       "      <td>2016-07-07T12:58:00</td>\n",
       "      <td>3032.0</td>\n",
       "      <td>34.049889</td>\n",
       "      <td>-118.25588</td>\n",
       "      <td>Walk-up</td>\n",
       "      <td>0.0</td>\n",
       "      <td>2016-07-07T12:51:00</td>\n",
       "      <td>3032.0</td>\n",
       "      <td>34.049889</td>\n",
       "      <td>-118.25588</td>\n",
       "      <td>1940317</td>\n",
       "      <td>Round Trip</td>\n",
       "    </tr>\n",
       "  </tbody>\n",
       "</table>\n",
       "</div>"
      ],
      "text/plain": [
       "   Bike ID  Duration             End Time  Ending Station ID  \\\n",
       "0   6281.0       180  2016-07-07T04:20:00             3014.0   \n",
       "1   6281.0      1980  2016-07-07T06:33:00             3014.0   \n",
       "2   5861.0       300  2016-07-07T10:37:00             3016.0   \n",
       "3   5861.0     10860  2016-07-07T13:38:00             3016.0   \n",
       "4   6674.0       420  2016-07-07T12:58:00             3032.0   \n",
       "\n",
       "   Ending Station Latitude  Ending Station Longitude Passholder Type  \\\n",
       "0                34.056610                -118.23721    Monthly Pass   \n",
       "1                34.056610                -118.23721    Monthly Pass   \n",
       "2                34.052898                -118.24156       Flex Pass   \n",
       "3                34.052898                -118.24156       Flex Pass   \n",
       "4                34.049889                -118.25588         Walk-up   \n",
       "\n",
       "   Plan Duration           Start Time  Starting Station ID  \\\n",
       "0           30.0  2016-07-07T04:17:00               3014.0   \n",
       "1           30.0  2016-07-07T06:00:00               3014.0   \n",
       "2          365.0  2016-07-07T10:32:00               3016.0   \n",
       "3          365.0  2016-07-07T10:37:00               3016.0   \n",
       "4            0.0  2016-07-07T12:51:00               3032.0   \n",
       "\n",
       "   Starting Station Latitude  Starting Station Longitude  Trip ID  \\\n",
       "0                  34.056610                  -118.23721  1912818   \n",
       "1                  34.056610                  -118.23721  1919661   \n",
       "2                  34.052898                  -118.24156  1933383   \n",
       "3                  34.052898                  -118.24156  1944197   \n",
       "4                  34.049889                  -118.25588  1940317   \n",
       "\n",
       "  Trip Route Category  \n",
       "0          Round Trip  \n",
       "1          Round Trip  \n",
       "2          Round Trip  \n",
       "3          Round Trip  \n",
       "4          Round Trip  "
      ]
     },
     "execution_count": 16,
     "metadata": {},
     "output_type": "execute_result"
    }
   ],
   "source": [
    "bike_share_trip.head()"
   ]
  },
  {
   "cell_type": "code",
   "execution_count": 17,
   "metadata": {},
   "outputs": [
    {
     "data": {
      "text/plain": [
       "Text(0.5,1,'insert title')"
      ]
     },
     "execution_count": 17,
     "metadata": {},
     "output_type": "execute_result"
    },
    {
     "data": {
      "image/png": "[encoded data removed]",
      "text/plain": [
       "<Figure size 432x288 with 1 Axes>"
      ]
     },
     "metadata": {},
     "output_type": "display_data"
    }
   ],
   "source": [
    "bike_share_trip_grouped = bike_share_trip.groupby('Starting Station ID')\n",
    "#for bike, group in df_metroBike_grouped:\n",
    " #   print('bike', bike)\n",
    "  #  print('group', group)\n",
    "bike_share_trip_grouped.size().head()\n",
    "hist = bike_share_trip_grouped.size().hist(bins=20)\n",
    "hist.set_xlabel(\"Number of bikes leaving from station\")\n",
    "hist.set_ylabel(\"Number of Stations\")\n",
    "hist.set_title(\"insert title\")"
   ]
  },
  {
   "cell_type": "code",
   "execution_count": 18,
   "metadata": {},
   "outputs": [
    {
     "data": {
      "text/plain": [
       "Text(0.5,1,'insert title')"
      ]
     },
     "execution_count": 18,
     "metadata": {},
     "output_type": "execute_result"
    },
    {
     "data": {
      "image/png": "[encoded data removed]",
      "text/plain": [
       "<Figure size 432x288 with 1 Axes>"
      ]
     },
     "metadata": {},
     "output_type": "display_data"
    }
   ],
   "source": [
    "bike_share_trip_grouped = bike_share_trip.groupby('Starting Station ID').size().reset_index(name='counts')\n",
    "#print(df_metroBike_grouped)\n",
    "hist = bike_share_trip_grouped['counts'].hist(bins=20)\n",
    "hist.set_xlabel(\"Number of bikes leaving from station\")\n",
    "hist.set_ylabel(\"Number of Stations\")\n",
    "hist.set_title(\"insert title\")"
   ]
  },
  {
   "cell_type": "markdown",
   "metadata": {},
   "source": [
    "Description:\n",
    "blqblqblqblq\n",
    "    "
   ]
  },
  {
   "cell_type": "markdown",
   "metadata": {},
   "source": [
    "<h3 align=\"center\"> B3.2 </h3> \n",
    "Plot histograms for the duration and trip starting hour in the day attributes. For both the duration and the trip starting hour use discrete 1-hour intervals. What do you observe in each plot? What are some popular values in the duration plot? Explain the local maxima and the trends you observe on the trip starting hour plot based on human behavior"
   ]
  },
  {
   "cell_type": "markdown",
   "metadata": {},
   "source": [
    "<b>a)<b> Plot histogram for the duration attribute using descrete 1-hour intervals. What do you observer in the plot? What are some popular values?"
   ]
  },
  {
   "cell_type": "code",
   "execution_count": 19,
   "metadata": {},
   "outputs": [
    {
     "data": {
      "text/plain": [
       "count    132427.000000\n",
       "mean       1555.301562\n",
       "std        5814.241813\n",
       "min          60.000000\n",
       "25%         360.000000\n",
       "50%         600.000000\n",
       "75%        1080.000000\n",
       "max       86400.000000\n",
       "Name: Duration, dtype: float64"
      ]
     },
     "execution_count": 19,
     "metadata": {},
     "output_type": "execute_result"
    }
   ],
   "source": [
    "bike_share_trip.Duration.describe()"
   ]
  },
  {
   "cell_type": "code",
   "execution_count": 20,
   "metadata": {},
   "outputs": [
    {
     "data": {
      "text/plain": [
       "count    132427.000000\n",
       "mean          0.432028\n",
       "std           1.615067\n",
       "min           0.016667\n",
       "25%           0.100000\n",
       "50%           0.166667\n",
       "75%           0.300000\n",
       "max          24.000000\n",
       "Name: Duration, dtype: float64"
      ]
     },
     "execution_count": 20,
     "metadata": {},
     "output_type": "execute_result"
    }
   ],
   "source": [
    "(bike_share_trip.Duration/3600).describe()"
   ]
  },
  {
   "cell_type": "code",
   "execution_count": 21,
   "metadata": {
    "scrolled": true
   },
   "outputs": [
    {
     "data": {
      "text/plain": [
       "0         (0, 3600]\n",
       "1         (0, 3600]\n",
       "2         (0, 3600]\n",
       "3    (10800, 14400]\n",
       "4         (0, 3600]\n",
       "Name: Duration, dtype: category\n",
       "Categories (24, interval[int64]): [(0, 3600] < (3600, 7200] < (7200, 10800] < (10800, 14400] ... (72000, 75600] < (75600, 79200] < (79200, 82800] < (82800, 86400]]"
      ]
     },
     "execution_count": 21,
     "metadata": {},
     "output_type": "execute_result"
    }
   ],
   "source": [
    "pd.cut(bike_share_trip.Duration, np.arange(0, 86401, 3600)).head()"
   ]
  },
  {
   "cell_type": "code",
   "execution_count": 22,
   "metadata": {},
   "outputs": [
    {
     "data": {
      "text/plain": [
       "<matplotlib.axes._subplots.AxesSubplot at 0x164d8aa5e10>"
      ]
     },
     "execution_count": 22,
     "metadata": {},
     "output_type": "execute_result"
    },
    {
     "data": {
      "image/png": "[encoded data removed]",
      "text/plain": [
       "<Figure size 432x288 with 1 Axes>"
      ]
     },
     "metadata": {},
     "output_type": "display_data"
    }
   ],
   "source": [
    "(bike_share_trip.Duration/3600).hist(bins=np.arange(0, 25, 1))"
   ]
  },
  {
   "cell_type": "code",
   "execution_count": 23,
   "metadata": {},
   "outputs": [
    {
     "data": {
      "text/plain": [
       "<matplotlib.axes._subplots.AxesSubplot at 0x164d8b59a58>"
      ]
     },
     "execution_count": 23,
     "metadata": {},
     "output_type": "execute_result"
    },
    {
     "data": {
      "image/png": "[encoded data removed]",
      "text/plain": [
       "<Figure size 432x288 with 1 Axes>"
      ]
     },
     "metadata": {},
     "output_type": "display_data"
    }
   ],
   "source": [
    "#(bike_share_trip.Duration/3600).hist(bins=np.arange(0, 25, 1), )\n",
    "#(bike_share_trip.Duration/3600).apply().hist(bins=np.arange(0, 25, 1))\n",
    "(bike_share_trip.Duration/3600).hist(range=(0,5), bins = [0, 1, 2, 3, 4, 5])"
   ]
  },
  {
   "cell_type": "markdown",
   "metadata": {},
   "source": [
    "<b>b)<b> Plot histogram for trip starting hour in the day attribute using descrete 1-hour intervals. What do you observer in the plot? Explain the local maxima and the trends you observe on the trip starting hour plot based on human behavior"
   ]
  },
  {
   "cell_type": "code",
   "execution_count": 24,
   "metadata": {},
   "outputs": [
    {
     "data": {
      "text/plain": [
       "0    04:17:00\n",
       "1    06:00:00\n",
       "2    10:32:00\n",
       "3    10:37:00\n",
       "4    12:51:00\n",
       "Name: Start Time, dtype: object"
      ]
     },
     "execution_count": 24,
     "metadata": {},
     "output_type": "execute_result"
    }
   ],
   "source": [
    "bike_share_trip['Start Time'] = pd.to_datetime(bike_share_trip['Start Time'])\n",
    "bike_share_trip['Start Time'].dt.time.head()"
   ]
  },
  {
   "cell_type": "code",
   "execution_count": 25,
   "metadata": {},
   "outputs": [],
   "source": [
    "times = pd.to_datetime(bike_share_trip['Start Time'])\n",
    "times = (times.dt.hour * 60.0 + times.dt.minute) / 60"
   ]
  },
  {
   "cell_type": "code",
   "execution_count": 26,
   "metadata": {},
   "outputs": [
    {
     "data": {
      "text/plain": [
       "(132427,)"
      ]
     },
     "execution_count": 26,
     "metadata": {},
     "output_type": "execute_result"
    }
   ],
   "source": [
    "times.shape"
   ]
  },
  {
   "cell_type": "code",
   "execution_count": 27,
   "metadata": {},
   "outputs": [
    {
     "data": {
      "image/png": "[encoded data removed]",
      "text/plain": [
       "<Figure size 432x288 with 1 Axes>"
      ]
     },
     "metadata": {},
     "output_type": "display_data"
    }
   ],
   "source": [
    "hs = times.hist(bins=np.arange(0, 25, 1) )"
   ]
  },
  {
   "cell_type": "code",
   "execution_count": 28,
   "metadata": {},
   "outputs": [
    {
     "data": {
      "text/plain": [
       "Text(0,0.5,'Number of Bikes')"
      ]
     },
     "execution_count": 28,
     "metadata": {},
     "output_type": "execute_result"
    },
    {
     "data": {
      "image/png": "[encoded data removed]",
      "text/plain": [
       "<Figure size 432x288 with 1 Axes>"
      ]
     },
     "metadata": {},
     "output_type": "display_data"
    }
   ],
   "source": [
    "hs = times.plot(title=\"Trip Starting Hour\", kind='hist', bins=np.arange(0, 25, 1), grid=True)\n",
    "hs.set_xlabel(\"Hour of the day\")\n",
    "hs.set_ylabel(\"Number of Bikes\")"
   ]
  },
  {
   "cell_type": "markdown",
   "metadata": {},
   "source": [
    "duration: Length of trip in minutes, but I suspect they are in seconds\n"
   ]
  },
  {
   "cell_type": "markdown",
   "metadata": {},
   "source": [
    "<h3 align=\"center\"> B3.3 </h3> \n",
    "For each trip route category, calculate the proportion of trips by passholder type and present your results in a stacked bar chart with normalized height"
   ]
  },
  {
   "cell_type": "code",
   "execution_count": 29,
   "metadata": {},
   "outputs": [
    {
     "name": "stdout",
     "output_type": "stream",
     "text": [
      "Trip Route Category  Passholder Type\n",
      "One Way              Flex Pass           9034\n",
      "                     Monthly Pass       77532\n",
      "                     Staff Annual         299\n",
      "                     Walk-up            32777\n",
      "Round Trip           Flex Pass            483\n",
      "                     Monthly Pass        3772\n",
      "                     Staff Annual          83\n",
      "                     Walk-up             8447\n",
      "dtype: int64\n",
      "Passholder Type      Flex Pass  Monthly Pass  Staff Annual  Walk-up\n",
      "Trip Route Category                                                \n",
      "One Way                   9034         77532           299    32777\n",
      "Round Trip                 483          3772            83     8447\n"
     ]
    },
    {
     "data": {
      "text/plain": [
       "<matplotlib.axes._subplots.AxesSubplot at 0x164d8db0fd0>"
      ]
     },
     "execution_count": 29,
     "metadata": {},
     "output_type": "execute_result"
    },
    {
     "data": {
      "image/png": "[encoded data removed]",
      "text/plain": [
       "<Figure size 432x288 with 1 Axes>"
      ]
     },
     "metadata": {},
     "output_type": "display_data"
    }
   ],
   "source": [
    "bikes_share_trip_grouped_by_route = bike_share_trip.groupby(['Trip Route Category', 'Passholder Type']).size()\n",
    "\n",
    "print(bikes_share_trip_grouped_by_route)\n",
    "print(bikes_share_trip_grouped_by_route.unstack())\n",
    "bikes_share_trip_grouped_by_route.unstack().plot(kind='bar', stacked=True)\n",
    "\n",
    "#for category, group in bikes_share_trip_grouped_by_route:\n",
    "    #print(\"category\", category)\n",
    "    #print(\"group\", group)\n",
    "    \n",
    "#bikes_share_trip_grouped_by_rout\n",
    "  \n",
    "\n",
    "#df2[['abuse','nff']].plot(kind='bar', stacked=True)\n",
    "#bikes_share_trip_grouped_by_route.unstack()"
   ]
  },
  {
   "cell_type": "code",
   "execution_count": 30,
   "metadata": {},
   "outputs": [
    {
     "data": {
      "text/plain": [
       "Trip Route Category  Passholder Type\n",
       "One Way              Flex Pass          0.075509\n",
       "                     Monthly Pass       0.648033\n",
       "                     Staff Annual       0.002499\n",
       "                     Walk-up            0.273959\n",
       "Round Trip           Flex Pass          0.037779\n",
       "                     Monthly Pass       0.295033\n",
       "                     Staff Annual       0.006492\n",
       "                     Walk-up            0.660696\n",
       "dtype: float64"
      ]
     },
     "execution_count": 30,
     "metadata": {},
     "output_type": "execute_result"
    }
   ],
   "source": [
    "#normalized hieghts aka percent stacked barplot\n",
    "bike_grouped_proportion = bikes_share_trip_grouped_by_route.groupby(level=0).apply(lambda x:\n",
    "                                                 x / float(x.sum()))\n",
    "bike_grouped_proportion"
   ]
  },
  {
   "cell_type": "code",
   "execution_count": 31,
   "metadata": {},
   "outputs": [
    {
     "data": {
      "text/plain": [
       "<matplotlib.legend.Legend at 0x164d8e2d160>"
      ]
     },
     "execution_count": 31,
     "metadata": {},
     "output_type": "execute_result"
    },
    {
     "data": {
      "image/png": "[encoded data removed]",
      "text/plain": [
       "<Figure size 432x288 with 1 Axes>"
      ]
     },
     "metadata": {},
     "output_type": "display_data"
    }
   ],
   "source": [
    "bike_plot = bike_grouped_proportion.unstack().plot(kind='bar', stacked=True)\n",
    "bike_plot.legend(bbox_to_anchor=(1.2, 1))"
   ]
  },
  {
   "cell_type": "markdown",
   "metadata": {},
   "source": [
    "<h3 align=\"center\"> B3.4 </h3> \n",
    "Considering only trips that begin in the morning hours (before noon), plot in a single bar chart the proportion of trips by passholder type and trip route category. Explain any outliers you observe"
   ]
  },
  {
   "cell_type": "code",
   "execution_count": 32,
   "metadata": {
    "scrolled": true
   },
   "outputs": [
    {
     "data": {
      "text/plain": [
       "Bike ID                              float64\n",
       "Duration                               int64\n",
       "End Time                              object\n",
       "Ending Station ID                    float64\n",
       "Ending Station Latitude              float64\n",
       "Ending Station Longitude             float64\n",
       "Passholder Type                       object\n",
       "Plan Duration                        float64\n",
       "Start Time                    datetime64[ns]\n",
       "Starting Station ID                  float64\n",
       "Starting Station Latitude            float64\n",
       "Starting Station Longitude           float64\n",
       "Trip ID                                int64\n",
       "Trip Route Category                   object\n",
       "dtype: object"
      ]
     },
     "execution_count": 32,
     "metadata": {},
     "output_type": "execute_result"
    }
   ],
   "source": [
    "bike_share_trip.dtypes"
   ]
  },
  {
   "cell_type": "code",
   "execution_count": 33,
   "metadata": {},
   "outputs": [
    {
     "data": {
      "text/plain": [
       "0     4\n",
       "1     6\n",
       "2    10\n",
       "3    10\n",
       "4    12\n",
       "Name: Start Time, dtype: int64"
      ]
     },
     "execution_count": 33,
     "metadata": {},
     "output_type": "execute_result"
    }
   ],
   "source": [
    "bike_share_trip['Start Time'].dt.hour.head()"
   ]
  },
  {
   "cell_type": "code",
   "execution_count": 34,
   "metadata": {},
   "outputs": [
    {
     "name": "stdout",
     "output_type": "stream",
     "text": [
      "Trip Route Category  Passholder Type\n",
      "One Way              Flex Pass           2653\n",
      "                     Monthly Pass       24570\n",
      "                     Staff Annual          97\n",
      "                     Walk-up             7510\n",
      "Round Trip           Flex Pass            126\n",
      "                     Monthly Pass        1056\n",
      "                     Staff Annual          39\n",
      "                     Walk-up             2129\n",
      "dtype: int64\n"
     ]
    },
    {
     "data": {
      "text/plain": [
       "<matplotlib.axes._subplots.AxesSubplot at 0x164d8e35be0>"
      ]
     },
     "execution_count": 34,
     "metadata": {},
     "output_type": "execute_result"
    },
    {
     "data": {
      "image/png": "[encoded data removed]",
      "text/plain": [
       "<Figure size 432x288 with 1 Axes>"
      ]
     },
     "metadata": {},
     "output_type": "display_data"
    }
   ],
   "source": [
    "#bike_share_trip.query('Start Time')\n",
    "morning_trips = bike_share_trip.loc[bike_share_trip['Start Time'].dt.hour < 12]\n",
    "grouped_morning_trips = morning_trips.groupby(['Trip Route Category', 'Passholder Type']).size()\n",
    "print(grouped_morning_trips)\n",
    "grouped_morning_trips.plot(kind='bar')"
   ]
  },
  {
   "cell_type": "code",
   "execution_count": 35,
   "metadata": {
    "scrolled": true
   },
   "outputs": [
    {
     "name": "stdout",
     "output_type": "stream",
     "text": [
      "Trip Route Category  Passholder Type\n",
      "One Way              Flex Pass          0.069487\n",
      "                     Monthly Pass       0.643531\n",
      "                     Staff Annual       0.002541\n",
      "                     Walk-up            0.196700\n",
      "Round Trip           Flex Pass          0.003300\n",
      "                     Monthly Pass       0.027658\n",
      "                     Staff Annual       0.001021\n",
      "                     Walk-up            0.055762\n",
      "dtype: float64\n"
     ]
    }
   ],
   "source": [
    "grouped_morning_trips_proportion = grouped_morning_trips / morning_trips.shape[0]\n",
    "print(grouped_morning_trips_proportion)\n"
   ]
  },
  {
   "cell_type": "code",
   "execution_count": 36,
   "metadata": {},
   "outputs": [
    {
     "data": {
      "text/plain": [
       "<matplotlib.axes._subplots.AxesSubplot at 0x164d8c389e8>"
      ]
     },
     "execution_count": 36,
     "metadata": {},
     "output_type": "execute_result"
    },
    {
     "data": {
      "image/png": "[encoded data removed]",
      "text/plain": [
       "<Figure size 432x288 with 1 Axes>"
      ]
     },
     "metadata": {},
     "output_type": "display_data"
    }
   ],
   "source": [
    "grouped_morning_trips_proportion.plot(kind='bar')"
   ]
  },
  {
   "cell_type": "markdown",
   "metadata": {},
   "source": [
    "using loc instead of query, because column name contains spaces in it *alternatively we could have replaces column names with underscores everytime there is a space"
   ]
  },
  {
   "cell_type": "markdown",
   "metadata": {},
   "source": [
    "<h3 align=\"center\"> B3.5 </h3> \n",
    "Separate the hours of the day into two intervals that have (approximately) the same number of bikes leaving the stations. For each of the two intervals calculate the proportion of trips by passholder type and trip route category. Present your results in a DataFrame which has a unique, non-composite index. Does the proportion of trips depend on whether it is the first or second hour interval? Would the company have any significant benefit by creating a more complex paying scheme where monthly pass users would pay less in the first interval and (equally) more on the second one? Assume that the number of trips per interval will not change if the scheme changes."
   ]
  },
  {
   "cell_type": "code",
   "execution_count": 37,
   "metadata": {},
   "outputs": [
    {
     "data": {
      "text/plain": [
       "count    132427.000000\n",
       "mean         14.069895\n",
       "std           4.949172\n",
       "min           0.000000\n",
       "25%          11.000000\n",
       "50%          14.000000\n",
       "75%          18.000000\n",
       "max          23.000000\n",
       "Name: Start Time, dtype: float64"
      ]
     },
     "execution_count": 37,
     "metadata": {},
     "output_type": "execute_result"
    }
   ],
   "source": [
    "bike_share_trip['Start Time'].dt.hour.describe()"
   ]
  },
  {
   "cell_type": "code",
   "execution_count": 38,
   "metadata": {},
   "outputs": [
    {
     "name": "stdout",
     "output_type": "stream",
     "text": [
      "14.0\n",
      "0    (-0.001, 14.0]\n",
      "1    (-0.001, 14.0]\n",
      "2    (-0.001, 14.0]\n",
      "3    (-0.001, 14.0]\n",
      "4    (-0.001, 14.0]\n",
      "Name: Start Time, dtype: category\n",
      "Categories (2, interval[float64]): [(-0.001, 14.0] < (14.0, 23.0]]\n",
      "(-0.001, 14.0]    66477\n",
      "(14.0, 23.0]      65950\n",
      "Name: Start Time, dtype: int64\n"
     ]
    }
   ],
   "source": [
    "#Seperate the hours of the day\n",
    "median = bike_share_trip['Start Time'].dt.hour.quantile(0.5)\n",
    "print(median)\n",
    "median_cut = pd.qcut(bike_share_trip['Start Time'].dt.hour, 2)\n",
    "print(median_cut.head())\n",
    "print(median_cut.value_counts())"
   ]
  },
  {
   "cell_type": "code",
   "execution_count": 39,
   "metadata": {},
   "outputs": [
    {
     "data": {
      "text/plain": [
       "Start Time      Passholder Type  Trip Route Category\n",
       "(-0.001, 14.0]  Flex Pass        One Way                 4619\n",
       "                                 Round Trip               268\n",
       "                Monthly Pass     One Way                39362\n",
       "                                 Round Trip              2067\n",
       "                Staff Annual     One Way                  183\n",
       "                                 Round Trip                59\n",
       "                Walk-up          One Way                15733\n",
       "                                 Round Trip              4186\n",
       "(14.0, 23.0]    Flex Pass        One Way                 4415\n",
       "                                 Round Trip               215\n",
       "                Monthly Pass     One Way                38170\n",
       "                                 Round Trip              1705\n",
       "                Staff Annual     One Way                  116\n",
       "                                 Round Trip                24\n",
       "                Walk-up          One Way                17044\n",
       "                                 Round Trip              4261\n",
       "dtype: int64"
      ]
     },
     "execution_count": 39,
     "metadata": {},
     "output_type": "execute_result"
    }
   ],
   "source": [
    "groups = bike_share_trip.groupby([median_cut, 'Passholder Type', 'Trip Route Category']).size() \n",
    "groups"
   ]
  },
  {
   "cell_type": "code",
   "execution_count": 41,
   "metadata": {},
   "outputs": [],
   "source": [
    "groups_proportion = groups.groupby(level=0).apply(lambda x:\n",
    "                                                 x / float(x.sum()))\n",
    "#groups_proportion.set_index('Start Time')"
   ]
  },
  {
   "cell_type": "markdown",
   "metadata": {},
   "source": [
    "start_time: The date/time when the trip began, presented in ISO 8601 format in local time\n",
    "meaning that Date and time values are ordered from the largest to smallest unit of time, thus lexicographical order corresponds to the chronological order"
   ]
  },
  {
   "cell_type": "markdown",
   "metadata": {},
   "source": [
    "__\\* Briefly explain your approach for every query here \\*__"
   ]
  },
  {
   "cell_type": "code",
   "execution_count": null,
   "metadata": {},
   "outputs": [],
   "source": []
  }
 ],
 "metadata": {
  "kernelspec": {
   "display_name": "Python 3",
   "language": "python",
   "name": "python3"
  },
  "language_info": {
   "codemirror_mode": {
    "name": "ipython",
    "version": 3
   },
   "file_extension": ".py",
   "mimetype": "text/x-python",
   "name": "python",
   "nbconvert_exporter": "python",
   "pygments_lexer": "ipython3",
   "version": "3.6.5"
  }
 },
 "nbformat": 4,
 "nbformat_minor": 2
}
